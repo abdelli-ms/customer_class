{
 "cells": [
  {
   "cell_type": "code",
   "execution_count": 1,
   "id": "alive-league",
   "metadata": {
    "_cell_guid": "b1076dfc-b9ad-4769-8c92-a6c4dae69d19",
    "_uuid": "8f2839f25d086af736a60e9eeb907d3b93b6e0e5",
    "execution": {
     "iopub.execute_input": "2021-05-26T11:19:25.962016Z",
     "iopub.status.busy": "2021-05-26T11:19:25.961295Z",
     "iopub.status.idle": "2021-05-26T11:19:28.091325Z",
     "shell.execute_reply": "2021-05-26T11:19:28.090653Z",
     "shell.execute_reply.started": "2021-05-26T11:09:57.028194Z"
    },
    "papermill": {
     "duration": 2.180089,
     "end_time": "2021-05-26T11:19:28.091495",
     "exception": false,
     "start_time": "2021-05-26T11:19:25.911406",
     "status": "completed"
    },
    "tags": []
   },
   "outputs": [
    {
     "data": {
      "text/html": [
       "        <script type=\"text/javascript\">\n",
       "        window.PlotlyConfig = {MathJaxConfig: 'local'};\n",
       "        if (window.MathJax) {MathJax.Hub.Config({SVG: {font: \"STIX-Web\"}});}\n",
       "        if (typeof require !== 'undefined') {\n",
       "        require.undef(\"plotly\");\n",
       "        requirejs.config({\n",
       "            paths: {\n",
       "                'plotly': ['https://cdn.plot.ly/plotly-latest.min']\n",
       "            }\n",
       "        });\n",
       "        require(['plotly'], function(Plotly) {\n",
       "            window._Plotly = Plotly;\n",
       "        });\n",
       "        }\n",
       "        </script>\n",
       "        "
      ]
     },
     "metadata": {},
     "output_type": "display_data"
    },
    {
     "name": "stdout",
     "output_type": "stream",
     "text": [
      "/kaggle/input/customer-segmentation/Train.csv\n",
      "/kaggle/input/customer-segmentation/Test.csv\n"
     ]
    }
   ],
   "source": [
    "# This Python 3 environment comes with many helpful analytics libraries installed\n",
    "# It is defined by the kaggle/python Docker image: https://github.com/kaggle/docker-python\n",
    "# For example, here's several helpful packages to load\n",
    "\n",
    "import numpy as np # linear algebra\n",
    "import pandas as pd # data processing, CSV file I/O (e.g. pd.read_csv)\n",
    "import matplotlib.pyplot as plt\n",
    "import seaborn as sns\n",
    "import plotly.express as px\n",
    "from plotly.offline import init_notebook_mode\n",
    "init_notebook_mode(connected = True)\n",
    "\n",
    "# Input data files are available in the read-only \"../input/\" directory\n",
    "# For example, running this (by clicking run or pressing Shift+Enter) will list all files under the input directory\n",
    "\n",
    "import os\n",
    "for dirname, _, filenames in os.walk('/kaggle/input'):\n",
    "    for filename in filenames:\n",
    "        print(os.path.join(dirname, filename))\n",
    "\n",
    "# You can write up to 20GB to the current directory (/kaggle/working/) that gets preserved as output when you create a version using \"Save & Run All\" \n",
    "# You can also write temporary files to /kaggle/temp/, but they won't be saved outside of the current session"
   ]
  },
  {
   "cell_type": "code",
   "execution_count": 2,
   "id": "effective-theater",
   "metadata": {
    "execution": {
     "iopub.execute_input": "2021-05-26T11:19:28.172304Z",
     "iopub.status.busy": "2021-05-26T11:19:28.171606Z",
     "iopub.status.idle": "2021-05-26T11:19:28.231898Z",
     "shell.execute_reply": "2021-05-26T11:19:28.232463Z",
     "shell.execute_reply.started": "2021-05-26T11:09:57.623331Z"
    },
    "papermill": {
     "duration": 0.102787,
     "end_time": "2021-05-26T11:19:28.232635",
     "exception": false,
     "start_time": "2021-05-26T11:19:28.129848",
     "status": "completed"
    },
    "tags": []
   },
   "outputs": [
    {
     "data": {
      "text/html": [
       "<div>\n",
       "<style scoped>\n",
       "    .dataframe tbody tr th:only-of-type {\n",
       "        vertical-align: middle;\n",
       "    }\n",
       "\n",
       "    .dataframe tbody tr th {\n",
       "        vertical-align: top;\n",
       "    }\n",
       "\n",
       "    .dataframe thead th {\n",
       "        text-align: right;\n",
       "    }\n",
       "</style>\n",
       "<table border=\"1\" class=\"dataframe\">\n",
       "  <thead>\n",
       "    <tr style=\"text-align: right;\">\n",
       "      <th></th>\n",
       "      <th>ID</th>\n",
       "      <th>Gender</th>\n",
       "      <th>Ever_Married</th>\n",
       "      <th>Age</th>\n",
       "      <th>Graduated</th>\n",
       "      <th>Profession</th>\n",
       "      <th>Work_Experience</th>\n",
       "      <th>Spending_Score</th>\n",
       "      <th>Family_Size</th>\n",
       "      <th>Var_1</th>\n",
       "      <th>Segmentation</th>\n",
       "    </tr>\n",
       "  </thead>\n",
       "  <tbody>\n",
       "    <tr>\n",
       "      <th>0</th>\n",
       "      <td>462809</td>\n",
       "      <td>Male</td>\n",
       "      <td>No</td>\n",
       "      <td>22</td>\n",
       "      <td>No</td>\n",
       "      <td>Healthcare</td>\n",
       "      <td>1.0</td>\n",
       "      <td>Low</td>\n",
       "      <td>4.0</td>\n",
       "      <td>Cat_4</td>\n",
       "      <td>D</td>\n",
       "    </tr>\n",
       "    <tr>\n",
       "      <th>1</th>\n",
       "      <td>462643</td>\n",
       "      <td>Female</td>\n",
       "      <td>Yes</td>\n",
       "      <td>38</td>\n",
       "      <td>Yes</td>\n",
       "      <td>Engineer</td>\n",
       "      <td>NaN</td>\n",
       "      <td>Average</td>\n",
       "      <td>3.0</td>\n",
       "      <td>Cat_4</td>\n",
       "      <td>A</td>\n",
       "    </tr>\n",
       "    <tr>\n",
       "      <th>2</th>\n",
       "      <td>466315</td>\n",
       "      <td>Female</td>\n",
       "      <td>Yes</td>\n",
       "      <td>67</td>\n",
       "      <td>Yes</td>\n",
       "      <td>Engineer</td>\n",
       "      <td>1.0</td>\n",
       "      <td>Low</td>\n",
       "      <td>1.0</td>\n",
       "      <td>Cat_6</td>\n",
       "      <td>B</td>\n",
       "    </tr>\n",
       "    <tr>\n",
       "      <th>3</th>\n",
       "      <td>461735</td>\n",
       "      <td>Male</td>\n",
       "      <td>Yes</td>\n",
       "      <td>67</td>\n",
       "      <td>Yes</td>\n",
       "      <td>Lawyer</td>\n",
       "      <td>0.0</td>\n",
       "      <td>High</td>\n",
       "      <td>2.0</td>\n",
       "      <td>Cat_6</td>\n",
       "      <td>B</td>\n",
       "    </tr>\n",
       "    <tr>\n",
       "      <th>4</th>\n",
       "      <td>462669</td>\n",
       "      <td>Female</td>\n",
       "      <td>Yes</td>\n",
       "      <td>40</td>\n",
       "      <td>Yes</td>\n",
       "      <td>Entertainment</td>\n",
       "      <td>NaN</td>\n",
       "      <td>High</td>\n",
       "      <td>6.0</td>\n",
       "      <td>Cat_6</td>\n",
       "      <td>A</td>\n",
       "    </tr>\n",
       "  </tbody>\n",
       "</table>\n",
       "</div>"
      ],
      "text/plain": [
       "       ID  Gender Ever_Married  Age Graduated     Profession  Work_Experience  \\\n",
       "0  462809    Male           No   22        No     Healthcare              1.0   \n",
       "1  462643  Female          Yes   38       Yes       Engineer              NaN   \n",
       "2  466315  Female          Yes   67       Yes       Engineer              1.0   \n",
       "3  461735    Male          Yes   67       Yes         Lawyer              0.0   \n",
       "4  462669  Female          Yes   40       Yes  Entertainment              NaN   \n",
       "\n",
       "  Spending_Score  Family_Size  Var_1 Segmentation  \n",
       "0            Low          4.0  Cat_4            D  \n",
       "1        Average          3.0  Cat_4            A  \n",
       "2            Low          1.0  Cat_6            B  \n",
       "3           High          2.0  Cat_6            B  \n",
       "4           High          6.0  Cat_6            A  "
      ]
     },
     "execution_count": 2,
     "metadata": {},
     "output_type": "execute_result"
    }
   ],
   "source": [
    "data = pd.read_csv('/kaggle/input/customer-segmentation/Train.csv')\n",
    "data.head()"
   ]
  },
  {
   "cell_type": "markdown",
   "id": "static-remark",
   "metadata": {
    "papermill": {
     "duration": 0.038039,
     "end_time": "2021-05-26T11:19:28.309479",
     "exception": false,
     "start_time": "2021-05-26T11:19:28.271440",
     "status": "completed"
    },
    "tags": []
   },
   "source": [
    "|Variable|\tDefinition|\n",
    "|---|---|\n",
    "|ID\tUnique| ID|\n",
    "|Gender|\tGender of the customer|\n",
    "|Ever_Married|\tMarital status of the customer|\n",
    "|Age|\tAge of the customer|\n",
    "|Graduated|\tIs the customer a graduate?|\n",
    "|Profession|\tProfession of the customer|\n",
    "|Work_Experience|\tWork Experience in years|\n",
    "|Spending_Score|\tSpending score of the customer|\n",
    "|Family_Size|\tNumber of family members for the customer (including the customer)|\n",
    "|Var_1|\tAnonymised Category for the customer|\n",
    "|Segmentation|\t(target) Customer Segment of the customer|"
   ]
  },
  {
   "cell_type": "code",
   "execution_count": 3,
   "id": "quick-schema",
   "metadata": {
    "execution": {
     "iopub.execute_input": "2021-05-26T11:19:28.389982Z",
     "iopub.status.busy": "2021-05-26T11:19:28.389004Z",
     "iopub.status.idle": "2021-05-26T11:19:28.416272Z",
     "shell.execute_reply": "2021-05-26T11:19:28.415387Z",
     "shell.execute_reply.started": "2021-05-26T11:10:01.345310Z"
    },
    "papermill": {
     "duration": 0.068704,
     "end_time": "2021-05-26T11:19:28.416506",
     "exception": false,
     "start_time": "2021-05-26T11:19:28.347802",
     "status": "completed"
    },
    "tags": []
   },
   "outputs": [
    {
     "name": "stdout",
     "output_type": "stream",
     "text": [
      "<class 'pandas.core.frame.DataFrame'>\n",
      "RangeIndex: 8068 entries, 0 to 8067\n",
      "Data columns (total 11 columns):\n",
      " #   Column           Non-Null Count  Dtype  \n",
      "---  ------           --------------  -----  \n",
      " 0   ID               8068 non-null   int64  \n",
      " 1   Gender           8068 non-null   object \n",
      " 2   Ever_Married     7928 non-null   object \n",
      " 3   Age              8068 non-null   int64  \n",
      " 4   Graduated        7990 non-null   object \n",
      " 5   Profession       7944 non-null   object \n",
      " 6   Work_Experience  7239 non-null   float64\n",
      " 7   Spending_Score   8068 non-null   object \n",
      " 8   Family_Size      7733 non-null   float64\n",
      " 9   Var_1            7992 non-null   object \n",
      " 10  Segmentation     8068 non-null   object \n",
      "dtypes: float64(2), int64(2), object(7)\n",
      "memory usage: 693.5+ KB\n"
     ]
    }
   ],
   "source": [
    "data.info()"
   ]
  },
  {
   "cell_type": "markdown",
   "id": "liked-button",
   "metadata": {
    "papermill": {
     "duration": 0.038704,
     "end_time": "2021-05-26T11:19:28.494627",
     "exception": false,
     "start_time": "2021-05-26T11:19:28.455923",
     "status": "completed"
    },
    "tags": []
   },
   "source": [
    "# EDA"
   ]
  },
  {
   "cell_type": "code",
   "execution_count": 4,
   "id": "behavioral-statement",
   "metadata": {
    "execution": {
     "iopub.execute_input": "2021-05-26T11:19:28.580894Z",
     "iopub.status.busy": "2021-05-26T11:19:28.579920Z",
     "iopub.status.idle": "2021-05-26T11:19:29.588198Z",
     "shell.execute_reply": "2021-05-26T11:19:29.588688Z",
     "shell.execute_reply.started": "2021-05-26T06:08:03.212598Z"
    },
    "papermill": {
     "duration": 1.055566,
     "end_time": "2021-05-26T11:19:29.588881",
     "exception": false,
     "start_time": "2021-05-26T11:19:28.533315",
     "status": "completed"
    },
    "tags": []
   },
   "outputs": [
    {
     "data": {
      "application/vnd.plotly.v1+json": {
       "config": {
        "plotlyServerURL": "https://plot.ly"
       },
       "data": [
        {
         "domain": {
          "x": [
           0.0,
           1.0
          ],
          "y": [
           0.0,
           1.0
          ]
         },
         "hole": 0.5,
         "hovertemplate": "Segmentation=%{label}<br>count=%{value}<extra></extra>",
         "labels": [
          "A",
          "B",
          "C",
          "D"
         ],
         "legendgroup": "",
         "marker": {
          "colors": [
           "#2A3132",
           "#336B87"
          ],
          "line": {
           "color": "white",
           "width": 2
          }
         },
         "name": "",
         "showlegend": true,
         "textinfo": "percent+label",
         "textposition": "inside",
         "type": "pie",
         "values": [
          1972,
          1858,
          1970,
          2268
         ]
        }
       ],
       "layout": {
        "legend": {
         "tracegroupgap": 0
        },
        "margin": {
         "t": 60
        },
        "showlegend": false,
        "template": {
         "data": {
          "bar": [
           {
            "error_x": {
             "color": "#2a3f5f"
            },
            "error_y": {
             "color": "#2a3f5f"
            },
            "marker": {
             "line": {
              "color": "#E5ECF6",
              "width": 0.5
             }
            },
            "type": "bar"
           }
          ],
          "barpolar": [
           {
            "marker": {
             "line": {
              "color": "#E5ECF6",
              "width": 0.5
             }
            },
            "type": "barpolar"
           }
          ],
          "carpet": [
           {
            "aaxis": {
             "endlinecolor": "#2a3f5f",
             "gridcolor": "white",
             "linecolor": "white",
             "minorgridcolor": "white",
             "startlinecolor": "#2a3f5f"
            },
            "baxis": {
             "endlinecolor": "#2a3f5f",
             "gridcolor": "white",
             "linecolor": "white",
             "minorgridcolor": "white",
             "startlinecolor": "#2a3f5f"
            },
            "type": "carpet"
           }
          ],
          "choropleth": [
           {
            "colorbar": {
             "outlinewidth": 0,
             "ticks": ""
            },
            "type": "choropleth"
           }
          ],
          "contour": [
           {
            "colorbar": {
             "outlinewidth": 0,
             "ticks": ""
            },
            "colorscale": [
             [
              0.0,
              "#0d0887"
             ],
             [
              0.1111111111111111,
              "#46039f"
             ],
             [
              0.2222222222222222,
              "#7201a8"
             ],
             [
              0.3333333333333333,
              "#9c179e"
             ],
             [
              0.4444444444444444,
              "#bd3786"
             ],
             [
              0.5555555555555556,
              "#d8576b"
             ],
             [
              0.6666666666666666,
              "#ed7953"
             ],
             [
              0.7777777777777778,
              "#fb9f3a"
             ],
             [
              0.8888888888888888,
              "#fdca26"
             ],
             [
              1.0,
              "#f0f921"
             ]
            ],
            "type": "contour"
           }
          ],
          "contourcarpet": [
           {
            "colorbar": {
             "outlinewidth": 0,
             "ticks": ""
            },
            "type": "contourcarpet"
           }
          ],
          "heatmap": [
           {
            "colorbar": {
             "outlinewidth": 0,
             "ticks": ""
            },
            "colorscale": [
             [
              0.0,
              "#0d0887"
             ],
             [
              0.1111111111111111,
              "#46039f"
             ],
             [
              0.2222222222222222,
              "#7201a8"
             ],
             [
              0.3333333333333333,
              "#9c179e"
             ],
             [
              0.4444444444444444,
              "#bd3786"
             ],
             [
              0.5555555555555556,
              "#d8576b"
             ],
             [
              0.6666666666666666,
              "#ed7953"
             ],
             [
              0.7777777777777778,
              "#fb9f3a"
             ],
             [
              0.8888888888888888,
              "#fdca26"
             ],
             [
              1.0,
              "#f0f921"
             ]
            ],
            "type": "heatmap"
           }
          ],
          "heatmapgl": [
           {
            "colorbar": {
             "outlinewidth": 0,
             "ticks": ""
            },
            "colorscale": [
             [
              0.0,
              "#0d0887"
             ],
             [
              0.1111111111111111,
              "#46039f"
             ],
             [
              0.2222222222222222,
              "#7201a8"
             ],
             [
              0.3333333333333333,
              "#9c179e"
             ],
             [
              0.4444444444444444,
              "#bd3786"
             ],
             [
              0.5555555555555556,
              "#d8576b"
             ],
             [
              0.6666666666666666,
              "#ed7953"
             ],
             [
              0.7777777777777778,
              "#fb9f3a"
             ],
             [
              0.8888888888888888,
              "#fdca26"
             ],
             [
              1.0,
              "#f0f921"
             ]
            ],
            "type": "heatmapgl"
           }
          ],
          "histogram": [
           {
            "marker": {
             "colorbar": {
              "outlinewidth": 0,
              "ticks": ""
             }
            },
            "type": "histogram"
           }
          ],
          "histogram2d": [
           {
            "colorbar": {
             "outlinewidth": 0,
             "ticks": ""
            },
            "colorscale": [
             [
              0.0,
              "#0d0887"
             ],
             [
              0.1111111111111111,
              "#46039f"
             ],
             [
              0.2222222222222222,
              "#7201a8"
             ],
             [
              0.3333333333333333,
              "#9c179e"
             ],
             [
              0.4444444444444444,
              "#bd3786"
             ],
             [
              0.5555555555555556,
              "#d8576b"
             ],
             [
              0.6666666666666666,
              "#ed7953"
             ],
             [
              0.7777777777777778,
              "#fb9f3a"
             ],
             [
              0.8888888888888888,
              "#fdca26"
             ],
             [
              1.0,
              "#f0f921"
             ]
            ],
            "type": "histogram2d"
           }
          ],
          "histogram2dcontour": [
           {
            "colorbar": {
             "outlinewidth": 0,
             "ticks": ""
            },
            "colorscale": [
             [
              0.0,
              "#0d0887"
             ],
             [
              0.1111111111111111,
              "#46039f"
             ],
             [
              0.2222222222222222,
              "#7201a8"
             ],
             [
              0.3333333333333333,
              "#9c179e"
             ],
             [
              0.4444444444444444,
              "#bd3786"
             ],
             [
              0.5555555555555556,
              "#d8576b"
             ],
             [
              0.6666666666666666,
              "#ed7953"
             ],
             [
              0.7777777777777778,
              "#fb9f3a"
             ],
             [
              0.8888888888888888,
              "#fdca26"
             ],
             [
              1.0,
              "#f0f921"
             ]
            ],
            "type": "histogram2dcontour"
           }
          ],
          "mesh3d": [
           {
            "colorbar": {
             "outlinewidth": 0,
             "ticks": ""
            },
            "type": "mesh3d"
           }
          ],
          "parcoords": [
           {
            "line": {
             "colorbar": {
              "outlinewidth": 0,
              "ticks": ""
             }
            },
            "type": "parcoords"
           }
          ],
          "pie": [
           {
            "automargin": true,
            "type": "pie"
           }
          ],
          "scatter": [
           {
            "marker": {
             "colorbar": {
              "outlinewidth": 0,
              "ticks": ""
             }
            },
            "type": "scatter"
           }
          ],
          "scatter3d": [
           {
            "line": {
             "colorbar": {
              "outlinewidth": 0,
              "ticks": ""
             }
            },
            "marker": {
             "colorbar": {
              "outlinewidth": 0,
              "ticks": ""
             }
            },
            "type": "scatter3d"
           }
          ],
          "scattercarpet": [
           {
            "marker": {
             "colorbar": {
              "outlinewidth": 0,
              "ticks": ""
             }
            },
            "type": "scattercarpet"
           }
          ],
          "scattergeo": [
           {
            "marker": {
             "colorbar": {
              "outlinewidth": 0,
              "ticks": ""
             }
            },
            "type": "scattergeo"
           }
          ],
          "scattergl": [
           {
            "marker": {
             "colorbar": {
              "outlinewidth": 0,
              "ticks": ""
             }
            },
            "type": "scattergl"
           }
          ],
          "scattermapbox": [
           {
            "marker": {
             "colorbar": {
              "outlinewidth": 0,
              "ticks": ""
             }
            },
            "type": "scattermapbox"
           }
          ],
          "scatterpolar": [
           {
            "marker": {
             "colorbar": {
              "outlinewidth": 0,
              "ticks": ""
             }
            },
            "type": "scatterpolar"
           }
          ],
          "scatterpolargl": [
           {
            "marker": {
             "colorbar": {
              "outlinewidth": 0,
              "ticks": ""
             }
            },
            "type": "scatterpolargl"
           }
          ],
          "scatterternary": [
           {
            "marker": {
             "colorbar": {
              "outlinewidth": 0,
              "ticks": ""
             }
            },
            "type": "scatterternary"
           }
          ],
          "surface": [
           {
            "colorbar": {
             "outlinewidth": 0,
             "ticks": ""
            },
            "colorscale": [
             [
              0.0,
              "#0d0887"
             ],
             [
              0.1111111111111111,
              "#46039f"
             ],
             [
              0.2222222222222222,
              "#7201a8"
             ],
             [
              0.3333333333333333,
              "#9c179e"
             ],
             [
              0.4444444444444444,
              "#bd3786"
             ],
             [
              0.5555555555555556,
              "#d8576b"
             ],
             [
              0.6666666666666666,
              "#ed7953"
             ],
             [
              0.7777777777777778,
              "#fb9f3a"
             ],
             [
              0.8888888888888888,
              "#fdca26"
             ],
             [
              1.0,
              "#f0f921"
             ]
            ],
            "type": "surface"
           }
          ],
          "table": [
           {
            "cells": {
             "fill": {
              "color": "#EBF0F8"
             },
             "line": {
              "color": "white"
             }
            },
            "header": {
             "fill": {
              "color": "#C8D4E3"
             },
             "line": {
              "color": "white"
             }
            },
            "type": "table"
           }
          ]
         },
         "layout": {
          "annotationdefaults": {
           "arrowcolor": "#2a3f5f",
           "arrowhead": 0,
           "arrowwidth": 1
          },
          "autotypenumbers": "strict",
          "coloraxis": {
           "colorbar": {
            "outlinewidth": 0,
            "ticks": ""
           }
          },
          "colorscale": {
           "diverging": [
            [
             0,
             "#8e0152"
            ],
            [
             0.1,
             "#c51b7d"
            ],
            [
             0.2,
             "#de77ae"
            ],
            [
             0.3,
             "#f1b6da"
            ],
            [
             0.4,
             "#fde0ef"
            ],
            [
             0.5,
             "#f7f7f7"
            ],
            [
             0.6,
             "#e6f5d0"
            ],
            [
             0.7,
             "#b8e186"
            ],
            [
             0.8,
             "#7fbc41"
            ],
            [
             0.9,
             "#4d9221"
            ],
            [
             1,
             "#276419"
            ]
           ],
           "sequential": [
            [
             0.0,
             "#0d0887"
            ],
            [
             0.1111111111111111,
             "#46039f"
            ],
            [
             0.2222222222222222,
             "#7201a8"
            ],
            [
             0.3333333333333333,
             "#9c179e"
            ],
            [
             0.4444444444444444,
             "#bd3786"
            ],
            [
             0.5555555555555556,
             "#d8576b"
            ],
            [
             0.6666666666666666,
             "#ed7953"
            ],
            [
             0.7777777777777778,
             "#fb9f3a"
            ],
            [
             0.8888888888888888,
             "#fdca26"
            ],
            [
             1.0,
             "#f0f921"
            ]
           ],
           "sequentialminus": [
            [
             0.0,
             "#0d0887"
            ],
            [
             0.1111111111111111,
             "#46039f"
            ],
            [
             0.2222222222222222,
             "#7201a8"
            ],
            [
             0.3333333333333333,
             "#9c179e"
            ],
            [
             0.4444444444444444,
             "#bd3786"
            ],
            [
             0.5555555555555556,
             "#d8576b"
            ],
            [
             0.6666666666666666,
             "#ed7953"
            ],
            [
             0.7777777777777778,
             "#fb9f3a"
            ],
            [
             0.8888888888888888,
             "#fdca26"
            ],
            [
             1.0,
             "#f0f921"
            ]
           ]
          },
          "colorway": [
           "#636efa",
           "#EF553B",
           "#00cc96",
           "#ab63fa",
           "#FFA15A",
           "#19d3f3",
           "#FF6692",
           "#B6E880",
           "#FF97FF",
           "#FECB52"
          ],
          "font": {
           "color": "#2a3f5f"
          },
          "geo": {
           "bgcolor": "white",
           "lakecolor": "white",
           "landcolor": "#E5ECF6",
           "showlakes": true,
           "showland": true,
           "subunitcolor": "white"
          },
          "hoverlabel": {
           "align": "left"
          },
          "hovermode": "closest",
          "mapbox": {
           "style": "light"
          },
          "paper_bgcolor": "white",
          "plot_bgcolor": "#E5ECF6",
          "polar": {
           "angularaxis": {
            "gridcolor": "white",
            "linecolor": "white",
            "ticks": ""
           },
           "bgcolor": "#E5ECF6",
           "radialaxis": {
            "gridcolor": "white",
            "linecolor": "white",
            "ticks": ""
           }
          },
          "scene": {
           "xaxis": {
            "backgroundcolor": "#E5ECF6",
            "gridcolor": "white",
            "gridwidth": 2,
            "linecolor": "white",
            "showbackground": true,
            "ticks": "",
            "zerolinecolor": "white"
           },
           "yaxis": {
            "backgroundcolor": "#E5ECF6",
            "gridcolor": "white",
            "gridwidth": 2,
            "linecolor": "white",
            "showbackground": true,
            "ticks": "",
            "zerolinecolor": "white"
           },
           "zaxis": {
            "backgroundcolor": "#E5ECF6",
            "gridcolor": "white",
            "gridwidth": 2,
            "linecolor": "white",
            "showbackground": true,
            "ticks": "",
            "zerolinecolor": "white"
           }
          },
          "shapedefaults": {
           "line": {
            "color": "#2a3f5f"
           }
          },
          "ternary": {
           "aaxis": {
            "gridcolor": "white",
            "linecolor": "white",
            "ticks": ""
           },
           "baxis": {
            "gridcolor": "white",
            "linecolor": "white",
            "ticks": ""
           },
           "bgcolor": "#E5ECF6",
           "caxis": {
            "gridcolor": "white",
            "linecolor": "white",
            "ticks": ""
           }
          },
          "title": {
           "x": 0.05
          },
          "xaxis": {
           "automargin": true,
           "gridcolor": "white",
           "linecolor": "white",
           "ticks": "",
           "title": {
            "standoff": 15
           },
           "zerolinecolor": "white",
           "zerolinewidth": 2
          },
          "yaxis": {
           "automargin": true,
           "gridcolor": "white",
           "linecolor": "white",
           "ticks": "",
           "title": {
            "standoff": 15
           },
           "zerolinecolor": "white",
           "zerolinewidth": 2
          }
         }
        },
        "title": {
         "font": {
          "color": "black",
          "family": "Calibri",
          "size": 26
         },
         "text": "Customer<br>Segmentation",
         "x": 0.5,
         "y": 0.55
        }
       }
      },
      "text/html": [
       "<div>                            <div id=\"0f9148c5-5313-4117-9f61-1cfa71b55628\" class=\"plotly-graph-div\" style=\"height:525px; width:100%;\"></div>            <script type=\"text/javascript\">                require([\"plotly\"], function(Plotly) {                    window.PLOTLYENV=window.PLOTLYENV || {};                                    if (document.getElementById(\"0f9148c5-5313-4117-9f61-1cfa71b55628\")) {                    Plotly.newPlot(                        \"0f9148c5-5313-4117-9f61-1cfa71b55628\",                        [{\"domain\": {\"x\": [0.0, 1.0], \"y\": [0.0, 1.0]}, \"hole\": 0.5, \"hovertemplate\": \"Segmentation=%{label}<br>count=%{value}<extra></extra>\", \"labels\": [\"A\", \"B\", \"C\", \"D\"], \"legendgroup\": \"\", \"marker\": {\"colors\": [\"#2A3132\", \"#336B87\"], \"line\": {\"color\": \"white\", \"width\": 2}}, \"name\": \"\", \"showlegend\": true, \"textinfo\": \"percent+label\", \"textposition\": \"inside\", \"type\": \"pie\", \"values\": [1972, 1858, 1970, 2268]}],                        {\"legend\": {\"tracegroupgap\": 0}, \"margin\": {\"t\": 60}, \"showlegend\": false, \"template\": {\"data\": {\"bar\": [{\"error_x\": {\"color\": \"#2a3f5f\"}, \"error_y\": {\"color\": \"#2a3f5f\"}, \"marker\": {\"line\": {\"color\": \"#E5ECF6\", \"width\": 0.5}}, \"type\": \"bar\"}], \"barpolar\": [{\"marker\": {\"line\": {\"color\": \"#E5ECF6\", \"width\": 0.5}}, \"type\": \"barpolar\"}], \"carpet\": [{\"aaxis\": {\"endlinecolor\": \"#2a3f5f\", \"gridcolor\": \"white\", \"linecolor\": \"white\", \"minorgridcolor\": \"white\", \"startlinecolor\": \"#2a3f5f\"}, \"baxis\": {\"endlinecolor\": \"#2a3f5f\", \"gridcolor\": \"white\", \"linecolor\": \"white\", \"minorgridcolor\": \"white\", \"startlinecolor\": \"#2a3f5f\"}, \"type\": \"carpet\"}], \"choropleth\": [{\"colorbar\": {\"outlinewidth\": 0, \"ticks\": \"\"}, \"type\": \"choropleth\"}], \"contour\": [{\"colorbar\": {\"outlinewidth\": 0, \"ticks\": \"\"}, \"colorscale\": [[0.0, \"#0d0887\"], [0.1111111111111111, \"#46039f\"], [0.2222222222222222, \"#7201a8\"], [0.3333333333333333, \"#9c179e\"], [0.4444444444444444, \"#bd3786\"], [0.5555555555555556, \"#d8576b\"], [0.6666666666666666, \"#ed7953\"], [0.7777777777777778, \"#fb9f3a\"], [0.8888888888888888, \"#fdca26\"], [1.0, \"#f0f921\"]], \"type\": \"contour\"}], \"contourcarpet\": [{\"colorbar\": {\"outlinewidth\": 0, \"ticks\": \"\"}, \"type\": \"contourcarpet\"}], \"heatmap\": [{\"colorbar\": {\"outlinewidth\": 0, \"ticks\": \"\"}, \"colorscale\": [[0.0, \"#0d0887\"], [0.1111111111111111, \"#46039f\"], [0.2222222222222222, \"#7201a8\"], [0.3333333333333333, \"#9c179e\"], [0.4444444444444444, \"#bd3786\"], [0.5555555555555556, \"#d8576b\"], [0.6666666666666666, \"#ed7953\"], [0.7777777777777778, \"#fb9f3a\"], [0.8888888888888888, \"#fdca26\"], [1.0, \"#f0f921\"]], \"type\": \"heatmap\"}], \"heatmapgl\": [{\"colorbar\": {\"outlinewidth\": 0, \"ticks\": \"\"}, \"colorscale\": [[0.0, \"#0d0887\"], [0.1111111111111111, \"#46039f\"], [0.2222222222222222, \"#7201a8\"], [0.3333333333333333, \"#9c179e\"], [0.4444444444444444, \"#bd3786\"], [0.5555555555555556, \"#d8576b\"], [0.6666666666666666, \"#ed7953\"], [0.7777777777777778, \"#fb9f3a\"], [0.8888888888888888, \"#fdca26\"], [1.0, \"#f0f921\"]], \"type\": \"heatmapgl\"}], \"histogram\": [{\"marker\": {\"colorbar\": {\"outlinewidth\": 0, \"ticks\": \"\"}}, \"type\": \"histogram\"}], \"histogram2d\": [{\"colorbar\": {\"outlinewidth\": 0, \"ticks\": \"\"}, \"colorscale\": [[0.0, \"#0d0887\"], [0.1111111111111111, \"#46039f\"], [0.2222222222222222, \"#7201a8\"], [0.3333333333333333, \"#9c179e\"], [0.4444444444444444, \"#bd3786\"], [0.5555555555555556, \"#d8576b\"], [0.6666666666666666, \"#ed7953\"], [0.7777777777777778, \"#fb9f3a\"], [0.8888888888888888, \"#fdca26\"], [1.0, \"#f0f921\"]], \"type\": \"histogram2d\"}], \"histogram2dcontour\": [{\"colorbar\": {\"outlinewidth\": 0, \"ticks\": \"\"}, \"colorscale\": [[0.0, \"#0d0887\"], [0.1111111111111111, \"#46039f\"], [0.2222222222222222, \"#7201a8\"], [0.3333333333333333, \"#9c179e\"], [0.4444444444444444, \"#bd3786\"], [0.5555555555555556, \"#d8576b\"], [0.6666666666666666, \"#ed7953\"], [0.7777777777777778, \"#fb9f3a\"], [0.8888888888888888, \"#fdca26\"], [1.0, \"#f0f921\"]], \"type\": \"histogram2dcontour\"}], \"mesh3d\": [{\"colorbar\": {\"outlinewidth\": 0, \"ticks\": \"\"}, \"type\": \"mesh3d\"}], \"parcoords\": [{\"line\": {\"colorbar\": {\"outlinewidth\": 0, \"ticks\": \"\"}}, \"type\": \"parcoords\"}], \"pie\": [{\"automargin\": true, \"type\": \"pie\"}], \"scatter\": [{\"marker\": {\"colorbar\": {\"outlinewidth\": 0, \"ticks\": \"\"}}, \"type\": \"scatter\"}], \"scatter3d\": [{\"line\": {\"colorbar\": {\"outlinewidth\": 0, \"ticks\": \"\"}}, \"marker\": {\"colorbar\": {\"outlinewidth\": 0, \"ticks\": \"\"}}, \"type\": \"scatter3d\"}], \"scattercarpet\": [{\"marker\": {\"colorbar\": {\"outlinewidth\": 0, \"ticks\": \"\"}}, \"type\": \"scattercarpet\"}], \"scattergeo\": [{\"marker\": {\"colorbar\": {\"outlinewidth\": 0, \"ticks\": \"\"}}, \"type\": \"scattergeo\"}], \"scattergl\": [{\"marker\": {\"colorbar\": {\"outlinewidth\": 0, \"ticks\": \"\"}}, \"type\": \"scattergl\"}], \"scattermapbox\": [{\"marker\": {\"colorbar\": {\"outlinewidth\": 0, \"ticks\": \"\"}}, \"type\": \"scattermapbox\"}], \"scatterpolar\": [{\"marker\": {\"colorbar\": {\"outlinewidth\": 0, \"ticks\": \"\"}}, \"type\": \"scatterpolar\"}], \"scatterpolargl\": [{\"marker\": {\"colorbar\": {\"outlinewidth\": 0, \"ticks\": \"\"}}, \"type\": \"scatterpolargl\"}], \"scatterternary\": [{\"marker\": {\"colorbar\": {\"outlinewidth\": 0, \"ticks\": \"\"}}, \"type\": \"scatterternary\"}], \"surface\": [{\"colorbar\": {\"outlinewidth\": 0, \"ticks\": \"\"}, \"colorscale\": [[0.0, \"#0d0887\"], [0.1111111111111111, \"#46039f\"], [0.2222222222222222, \"#7201a8\"], [0.3333333333333333, \"#9c179e\"], [0.4444444444444444, \"#bd3786\"], [0.5555555555555556, \"#d8576b\"], [0.6666666666666666, \"#ed7953\"], [0.7777777777777778, \"#fb9f3a\"], [0.8888888888888888, \"#fdca26\"], [1.0, \"#f0f921\"]], \"type\": \"surface\"}], \"table\": [{\"cells\": {\"fill\": {\"color\": \"#EBF0F8\"}, \"line\": {\"color\": \"white\"}}, \"header\": {\"fill\": {\"color\": \"#C8D4E3\"}, \"line\": {\"color\": \"white\"}}, \"type\": \"table\"}]}, \"layout\": {\"annotationdefaults\": {\"arrowcolor\": \"#2a3f5f\", \"arrowhead\": 0, \"arrowwidth\": 1}, \"autotypenumbers\": \"strict\", \"coloraxis\": {\"colorbar\": {\"outlinewidth\": 0, \"ticks\": \"\"}}, \"colorscale\": {\"diverging\": [[0, \"#8e0152\"], [0.1, \"#c51b7d\"], [0.2, \"#de77ae\"], [0.3, \"#f1b6da\"], [0.4, \"#fde0ef\"], [0.5, \"#f7f7f7\"], [0.6, \"#e6f5d0\"], [0.7, \"#b8e186\"], [0.8, \"#7fbc41\"], [0.9, \"#4d9221\"], [1, \"#276419\"]], \"sequential\": [[0.0, \"#0d0887\"], [0.1111111111111111, \"#46039f\"], [0.2222222222222222, \"#7201a8\"], [0.3333333333333333, \"#9c179e\"], [0.4444444444444444, \"#bd3786\"], [0.5555555555555556, \"#d8576b\"], [0.6666666666666666, \"#ed7953\"], [0.7777777777777778, \"#fb9f3a\"], [0.8888888888888888, \"#fdca26\"], [1.0, \"#f0f921\"]], \"sequentialminus\": [[0.0, \"#0d0887\"], [0.1111111111111111, \"#46039f\"], [0.2222222222222222, \"#7201a8\"], [0.3333333333333333, \"#9c179e\"], [0.4444444444444444, \"#bd3786\"], [0.5555555555555556, \"#d8576b\"], [0.6666666666666666, \"#ed7953\"], [0.7777777777777778, \"#fb9f3a\"], [0.8888888888888888, \"#fdca26\"], [1.0, \"#f0f921\"]]}, \"colorway\": [\"#636efa\", \"#EF553B\", \"#00cc96\", \"#ab63fa\", \"#FFA15A\", \"#19d3f3\", \"#FF6692\", \"#B6E880\", \"#FF97FF\", \"#FECB52\"], \"font\": {\"color\": \"#2a3f5f\"}, \"geo\": {\"bgcolor\": \"white\", \"lakecolor\": \"white\", \"landcolor\": \"#E5ECF6\", \"showlakes\": true, \"showland\": true, \"subunitcolor\": \"white\"}, \"hoverlabel\": {\"align\": \"left\"}, \"hovermode\": \"closest\", \"mapbox\": {\"style\": \"light\"}, \"paper_bgcolor\": \"white\", \"plot_bgcolor\": \"#E5ECF6\", \"polar\": {\"angularaxis\": {\"gridcolor\": \"white\", \"linecolor\": \"white\", \"ticks\": \"\"}, \"bgcolor\": \"#E5ECF6\", \"radialaxis\": {\"gridcolor\": \"white\", \"linecolor\": \"white\", \"ticks\": \"\"}}, \"scene\": {\"xaxis\": {\"backgroundcolor\": \"#E5ECF6\", \"gridcolor\": \"white\", \"gridwidth\": 2, \"linecolor\": \"white\", \"showbackground\": true, \"ticks\": \"\", \"zerolinecolor\": \"white\"}, \"yaxis\": {\"backgroundcolor\": \"#E5ECF6\", \"gridcolor\": \"white\", \"gridwidth\": 2, \"linecolor\": \"white\", \"showbackground\": true, \"ticks\": \"\", \"zerolinecolor\": \"white\"}, \"zaxis\": {\"backgroundcolor\": \"#E5ECF6\", \"gridcolor\": \"white\", \"gridwidth\": 2, \"linecolor\": \"white\", \"showbackground\": true, \"ticks\": \"\", \"zerolinecolor\": \"white\"}}, \"shapedefaults\": {\"line\": {\"color\": \"#2a3f5f\"}}, \"ternary\": {\"aaxis\": {\"gridcolor\": \"white\", \"linecolor\": \"white\", \"ticks\": \"\"}, \"baxis\": {\"gridcolor\": \"white\", \"linecolor\": \"white\", \"ticks\": \"\"}, \"bgcolor\": \"#E5ECF6\", \"caxis\": {\"gridcolor\": \"white\", \"linecolor\": \"white\", \"ticks\": \"\"}}, \"title\": {\"x\": 0.05}, \"xaxis\": {\"automargin\": true, \"gridcolor\": \"white\", \"linecolor\": \"white\", \"ticks\": \"\", \"title\": {\"standoff\": 15}, \"zerolinecolor\": \"white\", \"zerolinewidth\": 2}, \"yaxis\": {\"automargin\": true, \"gridcolor\": \"white\", \"linecolor\": \"white\", \"ticks\": \"\", \"title\": {\"standoff\": 15}, \"zerolinecolor\": \"white\", \"zerolinewidth\": 2}}}, \"title\": {\"font\": {\"color\": \"black\", \"family\": \"Calibri\", \"size\": 26}, \"text\": \"Customer<br>Segmentation\", \"x\": 0.5, \"y\": 0.55}},                        {\"responsive\": true}                    ).then(function(){\n",
       "                            \n",
       "var gd = document.getElementById('0f9148c5-5313-4117-9f61-1cfa71b55628');\n",
       "var x = new MutationObserver(function (mutations, observer) {{\n",
       "        var display = window.getComputedStyle(gd).display;\n",
       "        if (!display || display === 'none') {{\n",
       "            console.log([gd, 'removed!']);\n",
       "            Plotly.purge(gd);\n",
       "            observer.disconnect();\n",
       "        }}\n",
       "}});\n",
       "\n",
       "// Listen for the removal of the full notebook cells\n",
       "var notebookContainer = gd.closest('#notebook-container');\n",
       "if (notebookContainer) {{\n",
       "    x.observe(notebookContainer, {childList: true});\n",
       "}}\n",
       "\n",
       "// Listen for the clearing of the current output cell\n",
       "var outputEl = gd.closest('.output');\n",
       "if (outputEl) {{\n",
       "    x.observe(outputEl, {childList: true});\n",
       "}}\n",
       "\n",
       "                        })                };                });            </script>        </div>"
      ]
     },
     "metadata": {},
     "output_type": "display_data"
    }
   ],
   "source": [
    "plot_data = data.groupby('Segmentation')['Segmentation'].agg(['count']).reset_index()\n",
    "\n",
    "fig = px.pie(plot_data, values = plot_data['count'], names = plot_data['Segmentation'])\n",
    "\n",
    "fig.update_traces(textposition = 'inside', textinfo = 'percent + label', hole = 0.5, \n",
    "                  marker = dict(colors = ['#2A3132','#336B87'], line = dict(color = 'white', width = 2)))\n",
    "\n",
    "fig.update_layout(title_text = 'Customer<br>Segmentation', title_x = 0.5, title_y = 0.55, title_font_size = 26, \n",
    "                  title_font_family = 'Calibri', title_font_color = 'black', showlegend = False)\n",
    "                  \n",
    "fig.show()"
   ]
  },
  {
   "cell_type": "code",
   "execution_count": 5,
   "id": "norman-legend",
   "metadata": {
    "execution": {
     "iopub.execute_input": "2021-05-26T11:19:29.682038Z",
     "iopub.status.busy": "2021-05-26T11:19:29.681062Z",
     "iopub.status.idle": "2021-05-26T11:19:29.699662Z",
     "shell.execute_reply": "2021-05-26T11:19:29.700216Z",
     "shell.execute_reply.started": "2021-05-26T06:00:21.666829Z"
    },
    "papermill": {
     "duration": 0.066494,
     "end_time": "2021-05-26T11:19:29.700386",
     "exception": false,
     "start_time": "2021-05-26T11:19:29.633892",
     "status": "completed"
    },
    "tags": []
   },
   "outputs": [],
   "source": [
    "def plot_category(feature, figsize=None):\n",
    "    A_count = data[data['Segmentation']=='A'].groupby([feature]).size()\n",
    "    B_count = data[data['Segmentation']=='B'].groupby([feature]).size()\n",
    "    C_count = data[data['Segmentation']=='C'].groupby([feature]).size()\n",
    "    D_count = data[data['Segmentation']=='D'].groupby([feature]).size()\n",
    "    labels = A_count.index\n",
    "\n",
    "    x = np.arange(len(labels)) # the label locations\n",
    "    width = 0.7  # the width of the bars\n",
    "\n",
    "    if figsize:\n",
    "        fig, ax = plt.subplots(figsize=figsize)\n",
    "    else:\n",
    "        fig, ax = plt.subplots()\n",
    "    rects1 = ax.bar(x-width/3, round(A_count*100/data.groupby([feature]).size(), 2), \n",
    "                    width/5, label='A')\n",
    "    rects2 = ax.bar(x-width/8, round(B_count*100/data.groupby([feature]).size(), 2), \n",
    "                    width/5, label='B')\n",
    "    rects3 = ax.bar(x+width/8, round(C_count*100/data.groupby([feature]).size(), 2), \n",
    "                    width/5, label='C')\n",
    "    rects4 = ax.bar(x+width/3, round(D_count*100/data.groupby([feature]).size(), 2), \n",
    "                    width/5, label='D')\n",
    "\n",
    "    ax.set_ylabel('Count')\n",
    "    ax.set_title('Based on %s'%feature)\n",
    "    ax.set_xticks(x)\n",
    "    ax.set_xticklabels(labels, rotation=80)\n",
    "    ax.legend(loc=0, bbox_to_anchor=(1, 1));\n",
    "\n",
    "    ax.bar_label(rects1, padding=1)\n",
    "    ax.bar_label(rects2, padding=1)\n",
    "    ax.bar_label(rects3, padding=1)\n",
    "    ax.bar_label(rects4, padding=1)\n",
    "\n",
    "    fig.tight_layout()\n",
    "    plt.show()\n",
    "    \n",
    "def plot_numerical(feature, figsize=None):\n",
    "    fig = plt.figure(figsize=(10,6))\n",
    "\n",
    "    sns.kdeplot(data[data['Segmentation']=='A'][feature])\n",
    "    sns.kdeplot(data[data['Segmentation']=='B'][feature])\n",
    "    sns.kdeplot(data[data['Segmentation']=='C'][feature])\n",
    "    sns.kdeplot(data[data['Segmentation']=='D'][feature])\n",
    "\n",
    "    fig.legend(labels=['Segmentation A', 'Segmentation B', 'Segmentation C', 'Segmentation D'])\n",
    "    plt.title('Based on %s'%feature)\n",
    "    plt.show()\n",
    "    \n",
    "def plot_pie(feature):\n",
    "    plot_data = data.groupby([feature, 'Segmentation'])[feature].agg({'count'}).reset_index()\n",
    "\n",
    "    fig = px.sunburst(plot_data, path = [feature, 'Segmentation'], values = 'count', color = feature, \n",
    "                      title = 'Affect of %s on Customer Segmentation'%feature, width = 600, height = 600)\n",
    "\n",
    "    fig.update_layout(plot_bgcolor = 'white', title_font_family = 'Calibri Black', title_font_color = '#221f1f', \n",
    "                      title_font_size = 22, title_x = 0.5)\n",
    "\n",
    "    fig.update_traces(textinfo = 'label + percent parent')\n",
    "    fig.show()"
   ]
  },
  {
   "cell_type": "code",
   "execution_count": 6,
   "id": "yellow-bulletin",
   "metadata": {
    "execution": {
     "iopub.execute_input": "2021-05-26T11:19:29.793563Z",
     "iopub.status.busy": "2021-05-26T11:19:29.792582Z",
     "iopub.status.idle": "2021-05-26T11:19:30.244753Z",
     "shell.execute_reply": "2021-05-26T11:19:30.244179Z",
     "shell.execute_reply.started": "2021-05-26T06:14:29.811708Z"
    },
    "papermill": {
     "duration": 0.499658,
     "end_time": "2021-05-26T11:19:30.244924",
     "exception": false,
     "start_time": "2021-05-26T11:19:29.745266",
     "status": "completed"
    },
    "tags": []
   },
   "outputs": [
    {
     "data": {
      "application/vnd.plotly.v1+json": {
       "config": {
        "plotlyServerURL": "https://plot.ly"
       },
       "data": [
        {
         "branchvalues": "total",
         "customdata": [
          [
           "Female"
          ],
          [
           "Male"
          ],
          [
           "Female"
          ],
          [
           "Male"
          ],
          [
           "Female"
          ],
          [
           "Male"
          ],
          [
           "Female"
          ],
          [
           "Male"
          ],
          [
           "Female"
          ],
          [
           "Male"
          ]
         ],
         "domain": {
          "x": [
           0.0,
           1.0
          ],
          "y": [
           0.0,
           1.0
          ]
         },
         "hovertemplate": "labels=%{label}<br>count=%{value}<br>parent=%{parent}<br>id=%{id}<br>Gender=%{customdata[0]}<extra></extra>",
         "ids": [
          "Female/A",
          "Male/A",
          "Female/B",
          "Male/B",
          "Female/C",
          "Male/C",
          "Female/D",
          "Male/D",
          "Female",
          "Male"
         ],
         "labels": [
          "A",
          "A",
          "B",
          "B",
          "C",
          "C",
          "D",
          "D",
          "Female",
          "Male"
         ],
         "marker": {
          "colors": [
           "#636efa",
           "#EF553B",
           "#636efa",
           "#EF553B",
           "#636efa",
           "#EF553B",
           "#636efa",
           "#EF553B",
           "#636efa",
           "#EF553B"
          ]
         },
         "name": "",
         "parents": [
          "Female",
          "Male",
          "Female",
          "Male",
          "Female",
          "Male",
          "Female",
          "Male",
          "",
          ""
         ],
         "textinfo": "label+percent parent",
         "type": "sunburst",
         "values": [
          909,
          1063,
          861,
          997,
          922,
          1048,
          959,
          1309,
          3651,
          4417
         ]
        }
       ],
       "layout": {
        "height": 600,
        "legend": {
         "tracegroupgap": 0
        },
        "plot_bgcolor": "white",
        "template": {
         "data": {
          "bar": [
           {
            "error_x": {
             "color": "#2a3f5f"
            },
            "error_y": {
             "color": "#2a3f5f"
            },
            "marker": {
             "line": {
              "color": "#E5ECF6",
              "width": 0.5
             }
            },
            "type": "bar"
           }
          ],
          "barpolar": [
           {
            "marker": {
             "line": {
              "color": "#E5ECF6",
              "width": 0.5
             }
            },
            "type": "barpolar"
           }
          ],
          "carpet": [
           {
            "aaxis": {
             "endlinecolor": "#2a3f5f",
             "gridcolor": "white",
             "linecolor": "white",
             "minorgridcolor": "white",
             "startlinecolor": "#2a3f5f"
            },
            "baxis": {
             "endlinecolor": "#2a3f5f",
             "gridcolor": "white",
             "linecolor": "white",
             "minorgridcolor": "white",
             "startlinecolor": "#2a3f5f"
            },
            "type": "carpet"
           }
          ],
          "choropleth": [
           {
            "colorbar": {
             "outlinewidth": 0,
             "ticks": ""
            },
            "type": "choropleth"
           }
          ],
          "contour": [
           {
            "colorbar": {
             "outlinewidth": 0,
             "ticks": ""
            },
            "colorscale": [
             [
              0.0,
              "#0d0887"
             ],
             [
              0.1111111111111111,
              "#46039f"
             ],
             [
              0.2222222222222222,
              "#7201a8"
             ],
             [
              0.3333333333333333,
              "#9c179e"
             ],
             [
              0.4444444444444444,
              "#bd3786"
             ],
             [
              0.5555555555555556,
              "#d8576b"
             ],
             [
              0.6666666666666666,
              "#ed7953"
             ],
             [
              0.7777777777777778,
              "#fb9f3a"
             ],
             [
              0.8888888888888888,
              "#fdca26"
             ],
             [
              1.0,
              "#f0f921"
             ]
            ],
            "type": "contour"
           }
          ],
          "contourcarpet": [
           {
            "colorbar": {
             "outlinewidth": 0,
             "ticks": ""
            },
            "type": "contourcarpet"
           }
          ],
          "heatmap": [
           {
            "colorbar": {
             "outlinewidth": 0,
             "ticks": ""
            },
            "colorscale": [
             [
              0.0,
              "#0d0887"
             ],
             [
              0.1111111111111111,
              "#46039f"
             ],
             [
              0.2222222222222222,
              "#7201a8"
             ],
             [
              0.3333333333333333,
              "#9c179e"
             ],
             [
              0.4444444444444444,
              "#bd3786"
             ],
             [
              0.5555555555555556,
              "#d8576b"
             ],
             [
              0.6666666666666666,
              "#ed7953"
             ],
             [
              0.7777777777777778,
              "#fb9f3a"
             ],
             [
              0.8888888888888888,
              "#fdca26"
             ],
             [
              1.0,
              "#f0f921"
             ]
            ],
            "type": "heatmap"
           }
          ],
          "heatmapgl": [
           {
            "colorbar": {
             "outlinewidth": 0,
             "ticks": ""
            },
            "colorscale": [
             [
              0.0,
              "#0d0887"
             ],
             [
              0.1111111111111111,
              "#46039f"
             ],
             [
              0.2222222222222222,
              "#7201a8"
             ],
             [
              0.3333333333333333,
              "#9c179e"
             ],
             [
              0.4444444444444444,
              "#bd3786"
             ],
             [
              0.5555555555555556,
              "#d8576b"
             ],
             [
              0.6666666666666666,
              "#ed7953"
             ],
             [
              0.7777777777777778,
              "#fb9f3a"
             ],
             [
              0.8888888888888888,
              "#fdca26"
             ],
             [
              1.0,
              "#f0f921"
             ]
            ],
            "type": "heatmapgl"
           }
          ],
          "histogram": [
           {
            "marker": {
             "colorbar": {
              "outlinewidth": 0,
              "ticks": ""
             }
            },
            "type": "histogram"
           }
          ],
          "histogram2d": [
           {
            "colorbar": {
             "outlinewidth": 0,
             "ticks": ""
            },
            "colorscale": [
             [
              0.0,
              "#0d0887"
             ],
             [
              0.1111111111111111,
              "#46039f"
             ],
             [
              0.2222222222222222,
              "#7201a8"
             ],
             [
              0.3333333333333333,
              "#9c179e"
             ],
             [
              0.4444444444444444,
              "#bd3786"
             ],
             [
              0.5555555555555556,
              "#d8576b"
             ],
             [
              0.6666666666666666,
              "#ed7953"
             ],
             [
              0.7777777777777778,
              "#fb9f3a"
             ],
             [
              0.8888888888888888,
              "#fdca26"
             ],
             [
              1.0,
              "#f0f921"
             ]
            ],
            "type": "histogram2d"
           }
          ],
          "histogram2dcontour": [
           {
            "colorbar": {
             "outlinewidth": 0,
             "ticks": ""
            },
            "colorscale": [
             [
              0.0,
              "#0d0887"
             ],
             [
              0.1111111111111111,
              "#46039f"
             ],
             [
              0.2222222222222222,
              "#7201a8"
             ],
             [
              0.3333333333333333,
              "#9c179e"
             ],
             [
              0.4444444444444444,
              "#bd3786"
             ],
             [
              0.5555555555555556,
              "#d8576b"
             ],
             [
              0.6666666666666666,
              "#ed7953"
             ],
             [
              0.7777777777777778,
              "#fb9f3a"
             ],
             [
              0.8888888888888888,
              "#fdca26"
             ],
             [
              1.0,
              "#f0f921"
             ]
            ],
            "type": "histogram2dcontour"
           }
          ],
          "mesh3d": [
           {
            "colorbar": {
             "outlinewidth": 0,
             "ticks": ""
            },
            "type": "mesh3d"
           }
          ],
          "parcoords": [
           {
            "line": {
             "colorbar": {
              "outlinewidth": 0,
              "ticks": ""
             }
            },
            "type": "parcoords"
           }
          ],
          "pie": [
           {
            "automargin": true,
            "type": "pie"
           }
          ],
          "scatter": [
           {
            "marker": {
             "colorbar": {
              "outlinewidth": 0,
              "ticks": ""
             }
            },
            "type": "scatter"
           }
          ],
          "scatter3d": [
           {
            "line": {
             "colorbar": {
              "outlinewidth": 0,
              "ticks": ""
             }
            },
            "marker": {
             "colorbar": {
              "outlinewidth": 0,
              "ticks": ""
             }
            },
            "type": "scatter3d"
           }
          ],
          "scattercarpet": [
           {
            "marker": {
             "colorbar": {
              "outlinewidth": 0,
              "ticks": ""
             }
            },
            "type": "scattercarpet"
           }
          ],
          "scattergeo": [
           {
            "marker": {
             "colorbar": {
              "outlinewidth": 0,
              "ticks": ""
             }
            },
            "type": "scattergeo"
           }
          ],
          "scattergl": [
           {
            "marker": {
             "colorbar": {
              "outlinewidth": 0,
              "ticks": ""
             }
            },
            "type": "scattergl"
           }
          ],
          "scattermapbox": [
           {
            "marker": {
             "colorbar": {
              "outlinewidth": 0,
              "ticks": ""
             }
            },
            "type": "scattermapbox"
           }
          ],
          "scatterpolar": [
           {
            "marker": {
             "colorbar": {
              "outlinewidth": 0,
              "ticks": ""
             }
            },
            "type": "scatterpolar"
           }
          ],
          "scatterpolargl": [
           {
            "marker": {
             "colorbar": {
              "outlinewidth": 0,
              "ticks": ""
             }
            },
            "type": "scatterpolargl"
           }
          ],
          "scatterternary": [
           {
            "marker": {
             "colorbar": {
              "outlinewidth": 0,
              "ticks": ""
             }
            },
            "type": "scatterternary"
           }
          ],
          "surface": [
           {
            "colorbar": {
             "outlinewidth": 0,
             "ticks": ""
            },
            "colorscale": [
             [
              0.0,
              "#0d0887"
             ],
             [
              0.1111111111111111,
              "#46039f"
             ],
             [
              0.2222222222222222,
              "#7201a8"
             ],
             [
              0.3333333333333333,
              "#9c179e"
             ],
             [
              0.4444444444444444,
              "#bd3786"
             ],
             [
              0.5555555555555556,
              "#d8576b"
             ],
             [
              0.6666666666666666,
              "#ed7953"
             ],
             [
              0.7777777777777778,
              "#fb9f3a"
             ],
             [
              0.8888888888888888,
              "#fdca26"
             ],
             [
              1.0,
              "#f0f921"
             ]
            ],
            "type": "surface"
           }
          ],
          "table": [
           {
            "cells": {
             "fill": {
              "color": "#EBF0F8"
             },
             "line": {
              "color": "white"
             }
            },
            "header": {
             "fill": {
              "color": "#C8D4E3"
             },
             "line": {
              "color": "white"
             }
            },
            "type": "table"
           }
          ]
         },
         "layout": {
          "annotationdefaults": {
           "arrowcolor": "#2a3f5f",
           "arrowhead": 0,
           "arrowwidth": 1
          },
          "autotypenumbers": "strict",
          "coloraxis": {
           "colorbar": {
            "outlinewidth": 0,
            "ticks": ""
           }
          },
          "colorscale": {
           "diverging": [
            [
             0,
             "#8e0152"
            ],
            [
             0.1,
             "#c51b7d"
            ],
            [
             0.2,
             "#de77ae"
            ],
            [
             0.3,
             "#f1b6da"
            ],
            [
             0.4,
             "#fde0ef"
            ],
            [
             0.5,
             "#f7f7f7"
            ],
            [
             0.6,
             "#e6f5d0"
            ],
            [
             0.7,
             "#b8e186"
            ],
            [
             0.8,
             "#7fbc41"
            ],
            [
             0.9,
             "#4d9221"
            ],
            [
             1,
             "#276419"
            ]
           ],
           "sequential": [
            [
             0.0,
             "#0d0887"
            ],
            [
             0.1111111111111111,
             "#46039f"
            ],
            [
             0.2222222222222222,
             "#7201a8"
            ],
            [
             0.3333333333333333,
             "#9c179e"
            ],
            [
             0.4444444444444444,
             "#bd3786"
            ],
            [
             0.5555555555555556,
             "#d8576b"
            ],
            [
             0.6666666666666666,
             "#ed7953"
            ],
            [
             0.7777777777777778,
             "#fb9f3a"
            ],
            [
             0.8888888888888888,
             "#fdca26"
            ],
            [
             1.0,
             "#f0f921"
            ]
           ],
           "sequentialminus": [
            [
             0.0,
             "#0d0887"
            ],
            [
             0.1111111111111111,
             "#46039f"
            ],
            [
             0.2222222222222222,
             "#7201a8"
            ],
            [
             0.3333333333333333,
             "#9c179e"
            ],
            [
             0.4444444444444444,
             "#bd3786"
            ],
            [
             0.5555555555555556,
             "#d8576b"
            ],
            [
             0.6666666666666666,
             "#ed7953"
            ],
            [
             0.7777777777777778,
             "#fb9f3a"
            ],
            [
             0.8888888888888888,
             "#fdca26"
            ],
            [
             1.0,
             "#f0f921"
            ]
           ]
          },
          "colorway": [
           "#636efa",
           "#EF553B",
           "#00cc96",
           "#ab63fa",
           "#FFA15A",
           "#19d3f3",
           "#FF6692",
           "#B6E880",
           "#FF97FF",
           "#FECB52"
          ],
          "font": {
           "color": "#2a3f5f"
          },
          "geo": {
           "bgcolor": "white",
           "lakecolor": "white",
           "landcolor": "#E5ECF6",
           "showlakes": true,
           "showland": true,
           "subunitcolor": "white"
          },
          "hoverlabel": {
           "align": "left"
          },
          "hovermode": "closest",
          "mapbox": {
           "style": "light"
          },
          "paper_bgcolor": "white",
          "plot_bgcolor": "#E5ECF6",
          "polar": {
           "angularaxis": {
            "gridcolor": "white",
            "linecolor": "white",
            "ticks": ""
           },
           "bgcolor": "#E5ECF6",
           "radialaxis": {
            "gridcolor": "white",
            "linecolor": "white",
            "ticks": ""
           }
          },
          "scene": {
           "xaxis": {
            "backgroundcolor": "#E5ECF6",
            "gridcolor": "white",
            "gridwidth": 2,
            "linecolor": "white",
            "showbackground": true,
            "ticks": "",
            "zerolinecolor": "white"
           },
           "yaxis": {
            "backgroundcolor": "#E5ECF6",
            "gridcolor": "white",
            "gridwidth": 2,
            "linecolor": "white",
            "showbackground": true,
            "ticks": "",
            "zerolinecolor": "white"
           },
           "zaxis": {
            "backgroundcolor": "#E5ECF6",
            "gridcolor": "white",
            "gridwidth": 2,
            "linecolor": "white",
            "showbackground": true,
            "ticks": "",
            "zerolinecolor": "white"
           }
          },
          "shapedefaults": {
           "line": {
            "color": "#2a3f5f"
           }
          },
          "ternary": {
           "aaxis": {
            "gridcolor": "white",
            "linecolor": "white",
            "ticks": ""
           },
           "baxis": {
            "gridcolor": "white",
            "linecolor": "white",
            "ticks": ""
           },
           "bgcolor": "#E5ECF6",
           "caxis": {
            "gridcolor": "white",
            "linecolor": "white",
            "ticks": ""
           }
          },
          "title": {
           "x": 0.05
          },
          "xaxis": {
           "automargin": true,
           "gridcolor": "white",
           "linecolor": "white",
           "ticks": "",
           "title": {
            "standoff": 15
           },
           "zerolinecolor": "white",
           "zerolinewidth": 2
          },
          "yaxis": {
           "automargin": true,
           "gridcolor": "white",
           "linecolor": "white",
           "ticks": "",
           "title": {
            "standoff": 15
           },
           "zerolinecolor": "white",
           "zerolinewidth": 2
          }
         }
        },
        "title": {
         "font": {
          "color": "#221f1f",
          "family": "Calibri Black",
          "size": 22
         },
         "text": "Affect of Gender on Customer Segmentation",
         "x": 0.5
        },
        "width": 600
       }
      },
      "text/html": [
       "<div>                            <div id=\"09716e87-4881-4247-9951-f2fad1ec33f3\" class=\"plotly-graph-div\" style=\"height:600px; width:600px;\"></div>            <script type=\"text/javascript\">                require([\"plotly\"], function(Plotly) {                    window.PLOTLYENV=window.PLOTLYENV || {};                                    if (document.getElementById(\"09716e87-4881-4247-9951-f2fad1ec33f3\")) {                    Plotly.newPlot(                        \"09716e87-4881-4247-9951-f2fad1ec33f3\",                        [{\"branchvalues\": \"total\", \"customdata\": [[\"Female\"], [\"Male\"], [\"Female\"], [\"Male\"], [\"Female\"], [\"Male\"], [\"Female\"], [\"Male\"], [\"Female\"], [\"Male\"]], \"domain\": {\"x\": [0.0, 1.0], \"y\": [0.0, 1.0]}, \"hovertemplate\": \"labels=%{label}<br>count=%{value}<br>parent=%{parent}<br>id=%{id}<br>Gender=%{customdata[0]}<extra></extra>\", \"ids\": [\"Female/A\", \"Male/A\", \"Female/B\", \"Male/B\", \"Female/C\", \"Male/C\", \"Female/D\", \"Male/D\", \"Female\", \"Male\"], \"labels\": [\"A\", \"A\", \"B\", \"B\", \"C\", \"C\", \"D\", \"D\", \"Female\", \"Male\"], \"marker\": {\"colors\": [\"#636efa\", \"#EF553B\", \"#636efa\", \"#EF553B\", \"#636efa\", \"#EF553B\", \"#636efa\", \"#EF553B\", \"#636efa\", \"#EF553B\"]}, \"name\": \"\", \"parents\": [\"Female\", \"Male\", \"Female\", \"Male\", \"Female\", \"Male\", \"Female\", \"Male\", \"\", \"\"], \"textinfo\": \"label+percent parent\", \"type\": \"sunburst\", \"values\": [909, 1063, 861, 997, 922, 1048, 959, 1309, 3651, 4417]}],                        {\"height\": 600, \"legend\": {\"tracegroupgap\": 0}, \"plot_bgcolor\": \"white\", \"template\": {\"data\": {\"bar\": [{\"error_x\": {\"color\": \"#2a3f5f\"}, \"error_y\": {\"color\": \"#2a3f5f\"}, \"marker\": {\"line\": {\"color\": \"#E5ECF6\", \"width\": 0.5}}, \"type\": \"bar\"}], \"barpolar\": [{\"marker\": {\"line\": {\"color\": \"#E5ECF6\", \"width\": 0.5}}, \"type\": \"barpolar\"}], \"carpet\": [{\"aaxis\": {\"endlinecolor\": \"#2a3f5f\", \"gridcolor\": \"white\", \"linecolor\": \"white\", \"minorgridcolor\": \"white\", \"startlinecolor\": \"#2a3f5f\"}, \"baxis\": {\"endlinecolor\": \"#2a3f5f\", \"gridcolor\": \"white\", \"linecolor\": \"white\", \"minorgridcolor\": \"white\", \"startlinecolor\": \"#2a3f5f\"}, \"type\": \"carpet\"}], \"choropleth\": [{\"colorbar\": {\"outlinewidth\": 0, \"ticks\": \"\"}, \"type\": \"choropleth\"}], \"contour\": [{\"colorbar\": {\"outlinewidth\": 0, \"ticks\": \"\"}, \"colorscale\": [[0.0, \"#0d0887\"], [0.1111111111111111, \"#46039f\"], [0.2222222222222222, \"#7201a8\"], [0.3333333333333333, \"#9c179e\"], [0.4444444444444444, \"#bd3786\"], [0.5555555555555556, \"#d8576b\"], [0.6666666666666666, \"#ed7953\"], [0.7777777777777778, \"#fb9f3a\"], [0.8888888888888888, \"#fdca26\"], [1.0, \"#f0f921\"]], \"type\": \"contour\"}], \"contourcarpet\": [{\"colorbar\": {\"outlinewidth\": 0, \"ticks\": \"\"}, \"type\": \"contourcarpet\"}], \"heatmap\": [{\"colorbar\": {\"outlinewidth\": 0, \"ticks\": \"\"}, \"colorscale\": [[0.0, \"#0d0887\"], [0.1111111111111111, \"#46039f\"], [0.2222222222222222, \"#7201a8\"], [0.3333333333333333, \"#9c179e\"], [0.4444444444444444, \"#bd3786\"], [0.5555555555555556, \"#d8576b\"], [0.6666666666666666, \"#ed7953\"], [0.7777777777777778, \"#fb9f3a\"], [0.8888888888888888, \"#fdca26\"], [1.0, \"#f0f921\"]], \"type\": \"heatmap\"}], \"heatmapgl\": [{\"colorbar\": {\"outlinewidth\": 0, \"ticks\": \"\"}, \"colorscale\": [[0.0, \"#0d0887\"], [0.1111111111111111, \"#46039f\"], [0.2222222222222222, \"#7201a8\"], [0.3333333333333333, \"#9c179e\"], [0.4444444444444444, \"#bd3786\"], [0.5555555555555556, \"#d8576b\"], [0.6666666666666666, \"#ed7953\"], [0.7777777777777778, \"#fb9f3a\"], [0.8888888888888888, \"#fdca26\"], [1.0, \"#f0f921\"]], \"type\": \"heatmapgl\"}], \"histogram\": [{\"marker\": {\"colorbar\": {\"outlinewidth\": 0, \"ticks\": \"\"}}, \"type\": \"histogram\"}], \"histogram2d\": [{\"colorbar\": {\"outlinewidth\": 0, \"ticks\": \"\"}, \"colorscale\": [[0.0, \"#0d0887\"], [0.1111111111111111, \"#46039f\"], [0.2222222222222222, \"#7201a8\"], [0.3333333333333333, \"#9c179e\"], [0.4444444444444444, \"#bd3786\"], [0.5555555555555556, \"#d8576b\"], [0.6666666666666666, \"#ed7953\"], [0.7777777777777778, \"#fb9f3a\"], [0.8888888888888888, \"#fdca26\"], [1.0, \"#f0f921\"]], \"type\": \"histogram2d\"}], \"histogram2dcontour\": [{\"colorbar\": {\"outlinewidth\": 0, \"ticks\": \"\"}, \"colorscale\": [[0.0, \"#0d0887\"], [0.1111111111111111, \"#46039f\"], [0.2222222222222222, \"#7201a8\"], [0.3333333333333333, \"#9c179e\"], [0.4444444444444444, \"#bd3786\"], [0.5555555555555556, \"#d8576b\"], [0.6666666666666666, \"#ed7953\"], [0.7777777777777778, \"#fb9f3a\"], [0.8888888888888888, \"#fdca26\"], [1.0, \"#f0f921\"]], \"type\": \"histogram2dcontour\"}], \"mesh3d\": [{\"colorbar\": {\"outlinewidth\": 0, \"ticks\": \"\"}, \"type\": \"mesh3d\"}], \"parcoords\": [{\"line\": {\"colorbar\": {\"outlinewidth\": 0, \"ticks\": \"\"}}, \"type\": \"parcoords\"}], \"pie\": [{\"automargin\": true, \"type\": \"pie\"}], \"scatter\": [{\"marker\": {\"colorbar\": {\"outlinewidth\": 0, \"ticks\": \"\"}}, \"type\": \"scatter\"}], \"scatter3d\": [{\"line\": {\"colorbar\": {\"outlinewidth\": 0, \"ticks\": \"\"}}, \"marker\": {\"colorbar\": {\"outlinewidth\": 0, \"ticks\": \"\"}}, \"type\": \"scatter3d\"}], \"scattercarpet\": [{\"marker\": {\"colorbar\": {\"outlinewidth\": 0, \"ticks\": \"\"}}, \"type\": \"scattercarpet\"}], \"scattergeo\": [{\"marker\": {\"colorbar\": {\"outlinewidth\": 0, \"ticks\": \"\"}}, \"type\": \"scattergeo\"}], \"scattergl\": [{\"marker\": {\"colorbar\": {\"outlinewidth\": 0, \"ticks\": \"\"}}, \"type\": \"scattergl\"}], \"scattermapbox\": [{\"marker\": {\"colorbar\": {\"outlinewidth\": 0, \"ticks\": \"\"}}, \"type\": \"scattermapbox\"}], \"scatterpolar\": [{\"marker\": {\"colorbar\": {\"outlinewidth\": 0, \"ticks\": \"\"}}, \"type\": \"scatterpolar\"}], \"scatterpolargl\": [{\"marker\": {\"colorbar\": {\"outlinewidth\": 0, \"ticks\": \"\"}}, \"type\": \"scatterpolargl\"}], \"scatterternary\": [{\"marker\": {\"colorbar\": {\"outlinewidth\": 0, \"ticks\": \"\"}}, \"type\": \"scatterternary\"}], \"surface\": [{\"colorbar\": {\"outlinewidth\": 0, \"ticks\": \"\"}, \"colorscale\": [[0.0, \"#0d0887\"], [0.1111111111111111, \"#46039f\"], [0.2222222222222222, \"#7201a8\"], [0.3333333333333333, \"#9c179e\"], [0.4444444444444444, \"#bd3786\"], [0.5555555555555556, \"#d8576b\"], [0.6666666666666666, \"#ed7953\"], [0.7777777777777778, \"#fb9f3a\"], [0.8888888888888888, \"#fdca26\"], [1.0, \"#f0f921\"]], \"type\": \"surface\"}], \"table\": [{\"cells\": {\"fill\": {\"color\": \"#EBF0F8\"}, \"line\": {\"color\": \"white\"}}, \"header\": {\"fill\": {\"color\": \"#C8D4E3\"}, \"line\": {\"color\": \"white\"}}, \"type\": \"table\"}]}, \"layout\": {\"annotationdefaults\": {\"arrowcolor\": \"#2a3f5f\", \"arrowhead\": 0, \"arrowwidth\": 1}, \"autotypenumbers\": \"strict\", \"coloraxis\": {\"colorbar\": {\"outlinewidth\": 0, \"ticks\": \"\"}}, \"colorscale\": {\"diverging\": [[0, \"#8e0152\"], [0.1, \"#c51b7d\"], [0.2, \"#de77ae\"], [0.3, \"#f1b6da\"], [0.4, \"#fde0ef\"], [0.5, \"#f7f7f7\"], [0.6, \"#e6f5d0\"], [0.7, \"#b8e186\"], [0.8, \"#7fbc41\"], [0.9, \"#4d9221\"], [1, \"#276419\"]], \"sequential\": [[0.0, \"#0d0887\"], [0.1111111111111111, \"#46039f\"], [0.2222222222222222, \"#7201a8\"], [0.3333333333333333, \"#9c179e\"], [0.4444444444444444, \"#bd3786\"], [0.5555555555555556, \"#d8576b\"], [0.6666666666666666, \"#ed7953\"], [0.7777777777777778, \"#fb9f3a\"], [0.8888888888888888, \"#fdca26\"], [1.0, \"#f0f921\"]], \"sequentialminus\": [[0.0, \"#0d0887\"], [0.1111111111111111, \"#46039f\"], [0.2222222222222222, \"#7201a8\"], [0.3333333333333333, \"#9c179e\"], [0.4444444444444444, \"#bd3786\"], [0.5555555555555556, \"#d8576b\"], [0.6666666666666666, \"#ed7953\"], [0.7777777777777778, \"#fb9f3a\"], [0.8888888888888888, \"#fdca26\"], [1.0, \"#f0f921\"]]}, \"colorway\": [\"#636efa\", \"#EF553B\", \"#00cc96\", \"#ab63fa\", \"#FFA15A\", \"#19d3f3\", \"#FF6692\", \"#B6E880\", \"#FF97FF\", \"#FECB52\"], \"font\": {\"color\": \"#2a3f5f\"}, \"geo\": {\"bgcolor\": \"white\", \"lakecolor\": \"white\", \"landcolor\": \"#E5ECF6\", \"showlakes\": true, \"showland\": true, \"subunitcolor\": \"white\"}, \"hoverlabel\": {\"align\": \"left\"}, \"hovermode\": \"closest\", \"mapbox\": {\"style\": \"light\"}, \"paper_bgcolor\": \"white\", \"plot_bgcolor\": \"#E5ECF6\", \"polar\": {\"angularaxis\": {\"gridcolor\": \"white\", \"linecolor\": \"white\", \"ticks\": \"\"}, \"bgcolor\": \"#E5ECF6\", \"radialaxis\": {\"gridcolor\": \"white\", \"linecolor\": \"white\", \"ticks\": \"\"}}, \"scene\": {\"xaxis\": {\"backgroundcolor\": \"#E5ECF6\", \"gridcolor\": \"white\", \"gridwidth\": 2, \"linecolor\": \"white\", \"showbackground\": true, \"ticks\": \"\", \"zerolinecolor\": \"white\"}, \"yaxis\": {\"backgroundcolor\": \"#E5ECF6\", \"gridcolor\": \"white\", \"gridwidth\": 2, \"linecolor\": \"white\", \"showbackground\": true, \"ticks\": \"\", \"zerolinecolor\": \"white\"}, \"zaxis\": {\"backgroundcolor\": \"#E5ECF6\", \"gridcolor\": \"white\", \"gridwidth\": 2, \"linecolor\": \"white\", \"showbackground\": true, \"ticks\": \"\", \"zerolinecolor\": \"white\"}}, \"shapedefaults\": {\"line\": {\"color\": \"#2a3f5f\"}}, \"ternary\": {\"aaxis\": {\"gridcolor\": \"white\", \"linecolor\": \"white\", \"ticks\": \"\"}, \"baxis\": {\"gridcolor\": \"white\", \"linecolor\": \"white\", \"ticks\": \"\"}, \"bgcolor\": \"#E5ECF6\", \"caxis\": {\"gridcolor\": \"white\", \"linecolor\": \"white\", \"ticks\": \"\"}}, \"title\": {\"x\": 0.05}, \"xaxis\": {\"automargin\": true, \"gridcolor\": \"white\", \"linecolor\": \"white\", \"ticks\": \"\", \"title\": {\"standoff\": 15}, \"zerolinecolor\": \"white\", \"zerolinewidth\": 2}, \"yaxis\": {\"automargin\": true, \"gridcolor\": \"white\", \"linecolor\": \"white\", \"ticks\": \"\", \"title\": {\"standoff\": 15}, \"zerolinecolor\": \"white\", \"zerolinewidth\": 2}}}, \"title\": {\"font\": {\"color\": \"#221f1f\", \"family\": \"Calibri Black\", \"size\": 22}, \"text\": \"Affect of Gender on Customer Segmentation\", \"x\": 0.5}, \"width\": 600},                        {\"responsive\": true}                    ).then(function(){\n",
       "                            \n",
       "var gd = document.getElementById('09716e87-4881-4247-9951-f2fad1ec33f3');\n",
       "var x = new MutationObserver(function (mutations, observer) {{\n",
       "        var display = window.getComputedStyle(gd).display;\n",
       "        if (!display || display === 'none') {{\n",
       "            console.log([gd, 'removed!']);\n",
       "            Plotly.purge(gd);\n",
       "            observer.disconnect();\n",
       "        }}\n",
       "}});\n",
       "\n",
       "// Listen for the removal of the full notebook cells\n",
       "var notebookContainer = gd.closest('#notebook-container');\n",
       "if (notebookContainer) {{\n",
       "    x.observe(notebookContainer, {childList: true});\n",
       "}}\n",
       "\n",
       "// Listen for the clearing of the current output cell\n",
       "var outputEl = gd.closest('.output');\n",
       "if (outputEl) {{\n",
       "    x.observe(outputEl, {childList: true});\n",
       "}}\n",
       "\n",
       "                        })                };                });            </script>        </div>"
      ]
     },
     "metadata": {},
     "output_type": "display_data"
    },
    {
     "data": {
      "application/vnd.plotly.v1+json": {
       "config": {
        "plotlyServerURL": "https://plot.ly"
       },
       "data": [
        {
         "branchvalues": "total",
         "customdata": [
          [
           "No"
          ],
          [
           "Yes"
          ],
          [
           "No"
          ],
          [
           "Yes"
          ],
          [
           "No"
          ],
          [
           "Yes"
          ],
          [
           "No"
          ],
          [
           "Yes"
          ],
          [
           "No"
          ],
          [
           "Yes"
          ]
         ],
         "domain": {
          "x": [
           0.0,
           1.0
          ],
          "y": [
           0.0,
           1.0
          ]
         },
         "hovertemplate": "labels=%{label}<br>count=%{value}<br>parent=%{parent}<br>id=%{id}<br>Ever_Married=%{customdata[0]}<extra></extra>",
         "ids": [
          "No/A",
          "Yes/A",
          "No/B",
          "Yes/B",
          "No/C",
          "Yes/C",
          "No/D",
          "Yes/D",
          "No",
          "Yes"
         ],
         "labels": [
          "A",
          "A",
          "B",
          "B",
          "C",
          "C",
          "D",
          "D",
          "No",
          "Yes"
         ],
         "marker": {
          "colors": [
           "#636efa",
           "#EF553B",
           "#636efa",
           "#EF553B",
           "#636efa",
           "#EF553B",
           "#636efa",
           "#EF553B",
           "#636efa",
           "#EF553B"
          ]
         },
         "name": "",
         "parents": [
          "No",
          "Yes",
          "No",
          "Yes",
          "No",
          "Yes",
          "No",
          "Yes",
          "",
          ""
         ],
         "textinfo": "label+percent parent",
         "type": "sunburst",
         "values": [
          801,
          1137,
          479,
          1348,
          398,
          1549,
          1607,
          609,
          3285,
          4643
         ]
        }
       ],
       "layout": {
        "height": 600,
        "legend": {
         "tracegroupgap": 0
        },
        "plot_bgcolor": "white",
        "template": {
         "data": {
          "bar": [
           {
            "error_x": {
             "color": "#2a3f5f"
            },
            "error_y": {
             "color": "#2a3f5f"
            },
            "marker": {
             "line": {
              "color": "#E5ECF6",
              "width": 0.5
             }
            },
            "type": "bar"
           }
          ],
          "barpolar": [
           {
            "marker": {
             "line": {
              "color": "#E5ECF6",
              "width": 0.5
             }
            },
            "type": "barpolar"
           }
          ],
          "carpet": [
           {
            "aaxis": {
             "endlinecolor": "#2a3f5f",
             "gridcolor": "white",
             "linecolor": "white",
             "minorgridcolor": "white",
             "startlinecolor": "#2a3f5f"
            },
            "baxis": {
             "endlinecolor": "#2a3f5f",
             "gridcolor": "white",
             "linecolor": "white",
             "minorgridcolor": "white",
             "startlinecolor": "#2a3f5f"
            },
            "type": "carpet"
           }
          ],
          "choropleth": [
           {
            "colorbar": {
             "outlinewidth": 0,
             "ticks": ""
            },
            "type": "choropleth"
           }
          ],
          "contour": [
           {
            "colorbar": {
             "outlinewidth": 0,
             "ticks": ""
            },
            "colorscale": [
             [
              0.0,
              "#0d0887"
             ],
             [
              0.1111111111111111,
              "#46039f"
             ],
             [
              0.2222222222222222,
              "#7201a8"
             ],
             [
              0.3333333333333333,
              "#9c179e"
             ],
             [
              0.4444444444444444,
              "#bd3786"
             ],
             [
              0.5555555555555556,
              "#d8576b"
             ],
             [
              0.6666666666666666,
              "#ed7953"
             ],
             [
              0.7777777777777778,
              "#fb9f3a"
             ],
             [
              0.8888888888888888,
              "#fdca26"
             ],
             [
              1.0,
              "#f0f921"
             ]
            ],
            "type": "contour"
           }
          ],
          "contourcarpet": [
           {
            "colorbar": {
             "outlinewidth": 0,
             "ticks": ""
            },
            "type": "contourcarpet"
           }
          ],
          "heatmap": [
           {
            "colorbar": {
             "outlinewidth": 0,
             "ticks": ""
            },
            "colorscale": [
             [
              0.0,
              "#0d0887"
             ],
             [
              0.1111111111111111,
              "#46039f"
             ],
             [
              0.2222222222222222,
              "#7201a8"
             ],
             [
              0.3333333333333333,
              "#9c179e"
             ],
             [
              0.4444444444444444,
              "#bd3786"
             ],
             [
              0.5555555555555556,
              "#d8576b"
             ],
             [
              0.6666666666666666,
              "#ed7953"
             ],
             [
              0.7777777777777778,
              "#fb9f3a"
             ],
             [
              0.8888888888888888,
              "#fdca26"
             ],
             [
              1.0,
              "#f0f921"
             ]
            ],
            "type": "heatmap"
           }
          ],
          "heatmapgl": [
           {
            "colorbar": {
             "outlinewidth": 0,
             "ticks": ""
            },
            "colorscale": [
             [
              0.0,
              "#0d0887"
             ],
             [
              0.1111111111111111,
              "#46039f"
             ],
             [
              0.2222222222222222,
              "#7201a8"
             ],
             [
              0.3333333333333333,
              "#9c179e"
             ],
             [
              0.4444444444444444,
              "#bd3786"
             ],
             [
              0.5555555555555556,
              "#d8576b"
             ],
             [
              0.6666666666666666,
              "#ed7953"
             ],
             [
              0.7777777777777778,
              "#fb9f3a"
             ],
             [
              0.8888888888888888,
              "#fdca26"
             ],
             [
              1.0,
              "#f0f921"
             ]
            ],
            "type": "heatmapgl"
           }
          ],
          "histogram": [
           {
            "marker": {
             "colorbar": {
              "outlinewidth": 0,
              "ticks": ""
             }
            },
            "type": "histogram"
           }
          ],
          "histogram2d": [
           {
            "colorbar": {
             "outlinewidth": 0,
             "ticks": ""
            },
            "colorscale": [
             [
              0.0,
              "#0d0887"
             ],
             [
              0.1111111111111111,
              "#46039f"
             ],
             [
              0.2222222222222222,
              "#7201a8"
             ],
             [
              0.3333333333333333,
              "#9c179e"
             ],
             [
              0.4444444444444444,
              "#bd3786"
             ],
             [
              0.5555555555555556,
              "#d8576b"
             ],
             [
              0.6666666666666666,
              "#ed7953"
             ],
             [
              0.7777777777777778,
              "#fb9f3a"
             ],
             [
              0.8888888888888888,
              "#fdca26"
             ],
             [
              1.0,
              "#f0f921"
             ]
            ],
            "type": "histogram2d"
           }
          ],
          "histogram2dcontour": [
           {
            "colorbar": {
             "outlinewidth": 0,
             "ticks": ""
            },
            "colorscale": [
             [
              0.0,
              "#0d0887"
             ],
             [
              0.1111111111111111,
              "#46039f"
             ],
             [
              0.2222222222222222,
              "#7201a8"
             ],
             [
              0.3333333333333333,
              "#9c179e"
             ],
             [
              0.4444444444444444,
              "#bd3786"
             ],
             [
              0.5555555555555556,
              "#d8576b"
             ],
             [
              0.6666666666666666,
              "#ed7953"
             ],
             [
              0.7777777777777778,
              "#fb9f3a"
             ],
             [
              0.8888888888888888,
              "#fdca26"
             ],
             [
              1.0,
              "#f0f921"
             ]
            ],
            "type": "histogram2dcontour"
           }
          ],
          "mesh3d": [
           {
            "colorbar": {
             "outlinewidth": 0,
             "ticks": ""
            },
            "type": "mesh3d"
           }
          ],
          "parcoords": [
           {
            "line": {
             "colorbar": {
              "outlinewidth": 0,
              "ticks": ""
             }
            },
            "type": "parcoords"
           }
          ],
          "pie": [
           {
            "automargin": true,
            "type": "pie"
           }
          ],
          "scatter": [
           {
            "marker": {
             "colorbar": {
              "outlinewidth": 0,
              "ticks": ""
             }
            },
            "type": "scatter"
           }
          ],
          "scatter3d": [
           {
            "line": {
             "colorbar": {
              "outlinewidth": 0,
              "ticks": ""
             }
            },
            "marker": {
             "colorbar": {
              "outlinewidth": 0,
              "ticks": ""
             }
            },
            "type": "scatter3d"
           }
          ],
          "scattercarpet": [
           {
            "marker": {
             "colorbar": {
              "outlinewidth": 0,
              "ticks": ""
             }
            },
            "type": "scattercarpet"
           }
          ],
          "scattergeo": [
           {
            "marker": {
             "colorbar": {
              "outlinewidth": 0,
              "ticks": ""
             }
            },
            "type": "scattergeo"
           }
          ],
          "scattergl": [
           {
            "marker": {
             "colorbar": {
              "outlinewidth": 0,
              "ticks": ""
             }
            },
            "type": "scattergl"
           }
          ],
          "scattermapbox": [
           {
            "marker": {
             "colorbar": {
              "outlinewidth": 0,
              "ticks": ""
             }
            },
            "type": "scattermapbox"
           }
          ],
          "scatterpolar": [
           {
            "marker": {
             "colorbar": {
              "outlinewidth": 0,
              "ticks": ""
             }
            },
            "type": "scatterpolar"
           }
          ],
          "scatterpolargl": [
           {
            "marker": {
             "colorbar": {
              "outlinewidth": 0,
              "ticks": ""
             }
            },
            "type": "scatterpolargl"
           }
          ],
          "scatterternary": [
           {
            "marker": {
             "colorbar": {
              "outlinewidth": 0,
              "ticks": ""
             }
            },
            "type": "scatterternary"
           }
          ],
          "surface": [
           {
            "colorbar": {
             "outlinewidth": 0,
             "ticks": ""
            },
            "colorscale": [
             [
              0.0,
              "#0d0887"
             ],
             [
              0.1111111111111111,
              "#46039f"
             ],
             [
              0.2222222222222222,
              "#7201a8"
             ],
             [
              0.3333333333333333,
              "#9c179e"
             ],
             [
              0.4444444444444444,
              "#bd3786"
             ],
             [
              0.5555555555555556,
              "#d8576b"
             ],
             [
              0.6666666666666666,
              "#ed7953"
             ],
             [
              0.7777777777777778,
              "#fb9f3a"
             ],
             [
              0.8888888888888888,
              "#fdca26"
             ],
             [
              1.0,
              "#f0f921"
             ]
            ],
            "type": "surface"
           }
          ],
          "table": [
           {
            "cells": {
             "fill": {
              "color": "#EBF0F8"
             },
             "line": {
              "color": "white"
             }
            },
            "header": {
             "fill": {
              "color": "#C8D4E3"
             },
             "line": {
              "color": "white"
             }
            },
            "type": "table"
           }
          ]
         },
         "layout": {
          "annotationdefaults": {
           "arrowcolor": "#2a3f5f",
           "arrowhead": 0,
           "arrowwidth": 1
          },
          "autotypenumbers": "strict",
          "coloraxis": {
           "colorbar": {
            "outlinewidth": 0,
            "ticks": ""
           }
          },
          "colorscale": {
           "diverging": [
            [
             0,
             "#8e0152"
            ],
            [
             0.1,
             "#c51b7d"
            ],
            [
             0.2,
             "#de77ae"
            ],
            [
             0.3,
             "#f1b6da"
            ],
            [
             0.4,
             "#fde0ef"
            ],
            [
             0.5,
             "#f7f7f7"
            ],
            [
             0.6,
             "#e6f5d0"
            ],
            [
             0.7,
             "#b8e186"
            ],
            [
             0.8,
             "#7fbc41"
            ],
            [
             0.9,
             "#4d9221"
            ],
            [
             1,
             "#276419"
            ]
           ],
           "sequential": [
            [
             0.0,
             "#0d0887"
            ],
            [
             0.1111111111111111,
             "#46039f"
            ],
            [
             0.2222222222222222,
             "#7201a8"
            ],
            [
             0.3333333333333333,
             "#9c179e"
            ],
            [
             0.4444444444444444,
             "#bd3786"
            ],
            [
             0.5555555555555556,
             "#d8576b"
            ],
            [
             0.6666666666666666,
             "#ed7953"
            ],
            [
             0.7777777777777778,
             "#fb9f3a"
            ],
            [
             0.8888888888888888,
             "#fdca26"
            ],
            [
             1.0,
             "#f0f921"
            ]
           ],
           "sequentialminus": [
            [
             0.0,
             "#0d0887"
            ],
            [
             0.1111111111111111,
             "#46039f"
            ],
            [
             0.2222222222222222,
             "#7201a8"
            ],
            [
             0.3333333333333333,
             "#9c179e"
            ],
            [
             0.4444444444444444,
             "#bd3786"
            ],
            [
             0.5555555555555556,
             "#d8576b"
            ],
            [
             0.6666666666666666,
             "#ed7953"
            ],
            [
             0.7777777777777778,
             "#fb9f3a"
            ],
            [
             0.8888888888888888,
             "#fdca26"
            ],
            [
             1.0,
             "#f0f921"
            ]
           ]
          },
          "colorway": [
           "#636efa",
           "#EF553B",
           "#00cc96",
           "#ab63fa",
           "#FFA15A",
           "#19d3f3",
           "#FF6692",
           "#B6E880",
           "#FF97FF",
           "#FECB52"
          ],
          "font": {
           "color": "#2a3f5f"
          },
          "geo": {
           "bgcolor": "white",
           "lakecolor": "white",
           "landcolor": "#E5ECF6",
           "showlakes": true,
           "showland": true,
           "subunitcolor": "white"
          },
          "hoverlabel": {
           "align": "left"
          },
          "hovermode": "closest",
          "mapbox": {
           "style": "light"
          },
          "paper_bgcolor": "white",
          "plot_bgcolor": "#E5ECF6",
          "polar": {
           "angularaxis": {
            "gridcolor": "white",
            "linecolor": "white",
            "ticks": ""
           },
           "bgcolor": "#E5ECF6",
           "radialaxis": {
            "gridcolor": "white",
            "linecolor": "white",
            "ticks": ""
           }
          },
          "scene": {
           "xaxis": {
            "backgroundcolor": "#E5ECF6",
            "gridcolor": "white",
            "gridwidth": 2,
            "linecolor": "white",
            "showbackground": true,
            "ticks": "",
            "zerolinecolor": "white"
           },
           "yaxis": {
            "backgroundcolor": "#E5ECF6",
            "gridcolor": "white",
            "gridwidth": 2,
            "linecolor": "white",
            "showbackground": true,
            "ticks": "",
            "zerolinecolor": "white"
           },
           "zaxis": {
            "backgroundcolor": "#E5ECF6",
            "gridcolor": "white",
            "gridwidth": 2,
            "linecolor": "white",
            "showbackground": true,
            "ticks": "",
            "zerolinecolor": "white"
           }
          },
          "shapedefaults": {
           "line": {
            "color": "#2a3f5f"
           }
          },
          "ternary": {
           "aaxis": {
            "gridcolor": "white",
            "linecolor": "white",
            "ticks": ""
           },
           "baxis": {
            "gridcolor": "white",
            "linecolor": "white",
            "ticks": ""
           },
           "bgcolor": "#E5ECF6",
           "caxis": {
            "gridcolor": "white",
            "linecolor": "white",
            "ticks": ""
           }
          },
          "title": {
           "x": 0.05
          },
          "xaxis": {
           "automargin": true,
           "gridcolor": "white",
           "linecolor": "white",
           "ticks": "",
           "title": {
            "standoff": 15
           },
           "zerolinecolor": "white",
           "zerolinewidth": 2
          },
          "yaxis": {
           "automargin": true,
           "gridcolor": "white",
           "linecolor": "white",
           "ticks": "",
           "title": {
            "standoff": 15
           },
           "zerolinecolor": "white",
           "zerolinewidth": 2
          }
         }
        },
        "title": {
         "font": {
          "color": "#221f1f",
          "family": "Calibri Black",
          "size": 22
         },
         "text": "Affect of Ever_Married on Customer Segmentation",
         "x": 0.5
        },
        "width": 600
       }
      },
      "text/html": [
       "<div>                            <div id=\"ed205b46-f48f-415f-ad3b-b01f43a0a746\" class=\"plotly-graph-div\" style=\"height:600px; width:600px;\"></div>            <script type=\"text/javascript\">                require([\"plotly\"], function(Plotly) {                    window.PLOTLYENV=window.PLOTLYENV || {};                                    if (document.getElementById(\"ed205b46-f48f-415f-ad3b-b01f43a0a746\")) {                    Plotly.newPlot(                        \"ed205b46-f48f-415f-ad3b-b01f43a0a746\",                        [{\"branchvalues\": \"total\", \"customdata\": [[\"No\"], [\"Yes\"], [\"No\"], [\"Yes\"], [\"No\"], [\"Yes\"], [\"No\"], [\"Yes\"], [\"No\"], [\"Yes\"]], \"domain\": {\"x\": [0.0, 1.0], \"y\": [0.0, 1.0]}, \"hovertemplate\": \"labels=%{label}<br>count=%{value}<br>parent=%{parent}<br>id=%{id}<br>Ever_Married=%{customdata[0]}<extra></extra>\", \"ids\": [\"No/A\", \"Yes/A\", \"No/B\", \"Yes/B\", \"No/C\", \"Yes/C\", \"No/D\", \"Yes/D\", \"No\", \"Yes\"], \"labels\": [\"A\", \"A\", \"B\", \"B\", \"C\", \"C\", \"D\", \"D\", \"No\", \"Yes\"], \"marker\": {\"colors\": [\"#636efa\", \"#EF553B\", \"#636efa\", \"#EF553B\", \"#636efa\", \"#EF553B\", \"#636efa\", \"#EF553B\", \"#636efa\", \"#EF553B\"]}, \"name\": \"\", \"parents\": [\"No\", \"Yes\", \"No\", \"Yes\", \"No\", \"Yes\", \"No\", \"Yes\", \"\", \"\"], \"textinfo\": \"label+percent parent\", \"type\": \"sunburst\", \"values\": [801, 1137, 479, 1348, 398, 1549, 1607, 609, 3285, 4643]}],                        {\"height\": 600, \"legend\": {\"tracegroupgap\": 0}, \"plot_bgcolor\": \"white\", \"template\": {\"data\": {\"bar\": [{\"error_x\": {\"color\": \"#2a3f5f\"}, \"error_y\": {\"color\": \"#2a3f5f\"}, \"marker\": {\"line\": {\"color\": \"#E5ECF6\", \"width\": 0.5}}, \"type\": \"bar\"}], \"barpolar\": [{\"marker\": {\"line\": {\"color\": \"#E5ECF6\", \"width\": 0.5}}, \"type\": \"barpolar\"}], \"carpet\": [{\"aaxis\": {\"endlinecolor\": \"#2a3f5f\", \"gridcolor\": \"white\", \"linecolor\": \"white\", \"minorgridcolor\": \"white\", \"startlinecolor\": \"#2a3f5f\"}, \"baxis\": {\"endlinecolor\": \"#2a3f5f\", \"gridcolor\": \"white\", \"linecolor\": \"white\", \"minorgridcolor\": \"white\", \"startlinecolor\": \"#2a3f5f\"}, \"type\": \"carpet\"}], \"choropleth\": [{\"colorbar\": {\"outlinewidth\": 0, \"ticks\": \"\"}, \"type\": \"choropleth\"}], \"contour\": [{\"colorbar\": {\"outlinewidth\": 0, \"ticks\": \"\"}, \"colorscale\": [[0.0, \"#0d0887\"], [0.1111111111111111, \"#46039f\"], [0.2222222222222222, \"#7201a8\"], [0.3333333333333333, \"#9c179e\"], [0.4444444444444444, \"#bd3786\"], [0.5555555555555556, \"#d8576b\"], [0.6666666666666666, \"#ed7953\"], [0.7777777777777778, \"#fb9f3a\"], [0.8888888888888888, \"#fdca26\"], [1.0, \"#f0f921\"]], \"type\": \"contour\"}], \"contourcarpet\": [{\"colorbar\": {\"outlinewidth\": 0, \"ticks\": \"\"}, \"type\": \"contourcarpet\"}], \"heatmap\": [{\"colorbar\": {\"outlinewidth\": 0, \"ticks\": \"\"}, \"colorscale\": [[0.0, \"#0d0887\"], [0.1111111111111111, \"#46039f\"], [0.2222222222222222, \"#7201a8\"], [0.3333333333333333, \"#9c179e\"], [0.4444444444444444, \"#bd3786\"], [0.5555555555555556, \"#d8576b\"], [0.6666666666666666, \"#ed7953\"], [0.7777777777777778, \"#fb9f3a\"], [0.8888888888888888, \"#fdca26\"], [1.0, \"#f0f921\"]], \"type\": \"heatmap\"}], \"heatmapgl\": [{\"colorbar\": {\"outlinewidth\": 0, \"ticks\": \"\"}, \"colorscale\": [[0.0, \"#0d0887\"], [0.1111111111111111, \"#46039f\"], [0.2222222222222222, \"#7201a8\"], [0.3333333333333333, \"#9c179e\"], [0.4444444444444444, \"#bd3786\"], [0.5555555555555556, \"#d8576b\"], [0.6666666666666666, \"#ed7953\"], [0.7777777777777778, \"#fb9f3a\"], [0.8888888888888888, \"#fdca26\"], [1.0, \"#f0f921\"]], \"type\": \"heatmapgl\"}], \"histogram\": [{\"marker\": {\"colorbar\": {\"outlinewidth\": 0, \"ticks\": \"\"}}, \"type\": \"histogram\"}], \"histogram2d\": [{\"colorbar\": {\"outlinewidth\": 0, \"ticks\": \"\"}, \"colorscale\": [[0.0, \"#0d0887\"], [0.1111111111111111, \"#46039f\"], [0.2222222222222222, \"#7201a8\"], [0.3333333333333333, \"#9c179e\"], [0.4444444444444444, \"#bd3786\"], [0.5555555555555556, \"#d8576b\"], [0.6666666666666666, \"#ed7953\"], [0.7777777777777778, \"#fb9f3a\"], [0.8888888888888888, \"#fdca26\"], [1.0, \"#f0f921\"]], \"type\": \"histogram2d\"}], \"histogram2dcontour\": [{\"colorbar\": {\"outlinewidth\": 0, \"ticks\": \"\"}, \"colorscale\": [[0.0, \"#0d0887\"], [0.1111111111111111, \"#46039f\"], [0.2222222222222222, \"#7201a8\"], [0.3333333333333333, \"#9c179e\"], [0.4444444444444444, \"#bd3786\"], [0.5555555555555556, \"#d8576b\"], [0.6666666666666666, \"#ed7953\"], [0.7777777777777778, \"#fb9f3a\"], [0.8888888888888888, \"#fdca26\"], [1.0, \"#f0f921\"]], \"type\": \"histogram2dcontour\"}], \"mesh3d\": [{\"colorbar\": {\"outlinewidth\": 0, \"ticks\": \"\"}, \"type\": \"mesh3d\"}], \"parcoords\": [{\"line\": {\"colorbar\": {\"outlinewidth\": 0, \"ticks\": \"\"}}, \"type\": \"parcoords\"}], \"pie\": [{\"automargin\": true, \"type\": \"pie\"}], \"scatter\": [{\"marker\": {\"colorbar\": {\"outlinewidth\": 0, \"ticks\": \"\"}}, \"type\": \"scatter\"}], \"scatter3d\": [{\"line\": {\"colorbar\": {\"outlinewidth\": 0, \"ticks\": \"\"}}, \"marker\": {\"colorbar\": {\"outlinewidth\": 0, \"ticks\": \"\"}}, \"type\": \"scatter3d\"}], \"scattercarpet\": [{\"marker\": {\"colorbar\": {\"outlinewidth\": 0, \"ticks\": \"\"}}, \"type\": \"scattercarpet\"}], \"scattergeo\": [{\"marker\": {\"colorbar\": {\"outlinewidth\": 0, \"ticks\": \"\"}}, \"type\": \"scattergeo\"}], \"scattergl\": [{\"marker\": {\"colorbar\": {\"outlinewidth\": 0, \"ticks\": \"\"}}, \"type\": \"scattergl\"}], \"scattermapbox\": [{\"marker\": {\"colorbar\": {\"outlinewidth\": 0, \"ticks\": \"\"}}, \"type\": \"scattermapbox\"}], \"scatterpolar\": [{\"marker\": {\"colorbar\": {\"outlinewidth\": 0, \"ticks\": \"\"}}, \"type\": \"scatterpolar\"}], \"scatterpolargl\": [{\"marker\": {\"colorbar\": {\"outlinewidth\": 0, \"ticks\": \"\"}}, \"type\": \"scatterpolargl\"}], \"scatterternary\": [{\"marker\": {\"colorbar\": {\"outlinewidth\": 0, \"ticks\": \"\"}}, \"type\": \"scatterternary\"}], \"surface\": [{\"colorbar\": {\"outlinewidth\": 0, \"ticks\": \"\"}, \"colorscale\": [[0.0, \"#0d0887\"], [0.1111111111111111, \"#46039f\"], [0.2222222222222222, \"#7201a8\"], [0.3333333333333333, \"#9c179e\"], [0.4444444444444444, \"#bd3786\"], [0.5555555555555556, \"#d8576b\"], [0.6666666666666666, \"#ed7953\"], [0.7777777777777778, \"#fb9f3a\"], [0.8888888888888888, \"#fdca26\"], [1.0, \"#f0f921\"]], \"type\": \"surface\"}], \"table\": [{\"cells\": {\"fill\": {\"color\": \"#EBF0F8\"}, \"line\": {\"color\": \"white\"}}, \"header\": {\"fill\": {\"color\": \"#C8D4E3\"}, \"line\": {\"color\": \"white\"}}, \"type\": \"table\"}]}, \"layout\": {\"annotationdefaults\": {\"arrowcolor\": \"#2a3f5f\", \"arrowhead\": 0, \"arrowwidth\": 1}, \"autotypenumbers\": \"strict\", \"coloraxis\": {\"colorbar\": {\"outlinewidth\": 0, \"ticks\": \"\"}}, \"colorscale\": {\"diverging\": [[0, \"#8e0152\"], [0.1, \"#c51b7d\"], [0.2, \"#de77ae\"], [0.3, \"#f1b6da\"], [0.4, \"#fde0ef\"], [0.5, \"#f7f7f7\"], [0.6, \"#e6f5d0\"], [0.7, \"#b8e186\"], [0.8, \"#7fbc41\"], [0.9, \"#4d9221\"], [1, \"#276419\"]], \"sequential\": [[0.0, \"#0d0887\"], [0.1111111111111111, \"#46039f\"], [0.2222222222222222, \"#7201a8\"], [0.3333333333333333, \"#9c179e\"], [0.4444444444444444, \"#bd3786\"], [0.5555555555555556, \"#d8576b\"], [0.6666666666666666, \"#ed7953\"], [0.7777777777777778, \"#fb9f3a\"], [0.8888888888888888, \"#fdca26\"], [1.0, \"#f0f921\"]], \"sequentialminus\": [[0.0, \"#0d0887\"], [0.1111111111111111, \"#46039f\"], [0.2222222222222222, \"#7201a8\"], [0.3333333333333333, \"#9c179e\"], [0.4444444444444444, \"#bd3786\"], [0.5555555555555556, \"#d8576b\"], [0.6666666666666666, \"#ed7953\"], [0.7777777777777778, \"#fb9f3a\"], [0.8888888888888888, \"#fdca26\"], [1.0, \"#f0f921\"]]}, \"colorway\": [\"#636efa\", \"#EF553B\", \"#00cc96\", \"#ab63fa\", \"#FFA15A\", \"#19d3f3\", \"#FF6692\", \"#B6E880\", \"#FF97FF\", \"#FECB52\"], \"font\": {\"color\": \"#2a3f5f\"}, \"geo\": {\"bgcolor\": \"white\", \"lakecolor\": \"white\", \"landcolor\": \"#E5ECF6\", \"showlakes\": true, \"showland\": true, \"subunitcolor\": \"white\"}, \"hoverlabel\": {\"align\": \"left\"}, \"hovermode\": \"closest\", \"mapbox\": {\"style\": \"light\"}, \"paper_bgcolor\": \"white\", \"plot_bgcolor\": \"#E5ECF6\", \"polar\": {\"angularaxis\": {\"gridcolor\": \"white\", \"linecolor\": \"white\", \"ticks\": \"\"}, \"bgcolor\": \"#E5ECF6\", \"radialaxis\": {\"gridcolor\": \"white\", \"linecolor\": \"white\", \"ticks\": \"\"}}, \"scene\": {\"xaxis\": {\"backgroundcolor\": \"#E5ECF6\", \"gridcolor\": \"white\", \"gridwidth\": 2, \"linecolor\": \"white\", \"showbackground\": true, \"ticks\": \"\", \"zerolinecolor\": \"white\"}, \"yaxis\": {\"backgroundcolor\": \"#E5ECF6\", \"gridcolor\": \"white\", \"gridwidth\": 2, \"linecolor\": \"white\", \"showbackground\": true, \"ticks\": \"\", \"zerolinecolor\": \"white\"}, \"zaxis\": {\"backgroundcolor\": \"#E5ECF6\", \"gridcolor\": \"white\", \"gridwidth\": 2, \"linecolor\": \"white\", \"showbackground\": true, \"ticks\": \"\", \"zerolinecolor\": \"white\"}}, \"shapedefaults\": {\"line\": {\"color\": \"#2a3f5f\"}}, \"ternary\": {\"aaxis\": {\"gridcolor\": \"white\", \"linecolor\": \"white\", \"ticks\": \"\"}, \"baxis\": {\"gridcolor\": \"white\", \"linecolor\": \"white\", \"ticks\": \"\"}, \"bgcolor\": \"#E5ECF6\", \"caxis\": {\"gridcolor\": \"white\", \"linecolor\": \"white\", \"ticks\": \"\"}}, \"title\": {\"x\": 0.05}, \"xaxis\": {\"automargin\": true, \"gridcolor\": \"white\", \"linecolor\": \"white\", \"ticks\": \"\", \"title\": {\"standoff\": 15}, \"zerolinecolor\": \"white\", \"zerolinewidth\": 2}, \"yaxis\": {\"automargin\": true, \"gridcolor\": \"white\", \"linecolor\": \"white\", \"ticks\": \"\", \"title\": {\"standoff\": 15}, \"zerolinecolor\": \"white\", \"zerolinewidth\": 2}}}, \"title\": {\"font\": {\"color\": \"#221f1f\", \"family\": \"Calibri Black\", \"size\": 22}, \"text\": \"Affect of Ever_Married on Customer Segmentation\", \"x\": 0.5}, \"width\": 600},                        {\"responsive\": true}                    ).then(function(){\n",
       "                            \n",
       "var gd = document.getElementById('ed205b46-f48f-415f-ad3b-b01f43a0a746');\n",
       "var x = new MutationObserver(function (mutations, observer) {{\n",
       "        var display = window.getComputedStyle(gd).display;\n",
       "        if (!display || display === 'none') {{\n",
       "            console.log([gd, 'removed!']);\n",
       "            Plotly.purge(gd);\n",
       "            observer.disconnect();\n",
       "        }}\n",
       "}});\n",
       "\n",
       "// Listen for the removal of the full notebook cells\n",
       "var notebookContainer = gd.closest('#notebook-container');\n",
       "if (notebookContainer) {{\n",
       "    x.observe(notebookContainer, {childList: true});\n",
       "}}\n",
       "\n",
       "// Listen for the clearing of the current output cell\n",
       "var outputEl = gd.closest('.output');\n",
       "if (outputEl) {{\n",
       "    x.observe(outputEl, {childList: true});\n",
       "}}\n",
       "\n",
       "                        })                };                });            </script>        </div>"
      ]
     },
     "metadata": {},
     "output_type": "display_data"
    },
    {
     "data": {
      "application/vnd.plotly.v1+json": {
       "config": {
        "plotlyServerURL": "https://plot.ly"
       },
       "data": [
        {
         "branchvalues": "total",
         "customdata": [
          [
           "No"
          ],
          [
           "Yes"
          ],
          [
           "No"
          ],
          [
           "Yes"
          ],
          [
           "No"
          ],
          [
           "Yes"
          ],
          [
           "No"
          ],
          [
           "Yes"
          ],
          [
           "No"
          ],
          [
           "Yes"
          ]
         ],
         "domain": {
          "x": [
           0.0,
           1.0
          ],
          "y": [
           0.0,
           1.0
          ]
         },
         "hovertemplate": "labels=%{label}<br>count=%{value}<br>parent=%{parent}<br>id=%{id}<br>Graduated=%{customdata[0]}<extra></extra>",
         "ids": [
          "No/A",
          "Yes/A",
          "No/B",
          "Yes/B",
          "No/C",
          "Yes/C",
          "No/D",
          "Yes/D",
          "No",
          "Yes"
         ],
         "labels": [
          "A",
          "A",
          "B",
          "B",
          "C",
          "C",
          "D",
          "D",
          "No",
          "Yes"
         ],
         "marker": {
          "colors": [
           "#636efa",
           "#EF553B",
           "#636efa",
           "#EF553B",
           "#636efa",
           "#EF553B",
           "#636efa",
           "#EF553B",
           "#636efa",
           "#EF553B"
          ]
         },
         "name": "",
         "parents": [
          "No",
          "Yes",
          "No",
          "Yes",
          "No",
          "Yes",
          "No",
          "Yes",
          "",
          ""
         ],
         "textinfo": "label+percent parent",
         "type": "sunburst",
         "values": [
          729,
          1219,
          508,
          1332,
          348,
          1607,
          1437,
          810,
          3022,
          4968
         ]
        }
       ],
       "layout": {
        "height": 600,
        "legend": {
         "tracegroupgap": 0
        },
        "plot_bgcolor": "white",
        "template": {
         "data": {
          "bar": [
           {
            "error_x": {
             "color": "#2a3f5f"
            },
            "error_y": {
             "color": "#2a3f5f"
            },
            "marker": {
             "line": {
              "color": "#E5ECF6",
              "width": 0.5
             }
            },
            "type": "bar"
           }
          ],
          "barpolar": [
           {
            "marker": {
             "line": {
              "color": "#E5ECF6",
              "width": 0.5
             }
            },
            "type": "barpolar"
           }
          ],
          "carpet": [
           {
            "aaxis": {
             "endlinecolor": "#2a3f5f",
             "gridcolor": "white",
             "linecolor": "white",
             "minorgridcolor": "white",
             "startlinecolor": "#2a3f5f"
            },
            "baxis": {
             "endlinecolor": "#2a3f5f",
             "gridcolor": "white",
             "linecolor": "white",
             "minorgridcolor": "white",
             "startlinecolor": "#2a3f5f"
            },
            "type": "carpet"
           }
          ],
          "choropleth": [
           {
            "colorbar": {
             "outlinewidth": 0,
             "ticks": ""
            },
            "type": "choropleth"
           }
          ],
          "contour": [
           {
            "colorbar": {
             "outlinewidth": 0,
             "ticks": ""
            },
            "colorscale": [
             [
              0.0,
              "#0d0887"
             ],
             [
              0.1111111111111111,
              "#46039f"
             ],
             [
              0.2222222222222222,
              "#7201a8"
             ],
             [
              0.3333333333333333,
              "#9c179e"
             ],
             [
              0.4444444444444444,
              "#bd3786"
             ],
             [
              0.5555555555555556,
              "#d8576b"
             ],
             [
              0.6666666666666666,
              "#ed7953"
             ],
             [
              0.7777777777777778,
              "#fb9f3a"
             ],
             [
              0.8888888888888888,
              "#fdca26"
             ],
             [
              1.0,
              "#f0f921"
             ]
            ],
            "type": "contour"
           }
          ],
          "contourcarpet": [
           {
            "colorbar": {
             "outlinewidth": 0,
             "ticks": ""
            },
            "type": "contourcarpet"
           }
          ],
          "heatmap": [
           {
            "colorbar": {
             "outlinewidth": 0,
             "ticks": ""
            },
            "colorscale": [
             [
              0.0,
              "#0d0887"
             ],
             [
              0.1111111111111111,
              "#46039f"
             ],
             [
              0.2222222222222222,
              "#7201a8"
             ],
             [
              0.3333333333333333,
              "#9c179e"
             ],
             [
              0.4444444444444444,
              "#bd3786"
             ],
             [
              0.5555555555555556,
              "#d8576b"
             ],
             [
              0.6666666666666666,
              "#ed7953"
             ],
             [
              0.7777777777777778,
              "#fb9f3a"
             ],
             [
              0.8888888888888888,
              "#fdca26"
             ],
             [
              1.0,
              "#f0f921"
             ]
            ],
            "type": "heatmap"
           }
          ],
          "heatmapgl": [
           {
            "colorbar": {
             "outlinewidth": 0,
             "ticks": ""
            },
            "colorscale": [
             [
              0.0,
              "#0d0887"
             ],
             [
              0.1111111111111111,
              "#46039f"
             ],
             [
              0.2222222222222222,
              "#7201a8"
             ],
             [
              0.3333333333333333,
              "#9c179e"
             ],
             [
              0.4444444444444444,
              "#bd3786"
             ],
             [
              0.5555555555555556,
              "#d8576b"
             ],
             [
              0.6666666666666666,
              "#ed7953"
             ],
             [
              0.7777777777777778,
              "#fb9f3a"
             ],
             [
              0.8888888888888888,
              "#fdca26"
             ],
             [
              1.0,
              "#f0f921"
             ]
            ],
            "type": "heatmapgl"
           }
          ],
          "histogram": [
           {
            "marker": {
             "colorbar": {
              "outlinewidth": 0,
              "ticks": ""
             }
            },
            "type": "histogram"
           }
          ],
          "histogram2d": [
           {
            "colorbar": {
             "outlinewidth": 0,
             "ticks": ""
            },
            "colorscale": [
             [
              0.0,
              "#0d0887"
             ],
             [
              0.1111111111111111,
              "#46039f"
             ],
             [
              0.2222222222222222,
              "#7201a8"
             ],
             [
              0.3333333333333333,
              "#9c179e"
             ],
             [
              0.4444444444444444,
              "#bd3786"
             ],
             [
              0.5555555555555556,
              "#d8576b"
             ],
             [
              0.6666666666666666,
              "#ed7953"
             ],
             [
              0.7777777777777778,
              "#fb9f3a"
             ],
             [
              0.8888888888888888,
              "#fdca26"
             ],
             [
              1.0,
              "#f0f921"
             ]
            ],
            "type": "histogram2d"
           }
          ],
          "histogram2dcontour": [
           {
            "colorbar": {
             "outlinewidth": 0,
             "ticks": ""
            },
            "colorscale": [
             [
              0.0,
              "#0d0887"
             ],
             [
              0.1111111111111111,
              "#46039f"
             ],
             [
              0.2222222222222222,
              "#7201a8"
             ],
             [
              0.3333333333333333,
              "#9c179e"
             ],
             [
              0.4444444444444444,
              "#bd3786"
             ],
             [
              0.5555555555555556,
              "#d8576b"
             ],
             [
              0.6666666666666666,
              "#ed7953"
             ],
             [
              0.7777777777777778,
              "#fb9f3a"
             ],
             [
              0.8888888888888888,
              "#fdca26"
             ],
             [
              1.0,
              "#f0f921"
             ]
            ],
            "type": "histogram2dcontour"
           }
          ],
          "mesh3d": [
           {
            "colorbar": {
             "outlinewidth": 0,
             "ticks": ""
            },
            "type": "mesh3d"
           }
          ],
          "parcoords": [
           {
            "line": {
             "colorbar": {
              "outlinewidth": 0,
              "ticks": ""
             }
            },
            "type": "parcoords"
           }
          ],
          "pie": [
           {
            "automargin": true,
            "type": "pie"
           }
          ],
          "scatter": [
           {
            "marker": {
             "colorbar": {
              "outlinewidth": 0,
              "ticks": ""
             }
            },
            "type": "scatter"
           }
          ],
          "scatter3d": [
           {
            "line": {
             "colorbar": {
              "outlinewidth": 0,
              "ticks": ""
             }
            },
            "marker": {
             "colorbar": {
              "outlinewidth": 0,
              "ticks": ""
             }
            },
            "type": "scatter3d"
           }
          ],
          "scattercarpet": [
           {
            "marker": {
             "colorbar": {
              "outlinewidth": 0,
              "ticks": ""
             }
            },
            "type": "scattercarpet"
           }
          ],
          "scattergeo": [
           {
            "marker": {
             "colorbar": {
              "outlinewidth": 0,
              "ticks": ""
             }
            },
            "type": "scattergeo"
           }
          ],
          "scattergl": [
           {
            "marker": {
             "colorbar": {
              "outlinewidth": 0,
              "ticks": ""
             }
            },
            "type": "scattergl"
           }
          ],
          "scattermapbox": [
           {
            "marker": {
             "colorbar": {
              "outlinewidth": 0,
              "ticks": ""
             }
            },
            "type": "scattermapbox"
           }
          ],
          "scatterpolar": [
           {
            "marker": {
             "colorbar": {
              "outlinewidth": 0,
              "ticks": ""
             }
            },
            "type": "scatterpolar"
           }
          ],
          "scatterpolargl": [
           {
            "marker": {
             "colorbar": {
              "outlinewidth": 0,
              "ticks": ""
             }
            },
            "type": "scatterpolargl"
           }
          ],
          "scatterternary": [
           {
            "marker": {
             "colorbar": {
              "outlinewidth": 0,
              "ticks": ""
             }
            },
            "type": "scatterternary"
           }
          ],
          "surface": [
           {
            "colorbar": {
             "outlinewidth": 0,
             "ticks": ""
            },
            "colorscale": [
             [
              0.0,
              "#0d0887"
             ],
             [
              0.1111111111111111,
              "#46039f"
             ],
             [
              0.2222222222222222,
              "#7201a8"
             ],
             [
              0.3333333333333333,
              "#9c179e"
             ],
             [
              0.4444444444444444,
              "#bd3786"
             ],
             [
              0.5555555555555556,
              "#d8576b"
             ],
             [
              0.6666666666666666,
              "#ed7953"
             ],
             [
              0.7777777777777778,
              "#fb9f3a"
             ],
             [
              0.8888888888888888,
              "#fdca26"
             ],
             [
              1.0,
              "#f0f921"
             ]
            ],
            "type": "surface"
           }
          ],
          "table": [
           {
            "cells": {
             "fill": {
              "color": "#EBF0F8"
             },
             "line": {
              "color": "white"
             }
            },
            "header": {
             "fill": {
              "color": "#C8D4E3"
             },
             "line": {
              "color": "white"
             }
            },
            "type": "table"
           }
          ]
         },
         "layout": {
          "annotationdefaults": {
           "arrowcolor": "#2a3f5f",
           "arrowhead": 0,
           "arrowwidth": 1
          },
          "autotypenumbers": "strict",
          "coloraxis": {
           "colorbar": {
            "outlinewidth": 0,
            "ticks": ""
           }
          },
          "colorscale": {
           "diverging": [
            [
             0,
             "#8e0152"
            ],
            [
             0.1,
             "#c51b7d"
            ],
            [
             0.2,
             "#de77ae"
            ],
            [
             0.3,
             "#f1b6da"
            ],
            [
             0.4,
             "#fde0ef"
            ],
            [
             0.5,
             "#f7f7f7"
            ],
            [
             0.6,
             "#e6f5d0"
            ],
            [
             0.7,
             "#b8e186"
            ],
            [
             0.8,
             "#7fbc41"
            ],
            [
             0.9,
             "#4d9221"
            ],
            [
             1,
             "#276419"
            ]
           ],
           "sequential": [
            [
             0.0,
             "#0d0887"
            ],
            [
             0.1111111111111111,
             "#46039f"
            ],
            [
             0.2222222222222222,
             "#7201a8"
            ],
            [
             0.3333333333333333,
             "#9c179e"
            ],
            [
             0.4444444444444444,
             "#bd3786"
            ],
            [
             0.5555555555555556,
             "#d8576b"
            ],
            [
             0.6666666666666666,
             "#ed7953"
            ],
            [
             0.7777777777777778,
             "#fb9f3a"
            ],
            [
             0.8888888888888888,
             "#fdca26"
            ],
            [
             1.0,
             "#f0f921"
            ]
           ],
           "sequentialminus": [
            [
             0.0,
             "#0d0887"
            ],
            [
             0.1111111111111111,
             "#46039f"
            ],
            [
             0.2222222222222222,
             "#7201a8"
            ],
            [
             0.3333333333333333,
             "#9c179e"
            ],
            [
             0.4444444444444444,
             "#bd3786"
            ],
            [
             0.5555555555555556,
             "#d8576b"
            ],
            [
             0.6666666666666666,
             "#ed7953"
            ],
            [
             0.7777777777777778,
             "#fb9f3a"
            ],
            [
             0.8888888888888888,
             "#fdca26"
            ],
            [
             1.0,
             "#f0f921"
            ]
           ]
          },
          "colorway": [
           "#636efa",
           "#EF553B",
           "#00cc96",
           "#ab63fa",
           "#FFA15A",
           "#19d3f3",
           "#FF6692",
           "#B6E880",
           "#FF97FF",
           "#FECB52"
          ],
          "font": {
           "color": "#2a3f5f"
          },
          "geo": {
           "bgcolor": "white",
           "lakecolor": "white",
           "landcolor": "#E5ECF6",
           "showlakes": true,
           "showland": true,
           "subunitcolor": "white"
          },
          "hoverlabel": {
           "align": "left"
          },
          "hovermode": "closest",
          "mapbox": {
           "style": "light"
          },
          "paper_bgcolor": "white",
          "plot_bgcolor": "#E5ECF6",
          "polar": {
           "angularaxis": {
            "gridcolor": "white",
            "linecolor": "white",
            "ticks": ""
           },
           "bgcolor": "#E5ECF6",
           "radialaxis": {
            "gridcolor": "white",
            "linecolor": "white",
            "ticks": ""
           }
          },
          "scene": {
           "xaxis": {
            "backgroundcolor": "#E5ECF6",
            "gridcolor": "white",
            "gridwidth": 2,
            "linecolor": "white",
            "showbackground": true,
            "ticks": "",
            "zerolinecolor": "white"
           },
           "yaxis": {
            "backgroundcolor": "#E5ECF6",
            "gridcolor": "white",
            "gridwidth": 2,
            "linecolor": "white",
            "showbackground": true,
            "ticks": "",
            "zerolinecolor": "white"
           },
           "zaxis": {
            "backgroundcolor": "#E5ECF6",
            "gridcolor": "white",
            "gridwidth": 2,
            "linecolor": "white",
            "showbackground": true,
            "ticks": "",
            "zerolinecolor": "white"
           }
          },
          "shapedefaults": {
           "line": {
            "color": "#2a3f5f"
           }
          },
          "ternary": {
           "aaxis": {
            "gridcolor": "white",
            "linecolor": "white",
            "ticks": ""
           },
           "baxis": {
            "gridcolor": "white",
            "linecolor": "white",
            "ticks": ""
           },
           "bgcolor": "#E5ECF6",
           "caxis": {
            "gridcolor": "white",
            "linecolor": "white",
            "ticks": ""
           }
          },
          "title": {
           "x": 0.05
          },
          "xaxis": {
           "automargin": true,
           "gridcolor": "white",
           "linecolor": "white",
           "ticks": "",
           "title": {
            "standoff": 15
           },
           "zerolinecolor": "white",
           "zerolinewidth": 2
          },
          "yaxis": {
           "automargin": true,
           "gridcolor": "white",
           "linecolor": "white",
           "ticks": "",
           "title": {
            "standoff": 15
           },
           "zerolinecolor": "white",
           "zerolinewidth": 2
          }
         }
        },
        "title": {
         "font": {
          "color": "#221f1f",
          "family": "Calibri Black",
          "size": 22
         },
         "text": "Affect of Graduated on Customer Segmentation",
         "x": 0.5
        },
        "width": 600
       }
      },
      "text/html": [
       "<div>                            <div id=\"1542ddcd-faa5-422f-93ee-00556d451734\" class=\"plotly-graph-div\" style=\"height:600px; width:600px;\"></div>            <script type=\"text/javascript\">                require([\"plotly\"], function(Plotly) {                    window.PLOTLYENV=window.PLOTLYENV || {};                                    if (document.getElementById(\"1542ddcd-faa5-422f-93ee-00556d451734\")) {                    Plotly.newPlot(                        \"1542ddcd-faa5-422f-93ee-00556d451734\",                        [{\"branchvalues\": \"total\", \"customdata\": [[\"No\"], [\"Yes\"], [\"No\"], [\"Yes\"], [\"No\"], [\"Yes\"], [\"No\"], [\"Yes\"], [\"No\"], [\"Yes\"]], \"domain\": {\"x\": [0.0, 1.0], \"y\": [0.0, 1.0]}, \"hovertemplate\": \"labels=%{label}<br>count=%{value}<br>parent=%{parent}<br>id=%{id}<br>Graduated=%{customdata[0]}<extra></extra>\", \"ids\": [\"No/A\", \"Yes/A\", \"No/B\", \"Yes/B\", \"No/C\", \"Yes/C\", \"No/D\", \"Yes/D\", \"No\", \"Yes\"], \"labels\": [\"A\", \"A\", \"B\", \"B\", \"C\", \"C\", \"D\", \"D\", \"No\", \"Yes\"], \"marker\": {\"colors\": [\"#636efa\", \"#EF553B\", \"#636efa\", \"#EF553B\", \"#636efa\", \"#EF553B\", \"#636efa\", \"#EF553B\", \"#636efa\", \"#EF553B\"]}, \"name\": \"\", \"parents\": [\"No\", \"Yes\", \"No\", \"Yes\", \"No\", \"Yes\", \"No\", \"Yes\", \"\", \"\"], \"textinfo\": \"label+percent parent\", \"type\": \"sunburst\", \"values\": [729, 1219, 508, 1332, 348, 1607, 1437, 810, 3022, 4968]}],                        {\"height\": 600, \"legend\": {\"tracegroupgap\": 0}, \"plot_bgcolor\": \"white\", \"template\": {\"data\": {\"bar\": [{\"error_x\": {\"color\": \"#2a3f5f\"}, \"error_y\": {\"color\": \"#2a3f5f\"}, \"marker\": {\"line\": {\"color\": \"#E5ECF6\", \"width\": 0.5}}, \"type\": \"bar\"}], \"barpolar\": [{\"marker\": {\"line\": {\"color\": \"#E5ECF6\", \"width\": 0.5}}, \"type\": \"barpolar\"}], \"carpet\": [{\"aaxis\": {\"endlinecolor\": \"#2a3f5f\", \"gridcolor\": \"white\", \"linecolor\": \"white\", \"minorgridcolor\": \"white\", \"startlinecolor\": \"#2a3f5f\"}, \"baxis\": {\"endlinecolor\": \"#2a3f5f\", \"gridcolor\": \"white\", \"linecolor\": \"white\", \"minorgridcolor\": \"white\", \"startlinecolor\": \"#2a3f5f\"}, \"type\": \"carpet\"}], \"choropleth\": [{\"colorbar\": {\"outlinewidth\": 0, \"ticks\": \"\"}, \"type\": \"choropleth\"}], \"contour\": [{\"colorbar\": {\"outlinewidth\": 0, \"ticks\": \"\"}, \"colorscale\": [[0.0, \"#0d0887\"], [0.1111111111111111, \"#46039f\"], [0.2222222222222222, \"#7201a8\"], [0.3333333333333333, \"#9c179e\"], [0.4444444444444444, \"#bd3786\"], [0.5555555555555556, \"#d8576b\"], [0.6666666666666666, \"#ed7953\"], [0.7777777777777778, \"#fb9f3a\"], [0.8888888888888888, \"#fdca26\"], [1.0, \"#f0f921\"]], \"type\": \"contour\"}], \"contourcarpet\": [{\"colorbar\": {\"outlinewidth\": 0, \"ticks\": \"\"}, \"type\": \"contourcarpet\"}], \"heatmap\": [{\"colorbar\": {\"outlinewidth\": 0, \"ticks\": \"\"}, \"colorscale\": [[0.0, \"#0d0887\"], [0.1111111111111111, \"#46039f\"], [0.2222222222222222, \"#7201a8\"], [0.3333333333333333, \"#9c179e\"], [0.4444444444444444, \"#bd3786\"], [0.5555555555555556, \"#d8576b\"], [0.6666666666666666, \"#ed7953\"], [0.7777777777777778, \"#fb9f3a\"], [0.8888888888888888, \"#fdca26\"], [1.0, \"#f0f921\"]], \"type\": \"heatmap\"}], \"heatmapgl\": [{\"colorbar\": {\"outlinewidth\": 0, \"ticks\": \"\"}, \"colorscale\": [[0.0, \"#0d0887\"], [0.1111111111111111, \"#46039f\"], [0.2222222222222222, \"#7201a8\"], [0.3333333333333333, \"#9c179e\"], [0.4444444444444444, \"#bd3786\"], [0.5555555555555556, \"#d8576b\"], [0.6666666666666666, \"#ed7953\"], [0.7777777777777778, \"#fb9f3a\"], [0.8888888888888888, \"#fdca26\"], [1.0, \"#f0f921\"]], \"type\": \"heatmapgl\"}], \"histogram\": [{\"marker\": {\"colorbar\": {\"outlinewidth\": 0, \"ticks\": \"\"}}, \"type\": \"histogram\"}], \"histogram2d\": [{\"colorbar\": {\"outlinewidth\": 0, \"ticks\": \"\"}, \"colorscale\": [[0.0, \"#0d0887\"], [0.1111111111111111, \"#46039f\"], [0.2222222222222222, \"#7201a8\"], [0.3333333333333333, \"#9c179e\"], [0.4444444444444444, \"#bd3786\"], [0.5555555555555556, \"#d8576b\"], [0.6666666666666666, \"#ed7953\"], [0.7777777777777778, \"#fb9f3a\"], [0.8888888888888888, \"#fdca26\"], [1.0, \"#f0f921\"]], \"type\": \"histogram2d\"}], \"histogram2dcontour\": [{\"colorbar\": {\"outlinewidth\": 0, \"ticks\": \"\"}, \"colorscale\": [[0.0, \"#0d0887\"], [0.1111111111111111, \"#46039f\"], [0.2222222222222222, \"#7201a8\"], [0.3333333333333333, \"#9c179e\"], [0.4444444444444444, \"#bd3786\"], [0.5555555555555556, \"#d8576b\"], [0.6666666666666666, \"#ed7953\"], [0.7777777777777778, \"#fb9f3a\"], [0.8888888888888888, \"#fdca26\"], [1.0, \"#f0f921\"]], \"type\": \"histogram2dcontour\"}], \"mesh3d\": [{\"colorbar\": {\"outlinewidth\": 0, \"ticks\": \"\"}, \"type\": \"mesh3d\"}], \"parcoords\": [{\"line\": {\"colorbar\": {\"outlinewidth\": 0, \"ticks\": \"\"}}, \"type\": \"parcoords\"}], \"pie\": [{\"automargin\": true, \"type\": \"pie\"}], \"scatter\": [{\"marker\": {\"colorbar\": {\"outlinewidth\": 0, \"ticks\": \"\"}}, \"type\": \"scatter\"}], \"scatter3d\": [{\"line\": {\"colorbar\": {\"outlinewidth\": 0, \"ticks\": \"\"}}, \"marker\": {\"colorbar\": {\"outlinewidth\": 0, \"ticks\": \"\"}}, \"type\": \"scatter3d\"}], \"scattercarpet\": [{\"marker\": {\"colorbar\": {\"outlinewidth\": 0, \"ticks\": \"\"}}, \"type\": \"scattercarpet\"}], \"scattergeo\": [{\"marker\": {\"colorbar\": {\"outlinewidth\": 0, \"ticks\": \"\"}}, \"type\": \"scattergeo\"}], \"scattergl\": [{\"marker\": {\"colorbar\": {\"outlinewidth\": 0, \"ticks\": \"\"}}, \"type\": \"scattergl\"}], \"scattermapbox\": [{\"marker\": {\"colorbar\": {\"outlinewidth\": 0, \"ticks\": \"\"}}, \"type\": \"scattermapbox\"}], \"scatterpolar\": [{\"marker\": {\"colorbar\": {\"outlinewidth\": 0, \"ticks\": \"\"}}, \"type\": \"scatterpolar\"}], \"scatterpolargl\": [{\"marker\": {\"colorbar\": {\"outlinewidth\": 0, \"ticks\": \"\"}}, \"type\": \"scatterpolargl\"}], \"scatterternary\": [{\"marker\": {\"colorbar\": {\"outlinewidth\": 0, \"ticks\": \"\"}}, \"type\": \"scatterternary\"}], \"surface\": [{\"colorbar\": {\"outlinewidth\": 0, \"ticks\": \"\"}, \"colorscale\": [[0.0, \"#0d0887\"], [0.1111111111111111, \"#46039f\"], [0.2222222222222222, \"#7201a8\"], [0.3333333333333333, \"#9c179e\"], [0.4444444444444444, \"#bd3786\"], [0.5555555555555556, \"#d8576b\"], [0.6666666666666666, \"#ed7953\"], [0.7777777777777778, \"#fb9f3a\"], [0.8888888888888888, \"#fdca26\"], [1.0, \"#f0f921\"]], \"type\": \"surface\"}], \"table\": [{\"cells\": {\"fill\": {\"color\": \"#EBF0F8\"}, \"line\": {\"color\": \"white\"}}, \"header\": {\"fill\": {\"color\": \"#C8D4E3\"}, \"line\": {\"color\": \"white\"}}, \"type\": \"table\"}]}, \"layout\": {\"annotationdefaults\": {\"arrowcolor\": \"#2a3f5f\", \"arrowhead\": 0, \"arrowwidth\": 1}, \"autotypenumbers\": \"strict\", \"coloraxis\": {\"colorbar\": {\"outlinewidth\": 0, \"ticks\": \"\"}}, \"colorscale\": {\"diverging\": [[0, \"#8e0152\"], [0.1, \"#c51b7d\"], [0.2, \"#de77ae\"], [0.3, \"#f1b6da\"], [0.4, \"#fde0ef\"], [0.5, \"#f7f7f7\"], [0.6, \"#e6f5d0\"], [0.7, \"#b8e186\"], [0.8, \"#7fbc41\"], [0.9, \"#4d9221\"], [1, \"#276419\"]], \"sequential\": [[0.0, \"#0d0887\"], [0.1111111111111111, \"#46039f\"], [0.2222222222222222, \"#7201a8\"], [0.3333333333333333, \"#9c179e\"], [0.4444444444444444, \"#bd3786\"], [0.5555555555555556, \"#d8576b\"], [0.6666666666666666, \"#ed7953\"], [0.7777777777777778, \"#fb9f3a\"], [0.8888888888888888, \"#fdca26\"], [1.0, \"#f0f921\"]], \"sequentialminus\": [[0.0, \"#0d0887\"], [0.1111111111111111, \"#46039f\"], [0.2222222222222222, \"#7201a8\"], [0.3333333333333333, \"#9c179e\"], [0.4444444444444444, \"#bd3786\"], [0.5555555555555556, \"#d8576b\"], [0.6666666666666666, \"#ed7953\"], [0.7777777777777778, \"#fb9f3a\"], [0.8888888888888888, \"#fdca26\"], [1.0, \"#f0f921\"]]}, \"colorway\": [\"#636efa\", \"#EF553B\", \"#00cc96\", \"#ab63fa\", \"#FFA15A\", \"#19d3f3\", \"#FF6692\", \"#B6E880\", \"#FF97FF\", \"#FECB52\"], \"font\": {\"color\": \"#2a3f5f\"}, \"geo\": {\"bgcolor\": \"white\", \"lakecolor\": \"white\", \"landcolor\": \"#E5ECF6\", \"showlakes\": true, \"showland\": true, \"subunitcolor\": \"white\"}, \"hoverlabel\": {\"align\": \"left\"}, \"hovermode\": \"closest\", \"mapbox\": {\"style\": \"light\"}, \"paper_bgcolor\": \"white\", \"plot_bgcolor\": \"#E5ECF6\", \"polar\": {\"angularaxis\": {\"gridcolor\": \"white\", \"linecolor\": \"white\", \"ticks\": \"\"}, \"bgcolor\": \"#E5ECF6\", \"radialaxis\": {\"gridcolor\": \"white\", \"linecolor\": \"white\", \"ticks\": \"\"}}, \"scene\": {\"xaxis\": {\"backgroundcolor\": \"#E5ECF6\", \"gridcolor\": \"white\", \"gridwidth\": 2, \"linecolor\": \"white\", \"showbackground\": true, \"ticks\": \"\", \"zerolinecolor\": \"white\"}, \"yaxis\": {\"backgroundcolor\": \"#E5ECF6\", \"gridcolor\": \"white\", \"gridwidth\": 2, \"linecolor\": \"white\", \"showbackground\": true, \"ticks\": \"\", \"zerolinecolor\": \"white\"}, \"zaxis\": {\"backgroundcolor\": \"#E5ECF6\", \"gridcolor\": \"white\", \"gridwidth\": 2, \"linecolor\": \"white\", \"showbackground\": true, \"ticks\": \"\", \"zerolinecolor\": \"white\"}}, \"shapedefaults\": {\"line\": {\"color\": \"#2a3f5f\"}}, \"ternary\": {\"aaxis\": {\"gridcolor\": \"white\", \"linecolor\": \"white\", \"ticks\": \"\"}, \"baxis\": {\"gridcolor\": \"white\", \"linecolor\": \"white\", \"ticks\": \"\"}, \"bgcolor\": \"#E5ECF6\", \"caxis\": {\"gridcolor\": \"white\", \"linecolor\": \"white\", \"ticks\": \"\"}}, \"title\": {\"x\": 0.05}, \"xaxis\": {\"automargin\": true, \"gridcolor\": \"white\", \"linecolor\": \"white\", \"ticks\": \"\", \"title\": {\"standoff\": 15}, \"zerolinecolor\": \"white\", \"zerolinewidth\": 2}, \"yaxis\": {\"automargin\": true, \"gridcolor\": \"white\", \"linecolor\": \"white\", \"ticks\": \"\", \"title\": {\"standoff\": 15}, \"zerolinecolor\": \"white\", \"zerolinewidth\": 2}}}, \"title\": {\"font\": {\"color\": \"#221f1f\", \"family\": \"Calibri Black\", \"size\": 22}, \"text\": \"Affect of Graduated on Customer Segmentation\", \"x\": 0.5}, \"width\": 600},                        {\"responsive\": true}                    ).then(function(){\n",
       "                            \n",
       "var gd = document.getElementById('1542ddcd-faa5-422f-93ee-00556d451734');\n",
       "var x = new MutationObserver(function (mutations, observer) {{\n",
       "        var display = window.getComputedStyle(gd).display;\n",
       "        if (!display || display === 'none') {{\n",
       "            console.log([gd, 'removed!']);\n",
       "            Plotly.purge(gd);\n",
       "            observer.disconnect();\n",
       "        }}\n",
       "}});\n",
       "\n",
       "// Listen for the removal of the full notebook cells\n",
       "var notebookContainer = gd.closest('#notebook-container');\n",
       "if (notebookContainer) {{\n",
       "    x.observe(notebookContainer, {childList: true});\n",
       "}}\n",
       "\n",
       "// Listen for the clearing of the current output cell\n",
       "var outputEl = gd.closest('.output');\n",
       "if (outputEl) {{\n",
       "    x.observe(outputEl, {childList: true});\n",
       "}}\n",
       "\n",
       "                        })                };                });            </script>        </div>"
      ]
     },
     "metadata": {},
     "output_type": "display_data"
    },
    {
     "data": {
      "application/vnd.plotly.v1+json": {
       "config": {
        "plotlyServerURL": "https://plot.ly"
       },
       "data": [
        {
         "branchvalues": "total",
         "customdata": [
          [
           "Average"
          ],
          [
           "High"
          ],
          [
           "Low"
          ],
          [
           "Average"
          ],
          [
           "High"
          ],
          [
           "Low"
          ],
          [
           "Average"
          ],
          [
           "High"
          ],
          [
           "Low"
          ],
          [
           "Average"
          ],
          [
           "High"
          ],
          [
           "Low"
          ],
          [
           "Average"
          ],
          [
           "High"
          ],
          [
           "Low"
          ]
         ],
         "domain": {
          "x": [
           0.0,
           1.0
          ],
          "y": [
           0.0,
           1.0
          ]
         },
         "hovertemplate": "labels=%{label}<br>count=%{value}<br>parent=%{parent}<br>id=%{id}<br>Spending_Score=%{customdata[0]}<extra></extra>",
         "ids": [
          "Average/A",
          "High/A",
          "Low/A",
          "Average/B",
          "High/B",
          "Low/B",
          "Average/C",
          "High/C",
          "Low/C",
          "Average/D",
          "High/D",
          "Low/D",
          "Average",
          "High",
          "Low"
         ],
         "labels": [
          "A",
          "A",
          "A",
          "B",
          "B",
          "B",
          "C",
          "C",
          "C",
          "D",
          "D",
          "D",
          "Average",
          "High",
          "Low"
         ],
         "marker": {
          "colors": [
           "#636efa",
           "#EF553B",
           "#00cc96",
           "#636efa",
           "#EF553B",
           "#00cc96",
           "#636efa",
           "#EF553B",
           "#00cc96",
           "#636efa",
           "#EF553B",
           "#00cc96",
           "#636efa",
           "#EF553B",
           "#00cc96"
          ]
         },
         "name": "",
         "parents": [
          "Average",
          "High",
          "Low",
          "Average",
          "High",
          "Low",
          "Average",
          "High",
          "Low",
          "Average",
          "High",
          "Low",
          "",
          "",
          ""
         ],
         "textinfo": "label+percent parent",
         "type": "sunburst",
         "values": [
          343,
          271,
          1358,
          590,
          384,
          884,
          903,
          405,
          662,
          138,
          156,
          1974,
          1974,
          1216,
          4878
         ]
        }
       ],
       "layout": {
        "height": 600,
        "legend": {
         "tracegroupgap": 0
        },
        "plot_bgcolor": "white",
        "template": {
         "data": {
          "bar": [
           {
            "error_x": {
             "color": "#2a3f5f"
            },
            "error_y": {
             "color": "#2a3f5f"
            },
            "marker": {
             "line": {
              "color": "#E5ECF6",
              "width": 0.5
             }
            },
            "type": "bar"
           }
          ],
          "barpolar": [
           {
            "marker": {
             "line": {
              "color": "#E5ECF6",
              "width": 0.5
             }
            },
            "type": "barpolar"
           }
          ],
          "carpet": [
           {
            "aaxis": {
             "endlinecolor": "#2a3f5f",
             "gridcolor": "white",
             "linecolor": "white",
             "minorgridcolor": "white",
             "startlinecolor": "#2a3f5f"
            },
            "baxis": {
             "endlinecolor": "#2a3f5f",
             "gridcolor": "white",
             "linecolor": "white",
             "minorgridcolor": "white",
             "startlinecolor": "#2a3f5f"
            },
            "type": "carpet"
           }
          ],
          "choropleth": [
           {
            "colorbar": {
             "outlinewidth": 0,
             "ticks": ""
            },
            "type": "choropleth"
           }
          ],
          "contour": [
           {
            "colorbar": {
             "outlinewidth": 0,
             "ticks": ""
            },
            "colorscale": [
             [
              0.0,
              "#0d0887"
             ],
             [
              0.1111111111111111,
              "#46039f"
             ],
             [
              0.2222222222222222,
              "#7201a8"
             ],
             [
              0.3333333333333333,
              "#9c179e"
             ],
             [
              0.4444444444444444,
              "#bd3786"
             ],
             [
              0.5555555555555556,
              "#d8576b"
             ],
             [
              0.6666666666666666,
              "#ed7953"
             ],
             [
              0.7777777777777778,
              "#fb9f3a"
             ],
             [
              0.8888888888888888,
              "#fdca26"
             ],
             [
              1.0,
              "#f0f921"
             ]
            ],
            "type": "contour"
           }
          ],
          "contourcarpet": [
           {
            "colorbar": {
             "outlinewidth": 0,
             "ticks": ""
            },
            "type": "contourcarpet"
           }
          ],
          "heatmap": [
           {
            "colorbar": {
             "outlinewidth": 0,
             "ticks": ""
            },
            "colorscale": [
             [
              0.0,
              "#0d0887"
             ],
             [
              0.1111111111111111,
              "#46039f"
             ],
             [
              0.2222222222222222,
              "#7201a8"
             ],
             [
              0.3333333333333333,
              "#9c179e"
             ],
             [
              0.4444444444444444,
              "#bd3786"
             ],
             [
              0.5555555555555556,
              "#d8576b"
             ],
             [
              0.6666666666666666,
              "#ed7953"
             ],
             [
              0.7777777777777778,
              "#fb9f3a"
             ],
             [
              0.8888888888888888,
              "#fdca26"
             ],
             [
              1.0,
              "#f0f921"
             ]
            ],
            "type": "heatmap"
           }
          ],
          "heatmapgl": [
           {
            "colorbar": {
             "outlinewidth": 0,
             "ticks": ""
            },
            "colorscale": [
             [
              0.0,
              "#0d0887"
             ],
             [
              0.1111111111111111,
              "#46039f"
             ],
             [
              0.2222222222222222,
              "#7201a8"
             ],
             [
              0.3333333333333333,
              "#9c179e"
             ],
             [
              0.4444444444444444,
              "#bd3786"
             ],
             [
              0.5555555555555556,
              "#d8576b"
             ],
             [
              0.6666666666666666,
              "#ed7953"
             ],
             [
              0.7777777777777778,
              "#fb9f3a"
             ],
             [
              0.8888888888888888,
              "#fdca26"
             ],
             [
              1.0,
              "#f0f921"
             ]
            ],
            "type": "heatmapgl"
           }
          ],
          "histogram": [
           {
            "marker": {
             "colorbar": {
              "outlinewidth": 0,
              "ticks": ""
             }
            },
            "type": "histogram"
           }
          ],
          "histogram2d": [
           {
            "colorbar": {
             "outlinewidth": 0,
             "ticks": ""
            },
            "colorscale": [
             [
              0.0,
              "#0d0887"
             ],
             [
              0.1111111111111111,
              "#46039f"
             ],
             [
              0.2222222222222222,
              "#7201a8"
             ],
             [
              0.3333333333333333,
              "#9c179e"
             ],
             [
              0.4444444444444444,
              "#bd3786"
             ],
             [
              0.5555555555555556,
              "#d8576b"
             ],
             [
              0.6666666666666666,
              "#ed7953"
             ],
             [
              0.7777777777777778,
              "#fb9f3a"
             ],
             [
              0.8888888888888888,
              "#fdca26"
             ],
             [
              1.0,
              "#f0f921"
             ]
            ],
            "type": "histogram2d"
           }
          ],
          "histogram2dcontour": [
           {
            "colorbar": {
             "outlinewidth": 0,
             "ticks": ""
            },
            "colorscale": [
             [
              0.0,
              "#0d0887"
             ],
             [
              0.1111111111111111,
              "#46039f"
             ],
             [
              0.2222222222222222,
              "#7201a8"
             ],
             [
              0.3333333333333333,
              "#9c179e"
             ],
             [
              0.4444444444444444,
              "#bd3786"
             ],
             [
              0.5555555555555556,
              "#d8576b"
             ],
             [
              0.6666666666666666,
              "#ed7953"
             ],
             [
              0.7777777777777778,
              "#fb9f3a"
             ],
             [
              0.8888888888888888,
              "#fdca26"
             ],
             [
              1.0,
              "#f0f921"
             ]
            ],
            "type": "histogram2dcontour"
           }
          ],
          "mesh3d": [
           {
            "colorbar": {
             "outlinewidth": 0,
             "ticks": ""
            },
            "type": "mesh3d"
           }
          ],
          "parcoords": [
           {
            "line": {
             "colorbar": {
              "outlinewidth": 0,
              "ticks": ""
             }
            },
            "type": "parcoords"
           }
          ],
          "pie": [
           {
            "automargin": true,
            "type": "pie"
           }
          ],
          "scatter": [
           {
            "marker": {
             "colorbar": {
              "outlinewidth": 0,
              "ticks": ""
             }
            },
            "type": "scatter"
           }
          ],
          "scatter3d": [
           {
            "line": {
             "colorbar": {
              "outlinewidth": 0,
              "ticks": ""
             }
            },
            "marker": {
             "colorbar": {
              "outlinewidth": 0,
              "ticks": ""
             }
            },
            "type": "scatter3d"
           }
          ],
          "scattercarpet": [
           {
            "marker": {
             "colorbar": {
              "outlinewidth": 0,
              "ticks": ""
             }
            },
            "type": "scattercarpet"
           }
          ],
          "scattergeo": [
           {
            "marker": {
             "colorbar": {
              "outlinewidth": 0,
              "ticks": ""
             }
            },
            "type": "scattergeo"
           }
          ],
          "scattergl": [
           {
            "marker": {
             "colorbar": {
              "outlinewidth": 0,
              "ticks": ""
             }
            },
            "type": "scattergl"
           }
          ],
          "scattermapbox": [
           {
            "marker": {
             "colorbar": {
              "outlinewidth": 0,
              "ticks": ""
             }
            },
            "type": "scattermapbox"
           }
          ],
          "scatterpolar": [
           {
            "marker": {
             "colorbar": {
              "outlinewidth": 0,
              "ticks": ""
             }
            },
            "type": "scatterpolar"
           }
          ],
          "scatterpolargl": [
           {
            "marker": {
             "colorbar": {
              "outlinewidth": 0,
              "ticks": ""
             }
            },
            "type": "scatterpolargl"
           }
          ],
          "scatterternary": [
           {
            "marker": {
             "colorbar": {
              "outlinewidth": 0,
              "ticks": ""
             }
            },
            "type": "scatterternary"
           }
          ],
          "surface": [
           {
            "colorbar": {
             "outlinewidth": 0,
             "ticks": ""
            },
            "colorscale": [
             [
              0.0,
              "#0d0887"
             ],
             [
              0.1111111111111111,
              "#46039f"
             ],
             [
              0.2222222222222222,
              "#7201a8"
             ],
             [
              0.3333333333333333,
              "#9c179e"
             ],
             [
              0.4444444444444444,
              "#bd3786"
             ],
             [
              0.5555555555555556,
              "#d8576b"
             ],
             [
              0.6666666666666666,
              "#ed7953"
             ],
             [
              0.7777777777777778,
              "#fb9f3a"
             ],
             [
              0.8888888888888888,
              "#fdca26"
             ],
             [
              1.0,
              "#f0f921"
             ]
            ],
            "type": "surface"
           }
          ],
          "table": [
           {
            "cells": {
             "fill": {
              "color": "#EBF0F8"
             },
             "line": {
              "color": "white"
             }
            },
            "header": {
             "fill": {
              "color": "#C8D4E3"
             },
             "line": {
              "color": "white"
             }
            },
            "type": "table"
           }
          ]
         },
         "layout": {
          "annotationdefaults": {
           "arrowcolor": "#2a3f5f",
           "arrowhead": 0,
           "arrowwidth": 1
          },
          "autotypenumbers": "strict",
          "coloraxis": {
           "colorbar": {
            "outlinewidth": 0,
            "ticks": ""
           }
          },
          "colorscale": {
           "diverging": [
            [
             0,
             "#8e0152"
            ],
            [
             0.1,
             "#c51b7d"
            ],
            [
             0.2,
             "#de77ae"
            ],
            [
             0.3,
             "#f1b6da"
            ],
            [
             0.4,
             "#fde0ef"
            ],
            [
             0.5,
             "#f7f7f7"
            ],
            [
             0.6,
             "#e6f5d0"
            ],
            [
             0.7,
             "#b8e186"
            ],
            [
             0.8,
             "#7fbc41"
            ],
            [
             0.9,
             "#4d9221"
            ],
            [
             1,
             "#276419"
            ]
           ],
           "sequential": [
            [
             0.0,
             "#0d0887"
            ],
            [
             0.1111111111111111,
             "#46039f"
            ],
            [
             0.2222222222222222,
             "#7201a8"
            ],
            [
             0.3333333333333333,
             "#9c179e"
            ],
            [
             0.4444444444444444,
             "#bd3786"
            ],
            [
             0.5555555555555556,
             "#d8576b"
            ],
            [
             0.6666666666666666,
             "#ed7953"
            ],
            [
             0.7777777777777778,
             "#fb9f3a"
            ],
            [
             0.8888888888888888,
             "#fdca26"
            ],
            [
             1.0,
             "#f0f921"
            ]
           ],
           "sequentialminus": [
            [
             0.0,
             "#0d0887"
            ],
            [
             0.1111111111111111,
             "#46039f"
            ],
            [
             0.2222222222222222,
             "#7201a8"
            ],
            [
             0.3333333333333333,
             "#9c179e"
            ],
            [
             0.4444444444444444,
             "#bd3786"
            ],
            [
             0.5555555555555556,
             "#d8576b"
            ],
            [
             0.6666666666666666,
             "#ed7953"
            ],
            [
             0.7777777777777778,
             "#fb9f3a"
            ],
            [
             0.8888888888888888,
             "#fdca26"
            ],
            [
             1.0,
             "#f0f921"
            ]
           ]
          },
          "colorway": [
           "#636efa",
           "#EF553B",
           "#00cc96",
           "#ab63fa",
           "#FFA15A",
           "#19d3f3",
           "#FF6692",
           "#B6E880",
           "#FF97FF",
           "#FECB52"
          ],
          "font": {
           "color": "#2a3f5f"
          },
          "geo": {
           "bgcolor": "white",
           "lakecolor": "white",
           "landcolor": "#E5ECF6",
           "showlakes": true,
           "showland": true,
           "subunitcolor": "white"
          },
          "hoverlabel": {
           "align": "left"
          },
          "hovermode": "closest",
          "mapbox": {
           "style": "light"
          },
          "paper_bgcolor": "white",
          "plot_bgcolor": "#E5ECF6",
          "polar": {
           "angularaxis": {
            "gridcolor": "white",
            "linecolor": "white",
            "ticks": ""
           },
           "bgcolor": "#E5ECF6",
           "radialaxis": {
            "gridcolor": "white",
            "linecolor": "white",
            "ticks": ""
           }
          },
          "scene": {
           "xaxis": {
            "backgroundcolor": "#E5ECF6",
            "gridcolor": "white",
            "gridwidth": 2,
            "linecolor": "white",
            "showbackground": true,
            "ticks": "",
            "zerolinecolor": "white"
           },
           "yaxis": {
            "backgroundcolor": "#E5ECF6",
            "gridcolor": "white",
            "gridwidth": 2,
            "linecolor": "white",
            "showbackground": true,
            "ticks": "",
            "zerolinecolor": "white"
           },
           "zaxis": {
            "backgroundcolor": "#E5ECF6",
            "gridcolor": "white",
            "gridwidth": 2,
            "linecolor": "white",
            "showbackground": true,
            "ticks": "",
            "zerolinecolor": "white"
           }
          },
          "shapedefaults": {
           "line": {
            "color": "#2a3f5f"
           }
          },
          "ternary": {
           "aaxis": {
            "gridcolor": "white",
            "linecolor": "white",
            "ticks": ""
           },
           "baxis": {
            "gridcolor": "white",
            "linecolor": "white",
            "ticks": ""
           },
           "bgcolor": "#E5ECF6",
           "caxis": {
            "gridcolor": "white",
            "linecolor": "white",
            "ticks": ""
           }
          },
          "title": {
           "x": 0.05
          },
          "xaxis": {
           "automargin": true,
           "gridcolor": "white",
           "linecolor": "white",
           "ticks": "",
           "title": {
            "standoff": 15
           },
           "zerolinecolor": "white",
           "zerolinewidth": 2
          },
          "yaxis": {
           "automargin": true,
           "gridcolor": "white",
           "linecolor": "white",
           "ticks": "",
           "title": {
            "standoff": 15
           },
           "zerolinecolor": "white",
           "zerolinewidth": 2
          }
         }
        },
        "title": {
         "font": {
          "color": "#221f1f",
          "family": "Calibri Black",
          "size": 22
         },
         "text": "Affect of Spending_Score on Customer Segmentation",
         "x": 0.5
        },
        "width": 600
       }
      },
      "text/html": [
       "<div>                            <div id=\"78d8ac4b-8ab3-4b6c-81ad-67fd31f261e0\" class=\"plotly-graph-div\" style=\"height:600px; width:600px;\"></div>            <script type=\"text/javascript\">                require([\"plotly\"], function(Plotly) {                    window.PLOTLYENV=window.PLOTLYENV || {};                                    if (document.getElementById(\"78d8ac4b-8ab3-4b6c-81ad-67fd31f261e0\")) {                    Plotly.newPlot(                        \"78d8ac4b-8ab3-4b6c-81ad-67fd31f261e0\",                        [{\"branchvalues\": \"total\", \"customdata\": [[\"Average\"], [\"High\"], [\"Low\"], [\"Average\"], [\"High\"], [\"Low\"], [\"Average\"], [\"High\"], [\"Low\"], [\"Average\"], [\"High\"], [\"Low\"], [\"Average\"], [\"High\"], [\"Low\"]], \"domain\": {\"x\": [0.0, 1.0], \"y\": [0.0, 1.0]}, \"hovertemplate\": \"labels=%{label}<br>count=%{value}<br>parent=%{parent}<br>id=%{id}<br>Spending_Score=%{customdata[0]}<extra></extra>\", \"ids\": [\"Average/A\", \"High/A\", \"Low/A\", \"Average/B\", \"High/B\", \"Low/B\", \"Average/C\", \"High/C\", \"Low/C\", \"Average/D\", \"High/D\", \"Low/D\", \"Average\", \"High\", \"Low\"], \"labels\": [\"A\", \"A\", \"A\", \"B\", \"B\", \"B\", \"C\", \"C\", \"C\", \"D\", \"D\", \"D\", \"Average\", \"High\", \"Low\"], \"marker\": {\"colors\": [\"#636efa\", \"#EF553B\", \"#00cc96\", \"#636efa\", \"#EF553B\", \"#00cc96\", \"#636efa\", \"#EF553B\", \"#00cc96\", \"#636efa\", \"#EF553B\", \"#00cc96\", \"#636efa\", \"#EF553B\", \"#00cc96\"]}, \"name\": \"\", \"parents\": [\"Average\", \"High\", \"Low\", \"Average\", \"High\", \"Low\", \"Average\", \"High\", \"Low\", \"Average\", \"High\", \"Low\", \"\", \"\", \"\"], \"textinfo\": \"label+percent parent\", \"type\": \"sunburst\", \"values\": [343, 271, 1358, 590, 384, 884, 903, 405, 662, 138, 156, 1974, 1974, 1216, 4878]}],                        {\"height\": 600, \"legend\": {\"tracegroupgap\": 0}, \"plot_bgcolor\": \"white\", \"template\": {\"data\": {\"bar\": [{\"error_x\": {\"color\": \"#2a3f5f\"}, \"error_y\": {\"color\": \"#2a3f5f\"}, \"marker\": {\"line\": {\"color\": \"#E5ECF6\", \"width\": 0.5}}, \"type\": \"bar\"}], \"barpolar\": [{\"marker\": {\"line\": {\"color\": \"#E5ECF6\", \"width\": 0.5}}, \"type\": \"barpolar\"}], \"carpet\": [{\"aaxis\": {\"endlinecolor\": \"#2a3f5f\", \"gridcolor\": \"white\", \"linecolor\": \"white\", \"minorgridcolor\": \"white\", \"startlinecolor\": \"#2a3f5f\"}, \"baxis\": {\"endlinecolor\": \"#2a3f5f\", \"gridcolor\": \"white\", \"linecolor\": \"white\", \"minorgridcolor\": \"white\", \"startlinecolor\": \"#2a3f5f\"}, \"type\": \"carpet\"}], \"choropleth\": [{\"colorbar\": {\"outlinewidth\": 0, \"ticks\": \"\"}, \"type\": \"choropleth\"}], \"contour\": [{\"colorbar\": {\"outlinewidth\": 0, \"ticks\": \"\"}, \"colorscale\": [[0.0, \"#0d0887\"], [0.1111111111111111, \"#46039f\"], [0.2222222222222222, \"#7201a8\"], [0.3333333333333333, \"#9c179e\"], [0.4444444444444444, \"#bd3786\"], [0.5555555555555556, \"#d8576b\"], [0.6666666666666666, \"#ed7953\"], [0.7777777777777778, \"#fb9f3a\"], [0.8888888888888888, \"#fdca26\"], [1.0, \"#f0f921\"]], \"type\": \"contour\"}], \"contourcarpet\": [{\"colorbar\": {\"outlinewidth\": 0, \"ticks\": \"\"}, \"type\": \"contourcarpet\"}], \"heatmap\": [{\"colorbar\": {\"outlinewidth\": 0, \"ticks\": \"\"}, \"colorscale\": [[0.0, \"#0d0887\"], [0.1111111111111111, \"#46039f\"], [0.2222222222222222, \"#7201a8\"], [0.3333333333333333, \"#9c179e\"], [0.4444444444444444, \"#bd3786\"], [0.5555555555555556, \"#d8576b\"], [0.6666666666666666, \"#ed7953\"], [0.7777777777777778, \"#fb9f3a\"], [0.8888888888888888, \"#fdca26\"], [1.0, \"#f0f921\"]], \"type\": \"heatmap\"}], \"heatmapgl\": [{\"colorbar\": {\"outlinewidth\": 0, \"ticks\": \"\"}, \"colorscale\": [[0.0, \"#0d0887\"], [0.1111111111111111, \"#46039f\"], [0.2222222222222222, \"#7201a8\"], [0.3333333333333333, \"#9c179e\"], [0.4444444444444444, \"#bd3786\"], [0.5555555555555556, \"#d8576b\"], [0.6666666666666666, \"#ed7953\"], [0.7777777777777778, \"#fb9f3a\"], [0.8888888888888888, \"#fdca26\"], [1.0, \"#f0f921\"]], \"type\": \"heatmapgl\"}], \"histogram\": [{\"marker\": {\"colorbar\": {\"outlinewidth\": 0, \"ticks\": \"\"}}, \"type\": \"histogram\"}], \"histogram2d\": [{\"colorbar\": {\"outlinewidth\": 0, \"ticks\": \"\"}, \"colorscale\": [[0.0, \"#0d0887\"], [0.1111111111111111, \"#46039f\"], [0.2222222222222222, \"#7201a8\"], [0.3333333333333333, \"#9c179e\"], [0.4444444444444444, \"#bd3786\"], [0.5555555555555556, \"#d8576b\"], [0.6666666666666666, \"#ed7953\"], [0.7777777777777778, \"#fb9f3a\"], [0.8888888888888888, \"#fdca26\"], [1.0, \"#f0f921\"]], \"type\": \"histogram2d\"}], \"histogram2dcontour\": [{\"colorbar\": {\"outlinewidth\": 0, \"ticks\": \"\"}, \"colorscale\": [[0.0, \"#0d0887\"], [0.1111111111111111, \"#46039f\"], [0.2222222222222222, \"#7201a8\"], [0.3333333333333333, \"#9c179e\"], [0.4444444444444444, \"#bd3786\"], [0.5555555555555556, \"#d8576b\"], [0.6666666666666666, \"#ed7953\"], [0.7777777777777778, \"#fb9f3a\"], [0.8888888888888888, \"#fdca26\"], [1.0, \"#f0f921\"]], \"type\": \"histogram2dcontour\"}], \"mesh3d\": [{\"colorbar\": {\"outlinewidth\": 0, \"ticks\": \"\"}, \"type\": \"mesh3d\"}], \"parcoords\": [{\"line\": {\"colorbar\": {\"outlinewidth\": 0, \"ticks\": \"\"}}, \"type\": \"parcoords\"}], \"pie\": [{\"automargin\": true, \"type\": \"pie\"}], \"scatter\": [{\"marker\": {\"colorbar\": {\"outlinewidth\": 0, \"ticks\": \"\"}}, \"type\": \"scatter\"}], \"scatter3d\": [{\"line\": {\"colorbar\": {\"outlinewidth\": 0, \"ticks\": \"\"}}, \"marker\": {\"colorbar\": {\"outlinewidth\": 0, \"ticks\": \"\"}}, \"type\": \"scatter3d\"}], \"scattercarpet\": [{\"marker\": {\"colorbar\": {\"outlinewidth\": 0, \"ticks\": \"\"}}, \"type\": \"scattercarpet\"}], \"scattergeo\": [{\"marker\": {\"colorbar\": {\"outlinewidth\": 0, \"ticks\": \"\"}}, \"type\": \"scattergeo\"}], \"scattergl\": [{\"marker\": {\"colorbar\": {\"outlinewidth\": 0, \"ticks\": \"\"}}, \"type\": \"scattergl\"}], \"scattermapbox\": [{\"marker\": {\"colorbar\": {\"outlinewidth\": 0, \"ticks\": \"\"}}, \"type\": \"scattermapbox\"}], \"scatterpolar\": [{\"marker\": {\"colorbar\": {\"outlinewidth\": 0, \"ticks\": \"\"}}, \"type\": \"scatterpolar\"}], \"scatterpolargl\": [{\"marker\": {\"colorbar\": {\"outlinewidth\": 0, \"ticks\": \"\"}}, \"type\": \"scatterpolargl\"}], \"scatterternary\": [{\"marker\": {\"colorbar\": {\"outlinewidth\": 0, \"ticks\": \"\"}}, \"type\": \"scatterternary\"}], \"surface\": [{\"colorbar\": {\"outlinewidth\": 0, \"ticks\": \"\"}, \"colorscale\": [[0.0, \"#0d0887\"], [0.1111111111111111, \"#46039f\"], [0.2222222222222222, \"#7201a8\"], [0.3333333333333333, \"#9c179e\"], [0.4444444444444444, \"#bd3786\"], [0.5555555555555556, \"#d8576b\"], [0.6666666666666666, \"#ed7953\"], [0.7777777777777778, \"#fb9f3a\"], [0.8888888888888888, \"#fdca26\"], [1.0, \"#f0f921\"]], \"type\": \"surface\"}], \"table\": [{\"cells\": {\"fill\": {\"color\": \"#EBF0F8\"}, \"line\": {\"color\": \"white\"}}, \"header\": {\"fill\": {\"color\": \"#C8D4E3\"}, \"line\": {\"color\": \"white\"}}, \"type\": \"table\"}]}, \"layout\": {\"annotationdefaults\": {\"arrowcolor\": \"#2a3f5f\", \"arrowhead\": 0, \"arrowwidth\": 1}, \"autotypenumbers\": \"strict\", \"coloraxis\": {\"colorbar\": {\"outlinewidth\": 0, \"ticks\": \"\"}}, \"colorscale\": {\"diverging\": [[0, \"#8e0152\"], [0.1, \"#c51b7d\"], [0.2, \"#de77ae\"], [0.3, \"#f1b6da\"], [0.4, \"#fde0ef\"], [0.5, \"#f7f7f7\"], [0.6, \"#e6f5d0\"], [0.7, \"#b8e186\"], [0.8, \"#7fbc41\"], [0.9, \"#4d9221\"], [1, \"#276419\"]], \"sequential\": [[0.0, \"#0d0887\"], [0.1111111111111111, \"#46039f\"], [0.2222222222222222, \"#7201a8\"], [0.3333333333333333, \"#9c179e\"], [0.4444444444444444, \"#bd3786\"], [0.5555555555555556, \"#d8576b\"], [0.6666666666666666, \"#ed7953\"], [0.7777777777777778, \"#fb9f3a\"], [0.8888888888888888, \"#fdca26\"], [1.0, \"#f0f921\"]], \"sequentialminus\": [[0.0, \"#0d0887\"], [0.1111111111111111, \"#46039f\"], [0.2222222222222222, \"#7201a8\"], [0.3333333333333333, \"#9c179e\"], [0.4444444444444444, \"#bd3786\"], [0.5555555555555556, \"#d8576b\"], [0.6666666666666666, \"#ed7953\"], [0.7777777777777778, \"#fb9f3a\"], [0.8888888888888888, \"#fdca26\"], [1.0, \"#f0f921\"]]}, \"colorway\": [\"#636efa\", \"#EF553B\", \"#00cc96\", \"#ab63fa\", \"#FFA15A\", \"#19d3f3\", \"#FF6692\", \"#B6E880\", \"#FF97FF\", \"#FECB52\"], \"font\": {\"color\": \"#2a3f5f\"}, \"geo\": {\"bgcolor\": \"white\", \"lakecolor\": \"white\", \"landcolor\": \"#E5ECF6\", \"showlakes\": true, \"showland\": true, \"subunitcolor\": \"white\"}, \"hoverlabel\": {\"align\": \"left\"}, \"hovermode\": \"closest\", \"mapbox\": {\"style\": \"light\"}, \"paper_bgcolor\": \"white\", \"plot_bgcolor\": \"#E5ECF6\", \"polar\": {\"angularaxis\": {\"gridcolor\": \"white\", \"linecolor\": \"white\", \"ticks\": \"\"}, \"bgcolor\": \"#E5ECF6\", \"radialaxis\": {\"gridcolor\": \"white\", \"linecolor\": \"white\", \"ticks\": \"\"}}, \"scene\": {\"xaxis\": {\"backgroundcolor\": \"#E5ECF6\", \"gridcolor\": \"white\", \"gridwidth\": 2, \"linecolor\": \"white\", \"showbackground\": true, \"ticks\": \"\", \"zerolinecolor\": \"white\"}, \"yaxis\": {\"backgroundcolor\": \"#E5ECF6\", \"gridcolor\": \"white\", \"gridwidth\": 2, \"linecolor\": \"white\", \"showbackground\": true, \"ticks\": \"\", \"zerolinecolor\": \"white\"}, \"zaxis\": {\"backgroundcolor\": \"#E5ECF6\", \"gridcolor\": \"white\", \"gridwidth\": 2, \"linecolor\": \"white\", \"showbackground\": true, \"ticks\": \"\", \"zerolinecolor\": \"white\"}}, \"shapedefaults\": {\"line\": {\"color\": \"#2a3f5f\"}}, \"ternary\": {\"aaxis\": {\"gridcolor\": \"white\", \"linecolor\": \"white\", \"ticks\": \"\"}, \"baxis\": {\"gridcolor\": \"white\", \"linecolor\": \"white\", \"ticks\": \"\"}, \"bgcolor\": \"#E5ECF6\", \"caxis\": {\"gridcolor\": \"white\", \"linecolor\": \"white\", \"ticks\": \"\"}}, \"title\": {\"x\": 0.05}, \"xaxis\": {\"automargin\": true, \"gridcolor\": \"white\", \"linecolor\": \"white\", \"ticks\": \"\", \"title\": {\"standoff\": 15}, \"zerolinecolor\": \"white\", \"zerolinewidth\": 2}, \"yaxis\": {\"automargin\": true, \"gridcolor\": \"white\", \"linecolor\": \"white\", \"ticks\": \"\", \"title\": {\"standoff\": 15}, \"zerolinecolor\": \"white\", \"zerolinewidth\": 2}}}, \"title\": {\"font\": {\"color\": \"#221f1f\", \"family\": \"Calibri Black\", \"size\": 22}, \"text\": \"Affect of Spending_Score on Customer Segmentation\", \"x\": 0.5}, \"width\": 600},                        {\"responsive\": true}                    ).then(function(){\n",
       "                            \n",
       "var gd = document.getElementById('78d8ac4b-8ab3-4b6c-81ad-67fd31f261e0');\n",
       "var x = new MutationObserver(function (mutations, observer) {{\n",
       "        var display = window.getComputedStyle(gd).display;\n",
       "        if (!display || display === 'none') {{\n",
       "            console.log([gd, 'removed!']);\n",
       "            Plotly.purge(gd);\n",
       "            observer.disconnect();\n",
       "        }}\n",
       "}});\n",
       "\n",
       "// Listen for the removal of the full notebook cells\n",
       "var notebookContainer = gd.closest('#notebook-container');\n",
       "if (notebookContainer) {{\n",
       "    x.observe(notebookContainer, {childList: true});\n",
       "}}\n",
       "\n",
       "// Listen for the clearing of the current output cell\n",
       "var outputEl = gd.closest('.output');\n",
       "if (outputEl) {{\n",
       "    x.observe(outputEl, {childList: true});\n",
       "}}\n",
       "\n",
       "                        })                };                });            </script>        </div>"
      ]
     },
     "metadata": {},
     "output_type": "display_data"
    }
   ],
   "source": [
    "for feature in ['Gender', 'Ever_Married', 'Graduated', 'Spending_Score']:\n",
    "    plot_pie(feature)"
   ]
  },
  {
   "cell_type": "code",
   "execution_count": 7,
   "id": "varied-frequency",
   "metadata": {
    "execution": {
     "iopub.execute_input": "2021-05-26T11:19:30.392604Z",
     "iopub.status.busy": "2021-05-26T11:19:30.391450Z",
     "iopub.status.idle": "2021-05-26T11:19:30.601279Z",
     "shell.execute_reply": "2021-05-26T11:19:30.601826Z",
     "shell.execute_reply.started": "2021-05-26T06:02:24.50623Z"
    },
    "papermill": {
     "duration": 0.285971,
     "end_time": "2021-05-26T11:19:30.601995",
     "exception": false,
     "start_time": "2021-05-26T11:19:30.316024",
     "status": "completed"
    },
    "tags": []
   },
   "outputs": [
    {
     "data": {
      "application/vnd.plotly.v1+json": {
       "config": {
        "plotlyServerURL": "https://plot.ly"
       },
       "data": [
        {
         "branchvalues": "total",
         "customdata": [
          [
           "Artist"
          ],
          [
           "Doctor"
          ],
          [
           "Engineer"
          ],
          [
           "Entertainment"
          ],
          [
           "Executive"
          ],
          [
           "Healthcare"
          ],
          [
           "Homemaker"
          ],
          [
           "Lawyer"
          ],
          [
           "Engineer"
          ],
          [
           "Doctor"
          ],
          [
           "Marketing"
          ],
          [
           "Artist"
          ],
          [
           "Entertainment"
          ],
          [
           "Executive"
          ],
          [
           "Healthcare"
          ],
          [
           "Homemaker"
          ],
          [
           "Doctor"
          ],
          [
           "Artist"
          ],
          [
           "Marketing"
          ],
          [
           "Lawyer"
          ],
          [
           "Engineer"
          ],
          [
           "Entertainment"
          ],
          [
           "Executive"
          ],
          [
           "Healthcare"
          ],
          [
           "Marketing"
          ],
          [
           "Artist"
          ],
          [
           "Homemaker"
          ],
          [
           "Lawyer"
          ],
          [
           "Doctor"
          ],
          [
           "Engineer"
          ],
          [
           "Entertainment"
          ],
          [
           "Executive"
          ],
          [
           "Lawyer"
          ],
          [
           "Healthcare"
          ],
          [
           "Homemaker"
          ],
          [
           "Marketing"
          ],
          [
           "Artist"
          ],
          [
           "Doctor"
          ],
          [
           "Engineer"
          ],
          [
           "Entertainment"
          ],
          [
           "Executive"
          ],
          [
           "Healthcare"
          ],
          [
           "Homemaker"
          ],
          [
           "Lawyer"
          ],
          [
           "Marketing"
          ]
         ],
         "domain": {
          "x": [
           0.0,
           1.0
          ],
          "y": [
           0.0,
           1.0
          ]
         },
         "hovertemplate": "labels=%{label}<br>count=%{value}<br>parent=%{parent}<br>id=%{id}<br>Profession=%{customdata[0]}<extra></extra>",
         "ids": [
          "Artist/A",
          "Doctor/A",
          "Engineer/A",
          "Entertainment/A",
          "Executive/A",
          "Healthcare/A",
          "Homemaker/A",
          "Lawyer/A",
          "Engineer/B",
          "Doctor/B",
          "Marketing/A",
          "Artist/B",
          "Entertainment/B",
          "Executive/B",
          "Healthcare/B",
          "Homemaker/B",
          "Doctor/C",
          "Artist/C",
          "Marketing/B",
          "Lawyer/B",
          "Engineer/C",
          "Entertainment/C",
          "Executive/C",
          "Healthcare/C",
          "Marketing/C",
          "Artist/D",
          "Homemaker/C",
          "Lawyer/C",
          "Doctor/D",
          "Engineer/D",
          "Entertainment/D",
          "Executive/D",
          "Lawyer/D",
          "Healthcare/D",
          "Homemaker/D",
          "Marketing/D",
          "Artist",
          "Doctor",
          "Engineer",
          "Entertainment",
          "Executive",
          "Healthcare",
          "Homemaker",
          "Lawyer",
          "Marketing"
         ],
         "labels": [
          "A",
          "A",
          "A",
          "A",
          "A",
          "A",
          "A",
          "A",
          "B",
          "B",
          "A",
          "B",
          "B",
          "B",
          "B",
          "B",
          "C",
          "C",
          "B",
          "B",
          "C",
          "C",
          "C",
          "C",
          "C",
          "D",
          "C",
          "C",
          "D",
          "D",
          "D",
          "D",
          "D",
          "D",
          "D",
          "D",
          "Artist",
          "Doctor",
          "Engineer",
          "Entertainment",
          "Executive",
          "Healthcare",
          "Homemaker",
          "Lawyer",
          "Marketing"
         ],
         "marker": {
          "colors": [
           "#636efa",
           "#EF553B",
           "#00cc96",
           "#ab63fa",
           "#FFA15A",
           "#19d3f3",
           "#FF6692",
           "#B6E880",
           "#00cc96",
           "#EF553B",
           "#FF97FF",
           "#636efa",
           "#ab63fa",
           "#FFA15A",
           "#19d3f3",
           "#FF6692",
           "#EF553B",
           "#636efa",
           "#FF97FF",
           "#B6E880",
           "#00cc96",
           "#ab63fa",
           "#FFA15A",
           "#19d3f3",
           "#FF97FF",
           "#636efa",
           "#FF6692",
           "#B6E880",
           "#EF553B",
           "#00cc96",
           "#ab63fa",
           "#FFA15A",
           "#B6E880",
           "#19d3f3",
           "#FF6692",
           "#FF97FF",
           "#636efa",
           "#EF553B",
           "#00cc96",
           "#ab63fa",
           "#FFA15A",
           "#19d3f3",
           "#FF6692",
           "#B6E880",
           "#FF97FF"
          ]
         },
         "name": "",
         "parents": [
          "Artist",
          "Doctor",
          "Engineer",
          "Entertainment",
          "Executive",
          "Healthcare",
          "Homemaker",
          "Lawyer",
          "Engineer",
          "Doctor",
          "Marketing",
          "Artist",
          "Entertainment",
          "Executive",
          "Healthcare",
          "Homemaker",
          "Doctor",
          "Artist",
          "Marketing",
          "Lawyer",
          "Engineer",
          "Entertainment",
          "Executive",
          "Healthcare",
          "Marketing",
          "Artist",
          "Homemaker",
          "Lawyer",
          "Doctor",
          "Engineer",
          "Entertainment",
          "Executive",
          "Lawyer",
          "Healthcare",
          "Homemaker",
          "Marketing",
          "",
          "",
          "",
          "",
          "",
          "",
          "",
          "",
          ""
         ],
         "textinfo": "label+percent parent",
         "type": "sunburst",
         "values": [
          558,
          199,
          259,
          365,
          125,
          106,
          73,
          197,
          189,
          143,
          57,
          756,
          221,
          183,
          101,
          55,
          140,
          1065,
          30,
          158,
          75,
          148,
          175,
          146,
          35,
          137,
          28,
          140,
          206,
          176,
          215,
          116,
          128,
          979,
          90,
          170,
          2516,
          688,
          699,
          949,
          599,
          1332,
          246,
          623,
          292
         ]
        }
       ],
       "layout": {
        "height": 600,
        "legend": {
         "tracegroupgap": 0
        },
        "plot_bgcolor": "white",
        "template": {
         "data": {
          "bar": [
           {
            "error_x": {
             "color": "#2a3f5f"
            },
            "error_y": {
             "color": "#2a3f5f"
            },
            "marker": {
             "line": {
              "color": "#E5ECF6",
              "width": 0.5
             }
            },
            "type": "bar"
           }
          ],
          "barpolar": [
           {
            "marker": {
             "line": {
              "color": "#E5ECF6",
              "width": 0.5
             }
            },
            "type": "barpolar"
           }
          ],
          "carpet": [
           {
            "aaxis": {
             "endlinecolor": "#2a3f5f",
             "gridcolor": "white",
             "linecolor": "white",
             "minorgridcolor": "white",
             "startlinecolor": "#2a3f5f"
            },
            "baxis": {
             "endlinecolor": "#2a3f5f",
             "gridcolor": "white",
             "linecolor": "white",
             "minorgridcolor": "white",
             "startlinecolor": "#2a3f5f"
            },
            "type": "carpet"
           }
          ],
          "choropleth": [
           {
            "colorbar": {
             "outlinewidth": 0,
             "ticks": ""
            },
            "type": "choropleth"
           }
          ],
          "contour": [
           {
            "colorbar": {
             "outlinewidth": 0,
             "ticks": ""
            },
            "colorscale": [
             [
              0.0,
              "#0d0887"
             ],
             [
              0.1111111111111111,
              "#46039f"
             ],
             [
              0.2222222222222222,
              "#7201a8"
             ],
             [
              0.3333333333333333,
              "#9c179e"
             ],
             [
              0.4444444444444444,
              "#bd3786"
             ],
             [
              0.5555555555555556,
              "#d8576b"
             ],
             [
              0.6666666666666666,
              "#ed7953"
             ],
             [
              0.7777777777777778,
              "#fb9f3a"
             ],
             [
              0.8888888888888888,
              "#fdca26"
             ],
             [
              1.0,
              "#f0f921"
             ]
            ],
            "type": "contour"
           }
          ],
          "contourcarpet": [
           {
            "colorbar": {
             "outlinewidth": 0,
             "ticks": ""
            },
            "type": "contourcarpet"
           }
          ],
          "heatmap": [
           {
            "colorbar": {
             "outlinewidth": 0,
             "ticks": ""
            },
            "colorscale": [
             [
              0.0,
              "#0d0887"
             ],
             [
              0.1111111111111111,
              "#46039f"
             ],
             [
              0.2222222222222222,
              "#7201a8"
             ],
             [
              0.3333333333333333,
              "#9c179e"
             ],
             [
              0.4444444444444444,
              "#bd3786"
             ],
             [
              0.5555555555555556,
              "#d8576b"
             ],
             [
              0.6666666666666666,
              "#ed7953"
             ],
             [
              0.7777777777777778,
              "#fb9f3a"
             ],
             [
              0.8888888888888888,
              "#fdca26"
             ],
             [
              1.0,
              "#f0f921"
             ]
            ],
            "type": "heatmap"
           }
          ],
          "heatmapgl": [
           {
            "colorbar": {
             "outlinewidth": 0,
             "ticks": ""
            },
            "colorscale": [
             [
              0.0,
              "#0d0887"
             ],
             [
              0.1111111111111111,
              "#46039f"
             ],
             [
              0.2222222222222222,
              "#7201a8"
             ],
             [
              0.3333333333333333,
              "#9c179e"
             ],
             [
              0.4444444444444444,
              "#bd3786"
             ],
             [
              0.5555555555555556,
              "#d8576b"
             ],
             [
              0.6666666666666666,
              "#ed7953"
             ],
             [
              0.7777777777777778,
              "#fb9f3a"
             ],
             [
              0.8888888888888888,
              "#fdca26"
             ],
             [
              1.0,
              "#f0f921"
             ]
            ],
            "type": "heatmapgl"
           }
          ],
          "histogram": [
           {
            "marker": {
             "colorbar": {
              "outlinewidth": 0,
              "ticks": ""
             }
            },
            "type": "histogram"
           }
          ],
          "histogram2d": [
           {
            "colorbar": {
             "outlinewidth": 0,
             "ticks": ""
            },
            "colorscale": [
             [
              0.0,
              "#0d0887"
             ],
             [
              0.1111111111111111,
              "#46039f"
             ],
             [
              0.2222222222222222,
              "#7201a8"
             ],
             [
              0.3333333333333333,
              "#9c179e"
             ],
             [
              0.4444444444444444,
              "#bd3786"
             ],
             [
              0.5555555555555556,
              "#d8576b"
             ],
             [
              0.6666666666666666,
              "#ed7953"
             ],
             [
              0.7777777777777778,
              "#fb9f3a"
             ],
             [
              0.8888888888888888,
              "#fdca26"
             ],
             [
              1.0,
              "#f0f921"
             ]
            ],
            "type": "histogram2d"
           }
          ],
          "histogram2dcontour": [
           {
            "colorbar": {
             "outlinewidth": 0,
             "ticks": ""
            },
            "colorscale": [
             [
              0.0,
              "#0d0887"
             ],
             [
              0.1111111111111111,
              "#46039f"
             ],
             [
              0.2222222222222222,
              "#7201a8"
             ],
             [
              0.3333333333333333,
              "#9c179e"
             ],
             [
              0.4444444444444444,
              "#bd3786"
             ],
             [
              0.5555555555555556,
              "#d8576b"
             ],
             [
              0.6666666666666666,
              "#ed7953"
             ],
             [
              0.7777777777777778,
              "#fb9f3a"
             ],
             [
              0.8888888888888888,
              "#fdca26"
             ],
             [
              1.0,
              "#f0f921"
             ]
            ],
            "type": "histogram2dcontour"
           }
          ],
          "mesh3d": [
           {
            "colorbar": {
             "outlinewidth": 0,
             "ticks": ""
            },
            "type": "mesh3d"
           }
          ],
          "parcoords": [
           {
            "line": {
             "colorbar": {
              "outlinewidth": 0,
              "ticks": ""
             }
            },
            "type": "parcoords"
           }
          ],
          "pie": [
           {
            "automargin": true,
            "type": "pie"
           }
          ],
          "scatter": [
           {
            "marker": {
             "colorbar": {
              "outlinewidth": 0,
              "ticks": ""
             }
            },
            "type": "scatter"
           }
          ],
          "scatter3d": [
           {
            "line": {
             "colorbar": {
              "outlinewidth": 0,
              "ticks": ""
             }
            },
            "marker": {
             "colorbar": {
              "outlinewidth": 0,
              "ticks": ""
             }
            },
            "type": "scatter3d"
           }
          ],
          "scattercarpet": [
           {
            "marker": {
             "colorbar": {
              "outlinewidth": 0,
              "ticks": ""
             }
            },
            "type": "scattercarpet"
           }
          ],
          "scattergeo": [
           {
            "marker": {
             "colorbar": {
              "outlinewidth": 0,
              "ticks": ""
             }
            },
            "type": "scattergeo"
           }
          ],
          "scattergl": [
           {
            "marker": {
             "colorbar": {
              "outlinewidth": 0,
              "ticks": ""
             }
            },
            "type": "scattergl"
           }
          ],
          "scattermapbox": [
           {
            "marker": {
             "colorbar": {
              "outlinewidth": 0,
              "ticks": ""
             }
            },
            "type": "scattermapbox"
           }
          ],
          "scatterpolar": [
           {
            "marker": {
             "colorbar": {
              "outlinewidth": 0,
              "ticks": ""
             }
            },
            "type": "scatterpolar"
           }
          ],
          "scatterpolargl": [
           {
            "marker": {
             "colorbar": {
              "outlinewidth": 0,
              "ticks": ""
             }
            },
            "type": "scatterpolargl"
           }
          ],
          "scatterternary": [
           {
            "marker": {
             "colorbar": {
              "outlinewidth": 0,
              "ticks": ""
             }
            },
            "type": "scatterternary"
           }
          ],
          "surface": [
           {
            "colorbar": {
             "outlinewidth": 0,
             "ticks": ""
            },
            "colorscale": [
             [
              0.0,
              "#0d0887"
             ],
             [
              0.1111111111111111,
              "#46039f"
             ],
             [
              0.2222222222222222,
              "#7201a8"
             ],
             [
              0.3333333333333333,
              "#9c179e"
             ],
             [
              0.4444444444444444,
              "#bd3786"
             ],
             [
              0.5555555555555556,
              "#d8576b"
             ],
             [
              0.6666666666666666,
              "#ed7953"
             ],
             [
              0.7777777777777778,
              "#fb9f3a"
             ],
             [
              0.8888888888888888,
              "#fdca26"
             ],
             [
              1.0,
              "#f0f921"
             ]
            ],
            "type": "surface"
           }
          ],
          "table": [
           {
            "cells": {
             "fill": {
              "color": "#EBF0F8"
             },
             "line": {
              "color": "white"
             }
            },
            "header": {
             "fill": {
              "color": "#C8D4E3"
             },
             "line": {
              "color": "white"
             }
            },
            "type": "table"
           }
          ]
         },
         "layout": {
          "annotationdefaults": {
           "arrowcolor": "#2a3f5f",
           "arrowhead": 0,
           "arrowwidth": 1
          },
          "autotypenumbers": "strict",
          "coloraxis": {
           "colorbar": {
            "outlinewidth": 0,
            "ticks": ""
           }
          },
          "colorscale": {
           "diverging": [
            [
             0,
             "#8e0152"
            ],
            [
             0.1,
             "#c51b7d"
            ],
            [
             0.2,
             "#de77ae"
            ],
            [
             0.3,
             "#f1b6da"
            ],
            [
             0.4,
             "#fde0ef"
            ],
            [
             0.5,
             "#f7f7f7"
            ],
            [
             0.6,
             "#e6f5d0"
            ],
            [
             0.7,
             "#b8e186"
            ],
            [
             0.8,
             "#7fbc41"
            ],
            [
             0.9,
             "#4d9221"
            ],
            [
             1,
             "#276419"
            ]
           ],
           "sequential": [
            [
             0.0,
             "#0d0887"
            ],
            [
             0.1111111111111111,
             "#46039f"
            ],
            [
             0.2222222222222222,
             "#7201a8"
            ],
            [
             0.3333333333333333,
             "#9c179e"
            ],
            [
             0.4444444444444444,
             "#bd3786"
            ],
            [
             0.5555555555555556,
             "#d8576b"
            ],
            [
             0.6666666666666666,
             "#ed7953"
            ],
            [
             0.7777777777777778,
             "#fb9f3a"
            ],
            [
             0.8888888888888888,
             "#fdca26"
            ],
            [
             1.0,
             "#f0f921"
            ]
           ],
           "sequentialminus": [
            [
             0.0,
             "#0d0887"
            ],
            [
             0.1111111111111111,
             "#46039f"
            ],
            [
             0.2222222222222222,
             "#7201a8"
            ],
            [
             0.3333333333333333,
             "#9c179e"
            ],
            [
             0.4444444444444444,
             "#bd3786"
            ],
            [
             0.5555555555555556,
             "#d8576b"
            ],
            [
             0.6666666666666666,
             "#ed7953"
            ],
            [
             0.7777777777777778,
             "#fb9f3a"
            ],
            [
             0.8888888888888888,
             "#fdca26"
            ],
            [
             1.0,
             "#f0f921"
            ]
           ]
          },
          "colorway": [
           "#636efa",
           "#EF553B",
           "#00cc96",
           "#ab63fa",
           "#FFA15A",
           "#19d3f3",
           "#FF6692",
           "#B6E880",
           "#FF97FF",
           "#FECB52"
          ],
          "font": {
           "color": "#2a3f5f"
          },
          "geo": {
           "bgcolor": "white",
           "lakecolor": "white",
           "landcolor": "#E5ECF6",
           "showlakes": true,
           "showland": true,
           "subunitcolor": "white"
          },
          "hoverlabel": {
           "align": "left"
          },
          "hovermode": "closest",
          "mapbox": {
           "style": "light"
          },
          "paper_bgcolor": "white",
          "plot_bgcolor": "#E5ECF6",
          "polar": {
           "angularaxis": {
            "gridcolor": "white",
            "linecolor": "white",
            "ticks": ""
           },
           "bgcolor": "#E5ECF6",
           "radialaxis": {
            "gridcolor": "white",
            "linecolor": "white",
            "ticks": ""
           }
          },
          "scene": {
           "xaxis": {
            "backgroundcolor": "#E5ECF6",
            "gridcolor": "white",
            "gridwidth": 2,
            "linecolor": "white",
            "showbackground": true,
            "ticks": "",
            "zerolinecolor": "white"
           },
           "yaxis": {
            "backgroundcolor": "#E5ECF6",
            "gridcolor": "white",
            "gridwidth": 2,
            "linecolor": "white",
            "showbackground": true,
            "ticks": "",
            "zerolinecolor": "white"
           },
           "zaxis": {
            "backgroundcolor": "#E5ECF6",
            "gridcolor": "white",
            "gridwidth": 2,
            "linecolor": "white",
            "showbackground": true,
            "ticks": "",
            "zerolinecolor": "white"
           }
          },
          "shapedefaults": {
           "line": {
            "color": "#2a3f5f"
           }
          },
          "ternary": {
           "aaxis": {
            "gridcolor": "white",
            "linecolor": "white",
            "ticks": ""
           },
           "baxis": {
            "gridcolor": "white",
            "linecolor": "white",
            "ticks": ""
           },
           "bgcolor": "#E5ECF6",
           "caxis": {
            "gridcolor": "white",
            "linecolor": "white",
            "ticks": ""
           }
          },
          "title": {
           "x": 0.05
          },
          "xaxis": {
           "automargin": true,
           "gridcolor": "white",
           "linecolor": "white",
           "ticks": "",
           "title": {
            "standoff": 15
           },
           "zerolinecolor": "white",
           "zerolinewidth": 2
          },
          "yaxis": {
           "automargin": true,
           "gridcolor": "white",
           "linecolor": "white",
           "ticks": "",
           "title": {
            "standoff": 15
           },
           "zerolinecolor": "white",
           "zerolinewidth": 2
          }
         }
        },
        "title": {
         "font": {
          "color": "#221f1f",
          "family": "Calibri Black",
          "size": 22
         },
         "text": "Affect of Profession on Customer Segmentation",
         "x": 0.5
        },
        "width": 600
       }
      },
      "text/html": [
       "<div>                            <div id=\"80338503-0a02-4aef-a33c-ae85ae4a4d40\" class=\"plotly-graph-div\" style=\"height:600px; width:600px;\"></div>            <script type=\"text/javascript\">                require([\"plotly\"], function(Plotly) {                    window.PLOTLYENV=window.PLOTLYENV || {};                                    if (document.getElementById(\"80338503-0a02-4aef-a33c-ae85ae4a4d40\")) {                    Plotly.newPlot(                        \"80338503-0a02-4aef-a33c-ae85ae4a4d40\",                        [{\"branchvalues\": \"total\", \"customdata\": [[\"Artist\"], [\"Doctor\"], [\"Engineer\"], [\"Entertainment\"], [\"Executive\"], [\"Healthcare\"], [\"Homemaker\"], [\"Lawyer\"], [\"Engineer\"], [\"Doctor\"], [\"Marketing\"], [\"Artist\"], [\"Entertainment\"], [\"Executive\"], [\"Healthcare\"], [\"Homemaker\"], [\"Doctor\"], [\"Artist\"], [\"Marketing\"], [\"Lawyer\"], [\"Engineer\"], [\"Entertainment\"], [\"Executive\"], [\"Healthcare\"], [\"Marketing\"], [\"Artist\"], [\"Homemaker\"], [\"Lawyer\"], [\"Doctor\"], [\"Engineer\"], [\"Entertainment\"], [\"Executive\"], [\"Lawyer\"], [\"Healthcare\"], [\"Homemaker\"], [\"Marketing\"], [\"Artist\"], [\"Doctor\"], [\"Engineer\"], [\"Entertainment\"], [\"Executive\"], [\"Healthcare\"], [\"Homemaker\"], [\"Lawyer\"], [\"Marketing\"]], \"domain\": {\"x\": [0.0, 1.0], \"y\": [0.0, 1.0]}, \"hovertemplate\": \"labels=%{label}<br>count=%{value}<br>parent=%{parent}<br>id=%{id}<br>Profession=%{customdata[0]}<extra></extra>\", \"ids\": [\"Artist/A\", \"Doctor/A\", \"Engineer/A\", \"Entertainment/A\", \"Executive/A\", \"Healthcare/A\", \"Homemaker/A\", \"Lawyer/A\", \"Engineer/B\", \"Doctor/B\", \"Marketing/A\", \"Artist/B\", \"Entertainment/B\", \"Executive/B\", \"Healthcare/B\", \"Homemaker/B\", \"Doctor/C\", \"Artist/C\", \"Marketing/B\", \"Lawyer/B\", \"Engineer/C\", \"Entertainment/C\", \"Executive/C\", \"Healthcare/C\", \"Marketing/C\", \"Artist/D\", \"Homemaker/C\", \"Lawyer/C\", \"Doctor/D\", \"Engineer/D\", \"Entertainment/D\", \"Executive/D\", \"Lawyer/D\", \"Healthcare/D\", \"Homemaker/D\", \"Marketing/D\", \"Artist\", \"Doctor\", \"Engineer\", \"Entertainment\", \"Executive\", \"Healthcare\", \"Homemaker\", \"Lawyer\", \"Marketing\"], \"labels\": [\"A\", \"A\", \"A\", \"A\", \"A\", \"A\", \"A\", \"A\", \"B\", \"B\", \"A\", \"B\", \"B\", \"B\", \"B\", \"B\", \"C\", \"C\", \"B\", \"B\", \"C\", \"C\", \"C\", \"C\", \"C\", \"D\", \"C\", \"C\", \"D\", \"D\", \"D\", \"D\", \"D\", \"D\", \"D\", \"D\", \"Artist\", \"Doctor\", \"Engineer\", \"Entertainment\", \"Executive\", \"Healthcare\", \"Homemaker\", \"Lawyer\", \"Marketing\"], \"marker\": {\"colors\": [\"#636efa\", \"#EF553B\", \"#00cc96\", \"#ab63fa\", \"#FFA15A\", \"#19d3f3\", \"#FF6692\", \"#B6E880\", \"#00cc96\", \"#EF553B\", \"#FF97FF\", \"#636efa\", \"#ab63fa\", \"#FFA15A\", \"#19d3f3\", \"#FF6692\", \"#EF553B\", \"#636efa\", \"#FF97FF\", \"#B6E880\", \"#00cc96\", \"#ab63fa\", \"#FFA15A\", \"#19d3f3\", \"#FF97FF\", \"#636efa\", \"#FF6692\", \"#B6E880\", \"#EF553B\", \"#00cc96\", \"#ab63fa\", \"#FFA15A\", \"#B6E880\", \"#19d3f3\", \"#FF6692\", \"#FF97FF\", \"#636efa\", \"#EF553B\", \"#00cc96\", \"#ab63fa\", \"#FFA15A\", \"#19d3f3\", \"#FF6692\", \"#B6E880\", \"#FF97FF\"]}, \"name\": \"\", \"parents\": [\"Artist\", \"Doctor\", \"Engineer\", \"Entertainment\", \"Executive\", \"Healthcare\", \"Homemaker\", \"Lawyer\", \"Engineer\", \"Doctor\", \"Marketing\", \"Artist\", \"Entertainment\", \"Executive\", \"Healthcare\", \"Homemaker\", \"Doctor\", \"Artist\", \"Marketing\", \"Lawyer\", \"Engineer\", \"Entertainment\", \"Executive\", \"Healthcare\", \"Marketing\", \"Artist\", \"Homemaker\", \"Lawyer\", \"Doctor\", \"Engineer\", \"Entertainment\", \"Executive\", \"Lawyer\", \"Healthcare\", \"Homemaker\", \"Marketing\", \"\", \"\", \"\", \"\", \"\", \"\", \"\", \"\", \"\"], \"textinfo\": \"label+percent parent\", \"type\": \"sunburst\", \"values\": [558, 199, 259, 365, 125, 106, 73, 197, 189, 143, 57, 756, 221, 183, 101, 55, 140, 1065, 30, 158, 75, 148, 175, 146, 35, 137, 28, 140, 206, 176, 215, 116, 128, 979, 90, 170, 2516, 688, 699, 949, 599, 1332, 246, 623, 292]}],                        {\"height\": 600, \"legend\": {\"tracegroupgap\": 0}, \"plot_bgcolor\": \"white\", \"template\": {\"data\": {\"bar\": [{\"error_x\": {\"color\": \"#2a3f5f\"}, \"error_y\": {\"color\": \"#2a3f5f\"}, \"marker\": {\"line\": {\"color\": \"#E5ECF6\", \"width\": 0.5}}, \"type\": \"bar\"}], \"barpolar\": [{\"marker\": {\"line\": {\"color\": \"#E5ECF6\", \"width\": 0.5}}, \"type\": \"barpolar\"}], \"carpet\": [{\"aaxis\": {\"endlinecolor\": \"#2a3f5f\", \"gridcolor\": \"white\", \"linecolor\": \"white\", \"minorgridcolor\": \"white\", \"startlinecolor\": \"#2a3f5f\"}, \"baxis\": {\"endlinecolor\": \"#2a3f5f\", \"gridcolor\": \"white\", \"linecolor\": \"white\", \"minorgridcolor\": \"white\", \"startlinecolor\": \"#2a3f5f\"}, \"type\": \"carpet\"}], \"choropleth\": [{\"colorbar\": {\"outlinewidth\": 0, \"ticks\": \"\"}, \"type\": \"choropleth\"}], \"contour\": [{\"colorbar\": {\"outlinewidth\": 0, \"ticks\": \"\"}, \"colorscale\": [[0.0, \"#0d0887\"], [0.1111111111111111, \"#46039f\"], [0.2222222222222222, \"#7201a8\"], [0.3333333333333333, \"#9c179e\"], [0.4444444444444444, \"#bd3786\"], [0.5555555555555556, \"#d8576b\"], [0.6666666666666666, \"#ed7953\"], [0.7777777777777778, \"#fb9f3a\"], [0.8888888888888888, \"#fdca26\"], [1.0, \"#f0f921\"]], \"type\": \"contour\"}], \"contourcarpet\": [{\"colorbar\": {\"outlinewidth\": 0, \"ticks\": \"\"}, \"type\": \"contourcarpet\"}], \"heatmap\": [{\"colorbar\": {\"outlinewidth\": 0, \"ticks\": \"\"}, \"colorscale\": [[0.0, \"#0d0887\"], [0.1111111111111111, \"#46039f\"], [0.2222222222222222, \"#7201a8\"], [0.3333333333333333, \"#9c179e\"], [0.4444444444444444, \"#bd3786\"], [0.5555555555555556, \"#d8576b\"], [0.6666666666666666, \"#ed7953\"], [0.7777777777777778, \"#fb9f3a\"], [0.8888888888888888, \"#fdca26\"], [1.0, \"#f0f921\"]], \"type\": \"heatmap\"}], \"heatmapgl\": [{\"colorbar\": {\"outlinewidth\": 0, \"ticks\": \"\"}, \"colorscale\": [[0.0, \"#0d0887\"], [0.1111111111111111, \"#46039f\"], [0.2222222222222222, \"#7201a8\"], [0.3333333333333333, \"#9c179e\"], [0.4444444444444444, \"#bd3786\"], [0.5555555555555556, \"#d8576b\"], [0.6666666666666666, \"#ed7953\"], [0.7777777777777778, \"#fb9f3a\"], [0.8888888888888888, \"#fdca26\"], [1.0, \"#f0f921\"]], \"type\": \"heatmapgl\"}], \"histogram\": [{\"marker\": {\"colorbar\": {\"outlinewidth\": 0, \"ticks\": \"\"}}, \"type\": \"histogram\"}], \"histogram2d\": [{\"colorbar\": {\"outlinewidth\": 0, \"ticks\": \"\"}, \"colorscale\": [[0.0, \"#0d0887\"], [0.1111111111111111, \"#46039f\"], [0.2222222222222222, \"#7201a8\"], [0.3333333333333333, \"#9c179e\"], [0.4444444444444444, \"#bd3786\"], [0.5555555555555556, \"#d8576b\"], [0.6666666666666666, \"#ed7953\"], [0.7777777777777778, \"#fb9f3a\"], [0.8888888888888888, \"#fdca26\"], [1.0, \"#f0f921\"]], \"type\": \"histogram2d\"}], \"histogram2dcontour\": [{\"colorbar\": {\"outlinewidth\": 0, \"ticks\": \"\"}, \"colorscale\": [[0.0, \"#0d0887\"], [0.1111111111111111, \"#46039f\"], [0.2222222222222222, \"#7201a8\"], [0.3333333333333333, \"#9c179e\"], [0.4444444444444444, \"#bd3786\"], [0.5555555555555556, \"#d8576b\"], [0.6666666666666666, \"#ed7953\"], [0.7777777777777778, \"#fb9f3a\"], [0.8888888888888888, \"#fdca26\"], [1.0, \"#f0f921\"]], \"type\": \"histogram2dcontour\"}], \"mesh3d\": [{\"colorbar\": {\"outlinewidth\": 0, \"ticks\": \"\"}, \"type\": \"mesh3d\"}], \"parcoords\": [{\"line\": {\"colorbar\": {\"outlinewidth\": 0, \"ticks\": \"\"}}, \"type\": \"parcoords\"}], \"pie\": [{\"automargin\": true, \"type\": \"pie\"}], \"scatter\": [{\"marker\": {\"colorbar\": {\"outlinewidth\": 0, \"ticks\": \"\"}}, \"type\": \"scatter\"}], \"scatter3d\": [{\"line\": {\"colorbar\": {\"outlinewidth\": 0, \"ticks\": \"\"}}, \"marker\": {\"colorbar\": {\"outlinewidth\": 0, \"ticks\": \"\"}}, \"type\": \"scatter3d\"}], \"scattercarpet\": [{\"marker\": {\"colorbar\": {\"outlinewidth\": 0, \"ticks\": \"\"}}, \"type\": \"scattercarpet\"}], \"scattergeo\": [{\"marker\": {\"colorbar\": {\"outlinewidth\": 0, \"ticks\": \"\"}}, \"type\": \"scattergeo\"}], \"scattergl\": [{\"marker\": {\"colorbar\": {\"outlinewidth\": 0, \"ticks\": \"\"}}, \"type\": \"scattergl\"}], \"scattermapbox\": [{\"marker\": {\"colorbar\": {\"outlinewidth\": 0, \"ticks\": \"\"}}, \"type\": \"scattermapbox\"}], \"scatterpolar\": [{\"marker\": {\"colorbar\": {\"outlinewidth\": 0, \"ticks\": \"\"}}, \"type\": \"scatterpolar\"}], \"scatterpolargl\": [{\"marker\": {\"colorbar\": {\"outlinewidth\": 0, \"ticks\": \"\"}}, \"type\": \"scatterpolargl\"}], \"scatterternary\": [{\"marker\": {\"colorbar\": {\"outlinewidth\": 0, \"ticks\": \"\"}}, \"type\": \"scatterternary\"}], \"surface\": [{\"colorbar\": {\"outlinewidth\": 0, \"ticks\": \"\"}, \"colorscale\": [[0.0, \"#0d0887\"], [0.1111111111111111, \"#46039f\"], [0.2222222222222222, \"#7201a8\"], [0.3333333333333333, \"#9c179e\"], [0.4444444444444444, \"#bd3786\"], [0.5555555555555556, \"#d8576b\"], [0.6666666666666666, \"#ed7953\"], [0.7777777777777778, \"#fb9f3a\"], [0.8888888888888888, \"#fdca26\"], [1.0, \"#f0f921\"]], \"type\": \"surface\"}], \"table\": [{\"cells\": {\"fill\": {\"color\": \"#EBF0F8\"}, \"line\": {\"color\": \"white\"}}, \"header\": {\"fill\": {\"color\": \"#C8D4E3\"}, \"line\": {\"color\": \"white\"}}, \"type\": \"table\"}]}, \"layout\": {\"annotationdefaults\": {\"arrowcolor\": \"#2a3f5f\", \"arrowhead\": 0, \"arrowwidth\": 1}, \"autotypenumbers\": \"strict\", \"coloraxis\": {\"colorbar\": {\"outlinewidth\": 0, \"ticks\": \"\"}}, \"colorscale\": {\"diverging\": [[0, \"#8e0152\"], [0.1, \"#c51b7d\"], [0.2, \"#de77ae\"], [0.3, \"#f1b6da\"], [0.4, \"#fde0ef\"], [0.5, \"#f7f7f7\"], [0.6, \"#e6f5d0\"], [0.7, \"#b8e186\"], [0.8, \"#7fbc41\"], [0.9, \"#4d9221\"], [1, \"#276419\"]], \"sequential\": [[0.0, \"#0d0887\"], [0.1111111111111111, \"#46039f\"], [0.2222222222222222, \"#7201a8\"], [0.3333333333333333, \"#9c179e\"], [0.4444444444444444, \"#bd3786\"], [0.5555555555555556, \"#d8576b\"], [0.6666666666666666, \"#ed7953\"], [0.7777777777777778, \"#fb9f3a\"], [0.8888888888888888, \"#fdca26\"], [1.0, \"#f0f921\"]], \"sequentialminus\": [[0.0, \"#0d0887\"], [0.1111111111111111, \"#46039f\"], [0.2222222222222222, \"#7201a8\"], [0.3333333333333333, \"#9c179e\"], [0.4444444444444444, \"#bd3786\"], [0.5555555555555556, \"#d8576b\"], [0.6666666666666666, \"#ed7953\"], [0.7777777777777778, \"#fb9f3a\"], [0.8888888888888888, \"#fdca26\"], [1.0, \"#f0f921\"]]}, \"colorway\": [\"#636efa\", \"#EF553B\", \"#00cc96\", \"#ab63fa\", \"#FFA15A\", \"#19d3f3\", \"#FF6692\", \"#B6E880\", \"#FF97FF\", \"#FECB52\"], \"font\": {\"color\": \"#2a3f5f\"}, \"geo\": {\"bgcolor\": \"white\", \"lakecolor\": \"white\", \"landcolor\": \"#E5ECF6\", \"showlakes\": true, \"showland\": true, \"subunitcolor\": \"white\"}, \"hoverlabel\": {\"align\": \"left\"}, \"hovermode\": \"closest\", \"mapbox\": {\"style\": \"light\"}, \"paper_bgcolor\": \"white\", \"plot_bgcolor\": \"#E5ECF6\", \"polar\": {\"angularaxis\": {\"gridcolor\": \"white\", \"linecolor\": \"white\", \"ticks\": \"\"}, \"bgcolor\": \"#E5ECF6\", \"radialaxis\": {\"gridcolor\": \"white\", \"linecolor\": \"white\", \"ticks\": \"\"}}, \"scene\": {\"xaxis\": {\"backgroundcolor\": \"#E5ECF6\", \"gridcolor\": \"white\", \"gridwidth\": 2, \"linecolor\": \"white\", \"showbackground\": true, \"ticks\": \"\", \"zerolinecolor\": \"white\"}, \"yaxis\": {\"backgroundcolor\": \"#E5ECF6\", \"gridcolor\": \"white\", \"gridwidth\": 2, \"linecolor\": \"white\", \"showbackground\": true, \"ticks\": \"\", \"zerolinecolor\": \"white\"}, \"zaxis\": {\"backgroundcolor\": \"#E5ECF6\", \"gridcolor\": \"white\", \"gridwidth\": 2, \"linecolor\": \"white\", \"showbackground\": true, \"ticks\": \"\", \"zerolinecolor\": \"white\"}}, \"shapedefaults\": {\"line\": {\"color\": \"#2a3f5f\"}}, \"ternary\": {\"aaxis\": {\"gridcolor\": \"white\", \"linecolor\": \"white\", \"ticks\": \"\"}, \"baxis\": {\"gridcolor\": \"white\", \"linecolor\": \"white\", \"ticks\": \"\"}, \"bgcolor\": \"#E5ECF6\", \"caxis\": {\"gridcolor\": \"white\", \"linecolor\": \"white\", \"ticks\": \"\"}}, \"title\": {\"x\": 0.05}, \"xaxis\": {\"automargin\": true, \"gridcolor\": \"white\", \"linecolor\": \"white\", \"ticks\": \"\", \"title\": {\"standoff\": 15}, \"zerolinecolor\": \"white\", \"zerolinewidth\": 2}, \"yaxis\": {\"automargin\": true, \"gridcolor\": \"white\", \"linecolor\": \"white\", \"ticks\": \"\", \"title\": {\"standoff\": 15}, \"zerolinecolor\": \"white\", \"zerolinewidth\": 2}}}, \"title\": {\"font\": {\"color\": \"#221f1f\", \"family\": \"Calibri Black\", \"size\": 22}, \"text\": \"Affect of Profession on Customer Segmentation\", \"x\": 0.5}, \"width\": 600},                        {\"responsive\": true}                    ).then(function(){\n",
       "                            \n",
       "var gd = document.getElementById('80338503-0a02-4aef-a33c-ae85ae4a4d40');\n",
       "var x = new MutationObserver(function (mutations, observer) {{\n",
       "        var display = window.getComputedStyle(gd).display;\n",
       "        if (!display || display === 'none') {{\n",
       "            console.log([gd, 'removed!']);\n",
       "            Plotly.purge(gd);\n",
       "            observer.disconnect();\n",
       "        }}\n",
       "}});\n",
       "\n",
       "// Listen for the removal of the full notebook cells\n",
       "var notebookContainer = gd.closest('#notebook-container');\n",
       "if (notebookContainer) {{\n",
       "    x.observe(notebookContainer, {childList: true});\n",
       "}}\n",
       "\n",
       "// Listen for the clearing of the current output cell\n",
       "var outputEl = gd.closest('.output');\n",
       "if (outputEl) {{\n",
       "    x.observe(outputEl, {childList: true});\n",
       "}}\n",
       "\n",
       "                        })                };                });            </script>        </div>"
      ]
     },
     "metadata": {},
     "output_type": "display_data"
    },
    {
     "data": {
      "application/vnd.plotly.v1+json": {
       "config": {
        "plotlyServerURL": "https://plot.ly"
       },
       "data": [
        {
         "branchvalues": "total",
         "customdata": [
          [
           "Cat_1"
          ],
          [
           "Cat_2"
          ],
          [
           "Cat_3"
          ],
          [
           "Cat_4"
          ],
          [
           "Cat_5"
          ],
          [
           "Cat_6"
          ],
          [
           "Cat_7"
          ],
          [
           "Cat_1"
          ],
          [
           "Cat_2"
          ],
          [
           "Cat_3"
          ],
          [
           "Cat_4"
          ],
          [
           "Cat_5"
          ],
          [
           "Cat_2"
          ],
          [
           "Cat_1"
          ],
          [
           "Cat_7"
          ],
          [
           "Cat_6"
          ],
          [
           "Cat_3"
          ],
          [
           "Cat_4"
          ],
          [
           "Cat_5"
          ],
          [
           "Cat_6"
          ],
          [
           "Cat_7"
          ],
          [
           "Cat_1"
          ],
          [
           "Cat_2"
          ],
          [
           "Cat_3"
          ],
          [
           "Cat_4"
          ],
          [
           "Cat_5"
          ],
          [
           "Cat_6"
          ],
          [
           "Cat_7"
          ],
          [
           "Cat_1"
          ],
          [
           "Cat_2"
          ],
          [
           "Cat_3"
          ],
          [
           "Cat_4"
          ],
          [
           "Cat_5"
          ],
          [
           "Cat_6"
          ],
          [
           "Cat_7"
          ]
         ],
         "domain": {
          "x": [
           0.0,
           1.0
          ],
          "y": [
           0.0,
           1.0
          ]
         },
         "hovertemplate": "labels=%{label}<br>count=%{value}<br>parent=%{parent}<br>id=%{id}<br>Var_1=%{customdata[0]}<extra></extra>",
         "ids": [
          "Cat_1/A",
          "Cat_2/A",
          "Cat_3/A",
          "Cat_4/A",
          "Cat_5/A",
          "Cat_6/A",
          "Cat_7/A",
          "Cat_1/B",
          "Cat_2/B",
          "Cat_3/B",
          "Cat_4/B",
          "Cat_5/B",
          "Cat_2/C",
          "Cat_1/C",
          "Cat_7/B",
          "Cat_6/B",
          "Cat_3/C",
          "Cat_4/C",
          "Cat_5/C",
          "Cat_6/C",
          "Cat_7/C",
          "Cat_1/D",
          "Cat_2/D",
          "Cat_3/D",
          "Cat_4/D",
          "Cat_5/D",
          "Cat_6/D",
          "Cat_7/D",
          "Cat_1",
          "Cat_2",
          "Cat_3",
          "Cat_4",
          "Cat_5",
          "Cat_6",
          "Cat_7"
         ],
         "labels": [
          "A",
          "A",
          "A",
          "A",
          "A",
          "A",
          "A",
          "B",
          "B",
          "B",
          "B",
          "B",
          "C",
          "C",
          "B",
          "B",
          "C",
          "C",
          "C",
          "C",
          "C",
          "D",
          "D",
          "D",
          "D",
          "D",
          "D",
          "D",
          "Cat_1",
          "Cat_2",
          "Cat_3",
          "Cat_4",
          "Cat_5",
          "Cat_6",
          "Cat_7"
         ],
         "marker": {
          "colors": [
           "#636efa",
           "#EF553B",
           "#00cc96",
           "#ab63fa",
           "#FFA15A",
           "#19d3f3",
           "#FF6692",
           "#636efa",
           "#EF553B",
           "#00cc96",
           "#ab63fa",
           "#FFA15A",
           "#EF553B",
           "#636efa",
           "#FF6692",
           "#19d3f3",
           "#00cc96",
           "#ab63fa",
           "#FFA15A",
           "#19d3f3",
           "#FF6692",
           "#636efa",
           "#EF553B",
           "#00cc96",
           "#ab63fa",
           "#FFA15A",
           "#19d3f3",
           "#FF6692",
           "#636efa",
           "#EF553B",
           "#00cc96",
           "#ab63fa",
           "#FFA15A",
           "#19d3f3",
           "#FF6692"
          ]
         },
         "name": "",
         "parents": [
          "Cat_1",
          "Cat_2",
          "Cat_3",
          "Cat_4",
          "Cat_5",
          "Cat_6",
          "Cat_7",
          "Cat_1",
          "Cat_2",
          "Cat_3",
          "Cat_4",
          "Cat_5",
          "Cat_2",
          "Cat_1",
          "Cat_7",
          "Cat_6",
          "Cat_3",
          "Cat_4",
          "Cat_5",
          "Cat_6",
          "Cat_7",
          "Cat_1",
          "Cat_2",
          "Cat_3",
          "Cat_4",
          "Cat_5",
          "Cat_6",
          "Cat_7",
          "",
          "",
          "",
          "",
          "",
          "",
          ""
         ],
         "textinfo": "label+percent parent",
         "type": "sunburst",
         "values": [
          31,
          83,
          223,
          333,
          19,
          1213,
          51,
          26,
          106,
          186,
          232,
          20,
          99,
          26,
          43,
          1232,
          154,
          109,
          18,
          1496,
          47,
          50,
          134,
          259,
          415,
          28,
          1297,
          62,
          133,
          422,
          822,
          1089,
          85,
          5238,
          203
         ]
        }
       ],
       "layout": {
        "height": 600,
        "legend": {
         "tracegroupgap": 0
        },
        "plot_bgcolor": "white",
        "template": {
         "data": {
          "bar": [
           {
            "error_x": {
             "color": "#2a3f5f"
            },
            "error_y": {
             "color": "#2a3f5f"
            },
            "marker": {
             "line": {
              "color": "#E5ECF6",
              "width": 0.5
             }
            },
            "type": "bar"
           }
          ],
          "barpolar": [
           {
            "marker": {
             "line": {
              "color": "#E5ECF6",
              "width": 0.5
             }
            },
            "type": "barpolar"
           }
          ],
          "carpet": [
           {
            "aaxis": {
             "endlinecolor": "#2a3f5f",
             "gridcolor": "white",
             "linecolor": "white",
             "minorgridcolor": "white",
             "startlinecolor": "#2a3f5f"
            },
            "baxis": {
             "endlinecolor": "#2a3f5f",
             "gridcolor": "white",
             "linecolor": "white",
             "minorgridcolor": "white",
             "startlinecolor": "#2a3f5f"
            },
            "type": "carpet"
           }
          ],
          "choropleth": [
           {
            "colorbar": {
             "outlinewidth": 0,
             "ticks": ""
            },
            "type": "choropleth"
           }
          ],
          "contour": [
           {
            "colorbar": {
             "outlinewidth": 0,
             "ticks": ""
            },
            "colorscale": [
             [
              0.0,
              "#0d0887"
             ],
             [
              0.1111111111111111,
              "#46039f"
             ],
             [
              0.2222222222222222,
              "#7201a8"
             ],
             [
              0.3333333333333333,
              "#9c179e"
             ],
             [
              0.4444444444444444,
              "#bd3786"
             ],
             [
              0.5555555555555556,
              "#d8576b"
             ],
             [
              0.6666666666666666,
              "#ed7953"
             ],
             [
              0.7777777777777778,
              "#fb9f3a"
             ],
             [
              0.8888888888888888,
              "#fdca26"
             ],
             [
              1.0,
              "#f0f921"
             ]
            ],
            "type": "contour"
           }
          ],
          "contourcarpet": [
           {
            "colorbar": {
             "outlinewidth": 0,
             "ticks": ""
            },
            "type": "contourcarpet"
           }
          ],
          "heatmap": [
           {
            "colorbar": {
             "outlinewidth": 0,
             "ticks": ""
            },
            "colorscale": [
             [
              0.0,
              "#0d0887"
             ],
             [
              0.1111111111111111,
              "#46039f"
             ],
             [
              0.2222222222222222,
              "#7201a8"
             ],
             [
              0.3333333333333333,
              "#9c179e"
             ],
             [
              0.4444444444444444,
              "#bd3786"
             ],
             [
              0.5555555555555556,
              "#d8576b"
             ],
             [
              0.6666666666666666,
              "#ed7953"
             ],
             [
              0.7777777777777778,
              "#fb9f3a"
             ],
             [
              0.8888888888888888,
              "#fdca26"
             ],
             [
              1.0,
              "#f0f921"
             ]
            ],
            "type": "heatmap"
           }
          ],
          "heatmapgl": [
           {
            "colorbar": {
             "outlinewidth": 0,
             "ticks": ""
            },
            "colorscale": [
             [
              0.0,
              "#0d0887"
             ],
             [
              0.1111111111111111,
              "#46039f"
             ],
             [
              0.2222222222222222,
              "#7201a8"
             ],
             [
              0.3333333333333333,
              "#9c179e"
             ],
             [
              0.4444444444444444,
              "#bd3786"
             ],
             [
              0.5555555555555556,
              "#d8576b"
             ],
             [
              0.6666666666666666,
              "#ed7953"
             ],
             [
              0.7777777777777778,
              "#fb9f3a"
             ],
             [
              0.8888888888888888,
              "#fdca26"
             ],
             [
              1.0,
              "#f0f921"
             ]
            ],
            "type": "heatmapgl"
           }
          ],
          "histogram": [
           {
            "marker": {
             "colorbar": {
              "outlinewidth": 0,
              "ticks": ""
             }
            },
            "type": "histogram"
           }
          ],
          "histogram2d": [
           {
            "colorbar": {
             "outlinewidth": 0,
             "ticks": ""
            },
            "colorscale": [
             [
              0.0,
              "#0d0887"
             ],
             [
              0.1111111111111111,
              "#46039f"
             ],
             [
              0.2222222222222222,
              "#7201a8"
             ],
             [
              0.3333333333333333,
              "#9c179e"
             ],
             [
              0.4444444444444444,
              "#bd3786"
             ],
             [
              0.5555555555555556,
              "#d8576b"
             ],
             [
              0.6666666666666666,
              "#ed7953"
             ],
             [
              0.7777777777777778,
              "#fb9f3a"
             ],
             [
              0.8888888888888888,
              "#fdca26"
             ],
             [
              1.0,
              "#f0f921"
             ]
            ],
            "type": "histogram2d"
           }
          ],
          "histogram2dcontour": [
           {
            "colorbar": {
             "outlinewidth": 0,
             "ticks": ""
            },
            "colorscale": [
             [
              0.0,
              "#0d0887"
             ],
             [
              0.1111111111111111,
              "#46039f"
             ],
             [
              0.2222222222222222,
              "#7201a8"
             ],
             [
              0.3333333333333333,
              "#9c179e"
             ],
             [
              0.4444444444444444,
              "#bd3786"
             ],
             [
              0.5555555555555556,
              "#d8576b"
             ],
             [
              0.6666666666666666,
              "#ed7953"
             ],
             [
              0.7777777777777778,
              "#fb9f3a"
             ],
             [
              0.8888888888888888,
              "#fdca26"
             ],
             [
              1.0,
              "#f0f921"
             ]
            ],
            "type": "histogram2dcontour"
           }
          ],
          "mesh3d": [
           {
            "colorbar": {
             "outlinewidth": 0,
             "ticks": ""
            },
            "type": "mesh3d"
           }
          ],
          "parcoords": [
           {
            "line": {
             "colorbar": {
              "outlinewidth": 0,
              "ticks": ""
             }
            },
            "type": "parcoords"
           }
          ],
          "pie": [
           {
            "automargin": true,
            "type": "pie"
           }
          ],
          "scatter": [
           {
            "marker": {
             "colorbar": {
              "outlinewidth": 0,
              "ticks": ""
             }
            },
            "type": "scatter"
           }
          ],
          "scatter3d": [
           {
            "line": {
             "colorbar": {
              "outlinewidth": 0,
              "ticks": ""
             }
            },
            "marker": {
             "colorbar": {
              "outlinewidth": 0,
              "ticks": ""
             }
            },
            "type": "scatter3d"
           }
          ],
          "scattercarpet": [
           {
            "marker": {
             "colorbar": {
              "outlinewidth": 0,
              "ticks": ""
             }
            },
            "type": "scattercarpet"
           }
          ],
          "scattergeo": [
           {
            "marker": {
             "colorbar": {
              "outlinewidth": 0,
              "ticks": ""
             }
            },
            "type": "scattergeo"
           }
          ],
          "scattergl": [
           {
            "marker": {
             "colorbar": {
              "outlinewidth": 0,
              "ticks": ""
             }
            },
            "type": "scattergl"
           }
          ],
          "scattermapbox": [
           {
            "marker": {
             "colorbar": {
              "outlinewidth": 0,
              "ticks": ""
             }
            },
            "type": "scattermapbox"
           }
          ],
          "scatterpolar": [
           {
            "marker": {
             "colorbar": {
              "outlinewidth": 0,
              "ticks": ""
             }
            },
            "type": "scatterpolar"
           }
          ],
          "scatterpolargl": [
           {
            "marker": {
             "colorbar": {
              "outlinewidth": 0,
              "ticks": ""
             }
            },
            "type": "scatterpolargl"
           }
          ],
          "scatterternary": [
           {
            "marker": {
             "colorbar": {
              "outlinewidth": 0,
              "ticks": ""
             }
            },
            "type": "scatterternary"
           }
          ],
          "surface": [
           {
            "colorbar": {
             "outlinewidth": 0,
             "ticks": ""
            },
            "colorscale": [
             [
              0.0,
              "#0d0887"
             ],
             [
              0.1111111111111111,
              "#46039f"
             ],
             [
              0.2222222222222222,
              "#7201a8"
             ],
             [
              0.3333333333333333,
              "#9c179e"
             ],
             [
              0.4444444444444444,
              "#bd3786"
             ],
             [
              0.5555555555555556,
              "#d8576b"
             ],
             [
              0.6666666666666666,
              "#ed7953"
             ],
             [
              0.7777777777777778,
              "#fb9f3a"
             ],
             [
              0.8888888888888888,
              "#fdca26"
             ],
             [
              1.0,
              "#f0f921"
             ]
            ],
            "type": "surface"
           }
          ],
          "table": [
           {
            "cells": {
             "fill": {
              "color": "#EBF0F8"
             },
             "line": {
              "color": "white"
             }
            },
            "header": {
             "fill": {
              "color": "#C8D4E3"
             },
             "line": {
              "color": "white"
             }
            },
            "type": "table"
           }
          ]
         },
         "layout": {
          "annotationdefaults": {
           "arrowcolor": "#2a3f5f",
           "arrowhead": 0,
           "arrowwidth": 1
          },
          "autotypenumbers": "strict",
          "coloraxis": {
           "colorbar": {
            "outlinewidth": 0,
            "ticks": ""
           }
          },
          "colorscale": {
           "diverging": [
            [
             0,
             "#8e0152"
            ],
            [
             0.1,
             "#c51b7d"
            ],
            [
             0.2,
             "#de77ae"
            ],
            [
             0.3,
             "#f1b6da"
            ],
            [
             0.4,
             "#fde0ef"
            ],
            [
             0.5,
             "#f7f7f7"
            ],
            [
             0.6,
             "#e6f5d0"
            ],
            [
             0.7,
             "#b8e186"
            ],
            [
             0.8,
             "#7fbc41"
            ],
            [
             0.9,
             "#4d9221"
            ],
            [
             1,
             "#276419"
            ]
           ],
           "sequential": [
            [
             0.0,
             "#0d0887"
            ],
            [
             0.1111111111111111,
             "#46039f"
            ],
            [
             0.2222222222222222,
             "#7201a8"
            ],
            [
             0.3333333333333333,
             "#9c179e"
            ],
            [
             0.4444444444444444,
             "#bd3786"
            ],
            [
             0.5555555555555556,
             "#d8576b"
            ],
            [
             0.6666666666666666,
             "#ed7953"
            ],
            [
             0.7777777777777778,
             "#fb9f3a"
            ],
            [
             0.8888888888888888,
             "#fdca26"
            ],
            [
             1.0,
             "#f0f921"
            ]
           ],
           "sequentialminus": [
            [
             0.0,
             "#0d0887"
            ],
            [
             0.1111111111111111,
             "#46039f"
            ],
            [
             0.2222222222222222,
             "#7201a8"
            ],
            [
             0.3333333333333333,
             "#9c179e"
            ],
            [
             0.4444444444444444,
             "#bd3786"
            ],
            [
             0.5555555555555556,
             "#d8576b"
            ],
            [
             0.6666666666666666,
             "#ed7953"
            ],
            [
             0.7777777777777778,
             "#fb9f3a"
            ],
            [
             0.8888888888888888,
             "#fdca26"
            ],
            [
             1.0,
             "#f0f921"
            ]
           ]
          },
          "colorway": [
           "#636efa",
           "#EF553B",
           "#00cc96",
           "#ab63fa",
           "#FFA15A",
           "#19d3f3",
           "#FF6692",
           "#B6E880",
           "#FF97FF",
           "#FECB52"
          ],
          "font": {
           "color": "#2a3f5f"
          },
          "geo": {
           "bgcolor": "white",
           "lakecolor": "white",
           "landcolor": "#E5ECF6",
           "showlakes": true,
           "showland": true,
           "subunitcolor": "white"
          },
          "hoverlabel": {
           "align": "left"
          },
          "hovermode": "closest",
          "mapbox": {
           "style": "light"
          },
          "paper_bgcolor": "white",
          "plot_bgcolor": "#E5ECF6",
          "polar": {
           "angularaxis": {
            "gridcolor": "white",
            "linecolor": "white",
            "ticks": ""
           },
           "bgcolor": "#E5ECF6",
           "radialaxis": {
            "gridcolor": "white",
            "linecolor": "white",
            "ticks": ""
           }
          },
          "scene": {
           "xaxis": {
            "backgroundcolor": "#E5ECF6",
            "gridcolor": "white",
            "gridwidth": 2,
            "linecolor": "white",
            "showbackground": true,
            "ticks": "",
            "zerolinecolor": "white"
           },
           "yaxis": {
            "backgroundcolor": "#E5ECF6",
            "gridcolor": "white",
            "gridwidth": 2,
            "linecolor": "white",
            "showbackground": true,
            "ticks": "",
            "zerolinecolor": "white"
           },
           "zaxis": {
            "backgroundcolor": "#E5ECF6",
            "gridcolor": "white",
            "gridwidth": 2,
            "linecolor": "white",
            "showbackground": true,
            "ticks": "",
            "zerolinecolor": "white"
           }
          },
          "shapedefaults": {
           "line": {
            "color": "#2a3f5f"
           }
          },
          "ternary": {
           "aaxis": {
            "gridcolor": "white",
            "linecolor": "white",
            "ticks": ""
           },
           "baxis": {
            "gridcolor": "white",
            "linecolor": "white",
            "ticks": ""
           },
           "bgcolor": "#E5ECF6",
           "caxis": {
            "gridcolor": "white",
            "linecolor": "white",
            "ticks": ""
           }
          },
          "title": {
           "x": 0.05
          },
          "xaxis": {
           "automargin": true,
           "gridcolor": "white",
           "linecolor": "white",
           "ticks": "",
           "title": {
            "standoff": 15
           },
           "zerolinecolor": "white",
           "zerolinewidth": 2
          },
          "yaxis": {
           "automargin": true,
           "gridcolor": "white",
           "linecolor": "white",
           "ticks": "",
           "title": {
            "standoff": 15
           },
           "zerolinecolor": "white",
           "zerolinewidth": 2
          }
         }
        },
        "title": {
         "font": {
          "color": "#221f1f",
          "family": "Calibri Black",
          "size": 22
         },
         "text": "Affect of Var_1 on Customer Segmentation",
         "x": 0.5
        },
        "width": 600
       }
      },
      "text/html": [
       "<div>                            <div id=\"a81f890a-2b7e-4b9d-a74a-5771bbfdd9b4\" class=\"plotly-graph-div\" style=\"height:600px; width:600px;\"></div>            <script type=\"text/javascript\">                require([\"plotly\"], function(Plotly) {                    window.PLOTLYENV=window.PLOTLYENV || {};                                    if (document.getElementById(\"a81f890a-2b7e-4b9d-a74a-5771bbfdd9b4\")) {                    Plotly.newPlot(                        \"a81f890a-2b7e-4b9d-a74a-5771bbfdd9b4\",                        [{\"branchvalues\": \"total\", \"customdata\": [[\"Cat_1\"], [\"Cat_2\"], [\"Cat_3\"], [\"Cat_4\"], [\"Cat_5\"], [\"Cat_6\"], [\"Cat_7\"], [\"Cat_1\"], [\"Cat_2\"], [\"Cat_3\"], [\"Cat_4\"], [\"Cat_5\"], [\"Cat_2\"], [\"Cat_1\"], [\"Cat_7\"], [\"Cat_6\"], [\"Cat_3\"], [\"Cat_4\"], [\"Cat_5\"], [\"Cat_6\"], [\"Cat_7\"], [\"Cat_1\"], [\"Cat_2\"], [\"Cat_3\"], [\"Cat_4\"], [\"Cat_5\"], [\"Cat_6\"], [\"Cat_7\"], [\"Cat_1\"], [\"Cat_2\"], [\"Cat_3\"], [\"Cat_4\"], [\"Cat_5\"], [\"Cat_6\"], [\"Cat_7\"]], \"domain\": {\"x\": [0.0, 1.0], \"y\": [0.0, 1.0]}, \"hovertemplate\": \"labels=%{label}<br>count=%{value}<br>parent=%{parent}<br>id=%{id}<br>Var_1=%{customdata[0]}<extra></extra>\", \"ids\": [\"Cat_1/A\", \"Cat_2/A\", \"Cat_3/A\", \"Cat_4/A\", \"Cat_5/A\", \"Cat_6/A\", \"Cat_7/A\", \"Cat_1/B\", \"Cat_2/B\", \"Cat_3/B\", \"Cat_4/B\", \"Cat_5/B\", \"Cat_2/C\", \"Cat_1/C\", \"Cat_7/B\", \"Cat_6/B\", \"Cat_3/C\", \"Cat_4/C\", \"Cat_5/C\", \"Cat_6/C\", \"Cat_7/C\", \"Cat_1/D\", \"Cat_2/D\", \"Cat_3/D\", \"Cat_4/D\", \"Cat_5/D\", \"Cat_6/D\", \"Cat_7/D\", \"Cat_1\", \"Cat_2\", \"Cat_3\", \"Cat_4\", \"Cat_5\", \"Cat_6\", \"Cat_7\"], \"labels\": [\"A\", \"A\", \"A\", \"A\", \"A\", \"A\", \"A\", \"B\", \"B\", \"B\", \"B\", \"B\", \"C\", \"C\", \"B\", \"B\", \"C\", \"C\", \"C\", \"C\", \"C\", \"D\", \"D\", \"D\", \"D\", \"D\", \"D\", \"D\", \"Cat_1\", \"Cat_2\", \"Cat_3\", \"Cat_4\", \"Cat_5\", \"Cat_6\", \"Cat_7\"], \"marker\": {\"colors\": [\"#636efa\", \"#EF553B\", \"#00cc96\", \"#ab63fa\", \"#FFA15A\", \"#19d3f3\", \"#FF6692\", \"#636efa\", \"#EF553B\", \"#00cc96\", \"#ab63fa\", \"#FFA15A\", \"#EF553B\", \"#636efa\", \"#FF6692\", \"#19d3f3\", \"#00cc96\", \"#ab63fa\", \"#FFA15A\", \"#19d3f3\", \"#FF6692\", \"#636efa\", \"#EF553B\", \"#00cc96\", \"#ab63fa\", \"#FFA15A\", \"#19d3f3\", \"#FF6692\", \"#636efa\", \"#EF553B\", \"#00cc96\", \"#ab63fa\", \"#FFA15A\", \"#19d3f3\", \"#FF6692\"]}, \"name\": \"\", \"parents\": [\"Cat_1\", \"Cat_2\", \"Cat_3\", \"Cat_4\", \"Cat_5\", \"Cat_6\", \"Cat_7\", \"Cat_1\", \"Cat_2\", \"Cat_3\", \"Cat_4\", \"Cat_5\", \"Cat_2\", \"Cat_1\", \"Cat_7\", \"Cat_6\", \"Cat_3\", \"Cat_4\", \"Cat_5\", \"Cat_6\", \"Cat_7\", \"Cat_1\", \"Cat_2\", \"Cat_3\", \"Cat_4\", \"Cat_5\", \"Cat_6\", \"Cat_7\", \"\", \"\", \"\", \"\", \"\", \"\", \"\"], \"textinfo\": \"label+percent parent\", \"type\": \"sunburst\", \"values\": [31, 83, 223, 333, 19, 1213, 51, 26, 106, 186, 232, 20, 99, 26, 43, 1232, 154, 109, 18, 1496, 47, 50, 134, 259, 415, 28, 1297, 62, 133, 422, 822, 1089, 85, 5238, 203]}],                        {\"height\": 600, \"legend\": {\"tracegroupgap\": 0}, \"plot_bgcolor\": \"white\", \"template\": {\"data\": {\"bar\": [{\"error_x\": {\"color\": \"#2a3f5f\"}, \"error_y\": {\"color\": \"#2a3f5f\"}, \"marker\": {\"line\": {\"color\": \"#E5ECF6\", \"width\": 0.5}}, \"type\": \"bar\"}], \"barpolar\": [{\"marker\": {\"line\": {\"color\": \"#E5ECF6\", \"width\": 0.5}}, \"type\": \"barpolar\"}], \"carpet\": [{\"aaxis\": {\"endlinecolor\": \"#2a3f5f\", \"gridcolor\": \"white\", \"linecolor\": \"white\", \"minorgridcolor\": \"white\", \"startlinecolor\": \"#2a3f5f\"}, \"baxis\": {\"endlinecolor\": \"#2a3f5f\", \"gridcolor\": \"white\", \"linecolor\": \"white\", \"minorgridcolor\": \"white\", \"startlinecolor\": \"#2a3f5f\"}, \"type\": \"carpet\"}], \"choropleth\": [{\"colorbar\": {\"outlinewidth\": 0, \"ticks\": \"\"}, \"type\": \"choropleth\"}], \"contour\": [{\"colorbar\": {\"outlinewidth\": 0, \"ticks\": \"\"}, \"colorscale\": [[0.0, \"#0d0887\"], [0.1111111111111111, \"#46039f\"], [0.2222222222222222, \"#7201a8\"], [0.3333333333333333, \"#9c179e\"], [0.4444444444444444, \"#bd3786\"], [0.5555555555555556, \"#d8576b\"], [0.6666666666666666, \"#ed7953\"], [0.7777777777777778, \"#fb9f3a\"], [0.8888888888888888, \"#fdca26\"], [1.0, \"#f0f921\"]], \"type\": \"contour\"}], \"contourcarpet\": [{\"colorbar\": {\"outlinewidth\": 0, \"ticks\": \"\"}, \"type\": \"contourcarpet\"}], \"heatmap\": [{\"colorbar\": {\"outlinewidth\": 0, \"ticks\": \"\"}, \"colorscale\": [[0.0, \"#0d0887\"], [0.1111111111111111, \"#46039f\"], [0.2222222222222222, \"#7201a8\"], [0.3333333333333333, \"#9c179e\"], [0.4444444444444444, \"#bd3786\"], [0.5555555555555556, \"#d8576b\"], [0.6666666666666666, \"#ed7953\"], [0.7777777777777778, \"#fb9f3a\"], [0.8888888888888888, \"#fdca26\"], [1.0, \"#f0f921\"]], \"type\": \"heatmap\"}], \"heatmapgl\": [{\"colorbar\": {\"outlinewidth\": 0, \"ticks\": \"\"}, \"colorscale\": [[0.0, \"#0d0887\"], [0.1111111111111111, \"#46039f\"], [0.2222222222222222, \"#7201a8\"], [0.3333333333333333, \"#9c179e\"], [0.4444444444444444, \"#bd3786\"], [0.5555555555555556, \"#d8576b\"], [0.6666666666666666, \"#ed7953\"], [0.7777777777777778, \"#fb9f3a\"], [0.8888888888888888, \"#fdca26\"], [1.0, \"#f0f921\"]], \"type\": \"heatmapgl\"}], \"histogram\": [{\"marker\": {\"colorbar\": {\"outlinewidth\": 0, \"ticks\": \"\"}}, \"type\": \"histogram\"}], \"histogram2d\": [{\"colorbar\": {\"outlinewidth\": 0, \"ticks\": \"\"}, \"colorscale\": [[0.0, \"#0d0887\"], [0.1111111111111111, \"#46039f\"], [0.2222222222222222, \"#7201a8\"], [0.3333333333333333, \"#9c179e\"], [0.4444444444444444, \"#bd3786\"], [0.5555555555555556, \"#d8576b\"], [0.6666666666666666, \"#ed7953\"], [0.7777777777777778, \"#fb9f3a\"], [0.8888888888888888, \"#fdca26\"], [1.0, \"#f0f921\"]], \"type\": \"histogram2d\"}], \"histogram2dcontour\": [{\"colorbar\": {\"outlinewidth\": 0, \"ticks\": \"\"}, \"colorscale\": [[0.0, \"#0d0887\"], [0.1111111111111111, \"#46039f\"], [0.2222222222222222, \"#7201a8\"], [0.3333333333333333, \"#9c179e\"], [0.4444444444444444, \"#bd3786\"], [0.5555555555555556, \"#d8576b\"], [0.6666666666666666, \"#ed7953\"], [0.7777777777777778, \"#fb9f3a\"], [0.8888888888888888, \"#fdca26\"], [1.0, \"#f0f921\"]], \"type\": \"histogram2dcontour\"}], \"mesh3d\": [{\"colorbar\": {\"outlinewidth\": 0, \"ticks\": \"\"}, \"type\": \"mesh3d\"}], \"parcoords\": [{\"line\": {\"colorbar\": {\"outlinewidth\": 0, \"ticks\": \"\"}}, \"type\": \"parcoords\"}], \"pie\": [{\"automargin\": true, \"type\": \"pie\"}], \"scatter\": [{\"marker\": {\"colorbar\": {\"outlinewidth\": 0, \"ticks\": \"\"}}, \"type\": \"scatter\"}], \"scatter3d\": [{\"line\": {\"colorbar\": {\"outlinewidth\": 0, \"ticks\": \"\"}}, \"marker\": {\"colorbar\": {\"outlinewidth\": 0, \"ticks\": \"\"}}, \"type\": \"scatter3d\"}], \"scattercarpet\": [{\"marker\": {\"colorbar\": {\"outlinewidth\": 0, \"ticks\": \"\"}}, \"type\": \"scattercarpet\"}], \"scattergeo\": [{\"marker\": {\"colorbar\": {\"outlinewidth\": 0, \"ticks\": \"\"}}, \"type\": \"scattergeo\"}], \"scattergl\": [{\"marker\": {\"colorbar\": {\"outlinewidth\": 0, \"ticks\": \"\"}}, \"type\": \"scattergl\"}], \"scattermapbox\": [{\"marker\": {\"colorbar\": {\"outlinewidth\": 0, \"ticks\": \"\"}}, \"type\": \"scattermapbox\"}], \"scatterpolar\": [{\"marker\": {\"colorbar\": {\"outlinewidth\": 0, \"ticks\": \"\"}}, \"type\": \"scatterpolar\"}], \"scatterpolargl\": [{\"marker\": {\"colorbar\": {\"outlinewidth\": 0, \"ticks\": \"\"}}, \"type\": \"scatterpolargl\"}], \"scatterternary\": [{\"marker\": {\"colorbar\": {\"outlinewidth\": 0, \"ticks\": \"\"}}, \"type\": \"scatterternary\"}], \"surface\": [{\"colorbar\": {\"outlinewidth\": 0, \"ticks\": \"\"}, \"colorscale\": [[0.0, \"#0d0887\"], [0.1111111111111111, \"#46039f\"], [0.2222222222222222, \"#7201a8\"], [0.3333333333333333, \"#9c179e\"], [0.4444444444444444, \"#bd3786\"], [0.5555555555555556, \"#d8576b\"], [0.6666666666666666, \"#ed7953\"], [0.7777777777777778, \"#fb9f3a\"], [0.8888888888888888, \"#fdca26\"], [1.0, \"#f0f921\"]], \"type\": \"surface\"}], \"table\": [{\"cells\": {\"fill\": {\"color\": \"#EBF0F8\"}, \"line\": {\"color\": \"white\"}}, \"header\": {\"fill\": {\"color\": \"#C8D4E3\"}, \"line\": {\"color\": \"white\"}}, \"type\": \"table\"}]}, \"layout\": {\"annotationdefaults\": {\"arrowcolor\": \"#2a3f5f\", \"arrowhead\": 0, \"arrowwidth\": 1}, \"autotypenumbers\": \"strict\", \"coloraxis\": {\"colorbar\": {\"outlinewidth\": 0, \"ticks\": \"\"}}, \"colorscale\": {\"diverging\": [[0, \"#8e0152\"], [0.1, \"#c51b7d\"], [0.2, \"#de77ae\"], [0.3, \"#f1b6da\"], [0.4, \"#fde0ef\"], [0.5, \"#f7f7f7\"], [0.6, \"#e6f5d0\"], [0.7, \"#b8e186\"], [0.8, \"#7fbc41\"], [0.9, \"#4d9221\"], [1, \"#276419\"]], \"sequential\": [[0.0, \"#0d0887\"], [0.1111111111111111, \"#46039f\"], [0.2222222222222222, \"#7201a8\"], [0.3333333333333333, \"#9c179e\"], [0.4444444444444444, \"#bd3786\"], [0.5555555555555556, \"#d8576b\"], [0.6666666666666666, \"#ed7953\"], [0.7777777777777778, \"#fb9f3a\"], [0.8888888888888888, \"#fdca26\"], [1.0, \"#f0f921\"]], \"sequentialminus\": [[0.0, \"#0d0887\"], [0.1111111111111111, \"#46039f\"], [0.2222222222222222, \"#7201a8\"], [0.3333333333333333, \"#9c179e\"], [0.4444444444444444, \"#bd3786\"], [0.5555555555555556, \"#d8576b\"], [0.6666666666666666, \"#ed7953\"], [0.7777777777777778, \"#fb9f3a\"], [0.8888888888888888, \"#fdca26\"], [1.0, \"#f0f921\"]]}, \"colorway\": [\"#636efa\", \"#EF553B\", \"#00cc96\", \"#ab63fa\", \"#FFA15A\", \"#19d3f3\", \"#FF6692\", \"#B6E880\", \"#FF97FF\", \"#FECB52\"], \"font\": {\"color\": \"#2a3f5f\"}, \"geo\": {\"bgcolor\": \"white\", \"lakecolor\": \"white\", \"landcolor\": \"#E5ECF6\", \"showlakes\": true, \"showland\": true, \"subunitcolor\": \"white\"}, \"hoverlabel\": {\"align\": \"left\"}, \"hovermode\": \"closest\", \"mapbox\": {\"style\": \"light\"}, \"paper_bgcolor\": \"white\", \"plot_bgcolor\": \"#E5ECF6\", \"polar\": {\"angularaxis\": {\"gridcolor\": \"white\", \"linecolor\": \"white\", \"ticks\": \"\"}, \"bgcolor\": \"#E5ECF6\", \"radialaxis\": {\"gridcolor\": \"white\", \"linecolor\": \"white\", \"ticks\": \"\"}}, \"scene\": {\"xaxis\": {\"backgroundcolor\": \"#E5ECF6\", \"gridcolor\": \"white\", \"gridwidth\": 2, \"linecolor\": \"white\", \"showbackground\": true, \"ticks\": \"\", \"zerolinecolor\": \"white\"}, \"yaxis\": {\"backgroundcolor\": \"#E5ECF6\", \"gridcolor\": \"white\", \"gridwidth\": 2, \"linecolor\": \"white\", \"showbackground\": true, \"ticks\": \"\", \"zerolinecolor\": \"white\"}, \"zaxis\": {\"backgroundcolor\": \"#E5ECF6\", \"gridcolor\": \"white\", \"gridwidth\": 2, \"linecolor\": \"white\", \"showbackground\": true, \"ticks\": \"\", \"zerolinecolor\": \"white\"}}, \"shapedefaults\": {\"line\": {\"color\": \"#2a3f5f\"}}, \"ternary\": {\"aaxis\": {\"gridcolor\": \"white\", \"linecolor\": \"white\", \"ticks\": \"\"}, \"baxis\": {\"gridcolor\": \"white\", \"linecolor\": \"white\", \"ticks\": \"\"}, \"bgcolor\": \"#E5ECF6\", \"caxis\": {\"gridcolor\": \"white\", \"linecolor\": \"white\", \"ticks\": \"\"}}, \"title\": {\"x\": 0.05}, \"xaxis\": {\"automargin\": true, \"gridcolor\": \"white\", \"linecolor\": \"white\", \"ticks\": \"\", \"title\": {\"standoff\": 15}, \"zerolinecolor\": \"white\", \"zerolinewidth\": 2}, \"yaxis\": {\"automargin\": true, \"gridcolor\": \"white\", \"linecolor\": \"white\", \"ticks\": \"\", \"title\": {\"standoff\": 15}, \"zerolinecolor\": \"white\", \"zerolinewidth\": 2}}}, \"title\": {\"font\": {\"color\": \"#221f1f\", \"family\": \"Calibri Black\", \"size\": 22}, \"text\": \"Affect of Var_1 on Customer Segmentation\", \"x\": 0.5}, \"width\": 600},                        {\"responsive\": true}                    ).then(function(){\n",
       "                            \n",
       "var gd = document.getElementById('a81f890a-2b7e-4b9d-a74a-5771bbfdd9b4');\n",
       "var x = new MutationObserver(function (mutations, observer) {{\n",
       "        var display = window.getComputedStyle(gd).display;\n",
       "        if (!display || display === 'none') {{\n",
       "            console.log([gd, 'removed!']);\n",
       "            Plotly.purge(gd);\n",
       "            observer.disconnect();\n",
       "        }}\n",
       "}});\n",
       "\n",
       "// Listen for the removal of the full notebook cells\n",
       "var notebookContainer = gd.closest('#notebook-container');\n",
       "if (notebookContainer) {{\n",
       "    x.observe(notebookContainer, {childList: true});\n",
       "}}\n",
       "\n",
       "// Listen for the clearing of the current output cell\n",
       "var outputEl = gd.closest('.output');\n",
       "if (outputEl) {{\n",
       "    x.observe(outputEl, {childList: true});\n",
       "}}\n",
       "\n",
       "                        })                };                });            </script>        </div>"
      ]
     },
     "metadata": {},
     "output_type": "display_data"
    }
   ],
   "source": [
    "for feature in ['Profession', 'Var_1']:\n",
    "    plot_pie(feature)"
   ]
  },
  {
   "cell_type": "code",
   "execution_count": 8,
   "id": "minimal-cycle",
   "metadata": {
    "execution": {
     "iopub.execute_input": "2021-05-26T11:19:30.778070Z",
     "iopub.status.busy": "2021-05-26T11:19:30.775516Z",
     "iopub.status.idle": "2021-05-26T11:19:31.633872Z",
     "shell.execute_reply": "2021-05-26T11:19:31.634357Z",
     "shell.execute_reply.started": "2021-05-26T06:15:33.88696Z"
    },
    "papermill": {
     "duration": 0.949508,
     "end_time": "2021-05-26T11:19:31.634537",
     "exception": false,
     "start_time": "2021-05-26T11:19:30.685029",
     "status": "completed"
    },
    "tags": []
   },
   "outputs": [
    {
     "data": {
      "image/png": "[encoded data removed]",
      "text/plain": [
       "<Figure size 720x432 with 1 Axes>"
      ]
     },
     "metadata": {
      "needs_background": "light"
     },
     "output_type": "display_data"
    },
    {
     "data": {
      "image/png": "[encoded data removed]",
      "text/plain": [
       "<Figure size 720x432 with 1 Axes>"
      ]
     },
     "metadata": {
      "needs_background": "light"
     },
     "output_type": "display_data"
    },
    {
     "data": {
      "image/png": "[encoded data removed]",
      "text/plain": [
       "<Figure size 720x432 with 1 Axes>"
      ]
     },
     "metadata": {
      "needs_background": "light"
     },
     "output_type": "display_data"
    }
   ],
   "source": [
    "for feature in ['Age', 'Work_Experience', 'Family_Size']:\n",
    "    plot_numerical(feature)"
   ]
  },
  {
   "cell_type": "markdown",
   "id": "exceptional-sitting",
   "metadata": {
    "papermill": {
     "duration": 0.088797,
     "end_time": "2021-05-26T11:19:31.813280",
     "exception": false,
     "start_time": "2021-05-26T11:19:31.724483",
     "status": "completed"
    },
    "tags": []
   },
   "source": [
    "**Observations-**\n",
    "* Ever_Married - UnMarried customers are usually in segment D while married are in segment A, B or C\n",
    "* Graduated - Graduated customers are usually in segment A, B or C while Ungraduated are in segment D\n",
    "* Profession - Customers in healthcare & marketing are mostly in segment D, Artist & engineers are usually in A, B or C\n",
    "* Spending_Score - Usually 'Low' spenders are in segment A or D while 'high' and 'average' spenders are in segment B or C\n",
    "* Age - <30 are in segment D, 30-40 or >70 are in segment A while 45-70 are in segment C\n",
    "* Work_Experience - <2 are in segment C while 6-11 are in segment A & D\n",
    "* Family_Size - <1 are in segment A, 1-3 are in Segment C and 4+ in segment D"
   ]
  },
  {
   "cell_type": "code",
   "execution_count": 9,
   "id": "whole-alfred",
   "metadata": {
    "execution": {
     "iopub.execute_input": "2021-05-26T11:19:31.993155Z",
     "iopub.status.busy": "2021-05-26T11:19:31.992555Z",
     "iopub.status.idle": "2021-05-26T11:19:31.997100Z",
     "shell.execute_reply": "2021-05-26T11:19:31.997610Z",
     "shell.execute_reply.started": "2021-05-26T11:10:17.275655Z"
    },
    "papermill": {
     "duration": 0.095468,
     "end_time": "2021-05-26T11:19:31.997784",
     "exception": false,
     "start_time": "2021-05-26T11:19:31.902316",
     "status": "completed"
    },
    "tags": []
   },
   "outputs": [],
   "source": [
    "categorical_features = ['Gender', 'Ever_Married', 'Graduated', 'Profession', 'Spending_Score', 'Var_1']\n",
    "numerical_features = ['Age', 'Work_Experience', 'Family_Size']\n",
    "\n",
    "to_drop = ['ID'] # contain unique values"
   ]
  },
  {
   "cell_type": "markdown",
   "id": "polish-turning",
   "metadata": {
    "papermill": {
     "duration": 0.088318,
     "end_time": "2021-05-26T11:19:32.174307",
     "exception": false,
     "start_time": "2021-05-26T11:19:32.085989",
     "status": "completed"
    },
    "tags": []
   },
   "source": [
    "# CORRELATION"
   ]
  },
  {
   "cell_type": "markdown",
   "id": "diagnostic-queensland",
   "metadata": {
    "execution": {
     "iopub.execute_input": "2021-05-26T06:28:48.240835Z",
     "iopub.status.busy": "2021-05-26T06:28:48.240399Z",
     "iopub.status.idle": "2021-05-26T06:28:48.246039Z",
     "shell.execute_reply": "2021-05-26T06:28:48.244674Z",
     "shell.execute_reply.started": "2021-05-26T06:28:48.240802Z"
    },
    "papermill": {
     "duration": 0.088028,
     "end_time": "2021-05-26T11:19:32.350150",
     "exception": false,
     "start_time": "2021-05-26T11:19:32.262122",
     "status": "completed"
    },
    "tags": []
   },
   "source": [
    "### Label encoding category features for correlation"
   ]
  },
  {
   "cell_type": "code",
   "execution_count": 10,
   "id": "received-rouge",
   "metadata": {
    "execution": {
     "iopub.execute_input": "2021-05-26T11:19:32.531418Z",
     "iopub.status.busy": "2021-05-26T11:19:32.530705Z",
     "iopub.status.idle": "2021-05-26T11:19:32.656907Z",
     "shell.execute_reply": "2021-05-26T11:19:32.657478Z",
     "shell.execute_reply.started": "2021-05-26T11:10:08.192818Z"
    },
    "papermill": {
     "duration": 0.219039,
     "end_time": "2021-05-26T11:19:32.657670",
     "exception": false,
     "start_time": "2021-05-26T11:19:32.438631",
     "status": "completed"
    },
    "tags": []
   },
   "outputs": [],
   "source": [
    "from sklearn.preprocessing import LabelEncoder, OneHotEncoder\n",
    "import os\n",
    "import joblib"
   ]
  },
  {
   "cell_type": "code",
   "execution_count": 11,
   "id": "assumed-shower",
   "metadata": {
    "execution": {
     "iopub.execute_input": "2021-05-26T11:19:32.887215Z",
     "iopub.status.busy": "2021-05-26T11:19:32.886601Z",
     "iopub.status.idle": "2021-05-26T11:19:32.920622Z",
     "shell.execute_reply": "2021-05-26T11:19:32.919996Z",
     "shell.execute_reply.started": "2021-05-26T10:02:00.555237Z"
    },
    "papermill": {
     "duration": 0.173905,
     "end_time": "2021-05-26T11:19:32.920874",
     "exception": false,
     "start_time": "2021-05-26T11:19:32.746969",
     "status": "completed"
    },
    "tags": []
   },
   "outputs": [],
   "source": [
    "df = data.copy()\n",
    "path = '/kaggle/working'\n",
    "for i, feature in enumerate(categorical_features):\n",
    "    le = LabelEncoder()\n",
    "\n",
    "    # create directory to save label encoding models\n",
    "    if not os.path.exists(os.path.join(path, \"TextEncoding\")):\n",
    "        os.makedirs(os.path.join(path, \"TextEncoding\"))\n",
    "\n",
    "    # perform label encoding\n",
    "    le.fit(df[feature])\n",
    "    \n",
    "    # save the encoder\n",
    "    joblib.dump(le, open(os.path.join(path, \"TextEncoding/le_{}.sav\".format(feature)), 'wb'))\n",
    "    \n",
    "    # transfrom training data\n",
    "    df[feature] = le.transform(df[feature])\n",
    "\n",
    "    # get classes & remove first column to elude from dummy variable trap\n",
    "    columns = list(map(lambda x: feature+' '+str(x), list(le.classes_)))[1:]\n",
    "    \n",
    "    # save classes\n",
    "    joblib.dump(columns, \n",
    "                open(os.path.join(path, \"TextEncoding/le_{}_classes.sav\".format(feature)), 'wb'))"
   ]
  },
  {
   "cell_type": "markdown",
   "id": "bulgarian-winning",
   "metadata": {
    "papermill": {
     "duration": 0.088799,
     "end_time": "2021-05-26T11:19:33.097995",
     "exception": false,
     "start_time": "2021-05-26T11:19:33.009196",
     "status": "completed"
    },
    "tags": []
   },
   "source": [
    "## Bivariate Analysis Correlation plot with the Numeric variables\n"
   ]
  },
  {
   "cell_type": "code",
   "execution_count": 12,
   "id": "future-vacation",
   "metadata": {
    "execution": {
     "iopub.execute_input": "2021-05-26T11:19:33.285293Z",
     "iopub.status.busy": "2021-05-26T11:19:33.284545Z",
     "iopub.status.idle": "2021-05-26T11:19:33.529961Z",
     "shell.execute_reply": "2021-05-26T11:19:33.529315Z",
     "shell.execute_reply.started": "2021-05-26T10:02:02.668353Z"
    },
    "papermill": {
     "duration": 0.341779,
     "end_time": "2021-05-26T11:19:33.530098",
     "exception": false,
     "start_time": "2021-05-26T11:19:33.188319",
     "status": "completed"
    },
    "tags": []
   },
   "outputs": [
    {
     "data": {
      "image/png": "[encoded data removed]",
      "text/plain": [
       "<Figure size 360x144 with 2 Axes>"
      ]
     },
     "metadata": {
      "needs_background": "light"
     },
     "output_type": "display_data"
    }
   ],
   "source": [
    "plt.figure(figsize=(5, 2))\n",
    "sns.heatmap(round(data[numerical_features].corr(), 2), annot=True,\n",
    "            mask=None, cmap='GnBu')\n",
    "corr_mat = data[numerical_features].corr()\n",
    "plt.show()"
   ]
  },
  {
   "cell_type": "markdown",
   "id": "million-vehicle",
   "metadata": {
    "papermill": {
     "duration": 0.089468,
     "end_time": "2021-05-26T11:19:33.709890",
     "exception": false,
     "start_time": "2021-05-26T11:19:33.620422",
     "status": "completed"
    },
    "tags": []
   },
   "source": [
    "## Bivariate Analysis Correlation plot with the Categorical variables"
   ]
  },
  {
   "cell_type": "code",
   "execution_count": 13,
   "id": "satisfied-bryan",
   "metadata": {
    "execution": {
     "iopub.execute_input": "2021-05-26T11:19:33.892413Z",
     "iopub.status.busy": "2021-05-26T11:19:33.891709Z",
     "iopub.status.idle": "2021-05-26T11:19:34.729094Z",
     "shell.execute_reply": "2021-05-26T11:19:34.729625Z",
     "shell.execute_reply.started": "2021-05-26T06:32:51.136732Z"
    },
    "papermill": {
     "duration": 0.930411,
     "end_time": "2021-05-26T11:19:34.729824",
     "exception": false,
     "start_time": "2021-05-26T11:19:33.799413",
     "status": "completed"
    },
    "tags": []
   },
   "outputs": [
    {
     "data": {
      "image/png": "[encoded data removed]",
      "text/plain": [
       "<Figure size 720x432 with 2 Axes>"
      ]
     },
     "metadata": {
      "needs_background": "light"
     },
     "output_type": "display_data"
    }
   ],
   "source": [
    "plt.figure(figsize=(10, 6))\n",
    "sns.heatmap(round(df[categorical_features+numerical_features].corr(method='spearman'), 2), annot=True,\n",
    "            mask=None, cmap='GnBu')\n",
    "plt.show()"
   ]
  },
  {
   "cell_type": "markdown",
   "id": "valuable-robertson",
   "metadata": {
    "papermill": {
     "duration": 0.093272,
     "end_time": "2021-05-26T11:19:34.915172",
     "exception": false,
     "start_time": "2021-05-26T11:19:34.821900",
     "status": "completed"
    },
    "tags": []
   },
   "source": [
    "**Observations-**\n",
    "* Ever_Married - Spending_Score\n",
    "* Ever_Married - Age"
   ]
  },
  {
   "cell_type": "markdown",
   "id": "established-surface",
   "metadata": {
    "papermill": {
     "duration": 0.092584,
     "end_time": "2021-05-26T11:19:35.099703",
     "exception": false,
     "start_time": "2021-05-26T11:19:35.007119",
     "status": "completed"
    },
    "tags": []
   },
   "source": [
    "# Analyzing features using VIF"
   ]
  },
  {
   "cell_type": "code",
   "execution_count": 14,
   "id": "sized-activation",
   "metadata": {
    "execution": {
     "iopub.execute_input": "2021-05-26T11:19:35.286988Z",
     "iopub.status.busy": "2021-05-26T11:19:35.286303Z",
     "iopub.status.idle": "2021-05-26T11:19:35.401640Z",
     "shell.execute_reply": "2021-05-26T11:19:35.400938Z",
     "shell.execute_reply.started": "2021-05-26T06:36:43.739256Z"
    },
    "papermill": {
     "duration": 0.209475,
     "end_time": "2021-05-26T11:19:35.401805",
     "exception": false,
     "start_time": "2021-05-26T11:19:35.192330",
     "status": "completed"
    },
    "tags": []
   },
   "outputs": [],
   "source": [
    "from statsmodels.stats.outliers_influence import variance_inflation_factor"
   ]
  },
  {
   "cell_type": "code",
   "execution_count": 15,
   "id": "casual-glucose",
   "metadata": {
    "execution": {
     "iopub.execute_input": "2021-05-26T11:19:35.597359Z",
     "iopub.status.busy": "2021-05-26T11:19:35.596325Z",
     "iopub.status.idle": "2021-05-26T11:19:35.670998Z",
     "shell.execute_reply": "2021-05-26T11:19:35.672119Z",
     "shell.execute_reply.started": "2021-05-26T06:37:48.761862Z"
    },
    "papermill": {
     "duration": 0.178156,
     "end_time": "2021-05-26T11:19:35.672406",
     "exception": false,
     "start_time": "2021-05-26T11:19:35.494250",
     "status": "completed"
    },
    "tags": []
   },
   "outputs": [
    {
     "name": "stdout",
     "output_type": "stream",
     "text": [
      "         variables       VIF\n",
      "0           Gender  2.172928\n",
      "1     Ever_Married  2.547924\n",
      "2        Graduated  2.526486\n",
      "3       Profession  2.365052\n",
      "4   Spending_Score  3.231881\n",
      "5  Work_Experience  1.546193\n",
      "6      Family_Size  3.222219\n"
     ]
    }
   ],
   "source": [
    "# Calculating VIF\n",
    "vif = pd.DataFrame()\n",
    "temp = df.dropna()\n",
    "vif[\"variables\"] = [feature for feature in categorical_features+numerical_features if feature not in ['Age', 'Var_1']]\n",
    "vif[\"VIF\"] = [variance_inflation_factor(temp[vif['variables']].values, i) for i in range(len(vif[\"variables\"]))]\n",
    "print(vif)"
   ]
  },
  {
   "cell_type": "markdown",
   "id": "convinced-external",
   "metadata": {
    "papermill": {
     "duration": 0.091356,
     "end_time": "2021-05-26T11:19:35.904295",
     "exception": false,
     "start_time": "2021-05-26T11:19:35.812939",
     "status": "completed"
    },
    "tags": []
   },
   "source": [
    "Age and Var_1 have high VIF score"
   ]
  },
  {
   "cell_type": "markdown",
   "id": "differential-footage",
   "metadata": {
    "execution": {
     "iopub.execute_input": "2021-05-26T06:38:24.978859Z",
     "iopub.status.busy": "2021-05-26T06:38:24.978266Z",
     "iopub.status.idle": "2021-05-26T06:38:24.983147Z",
     "shell.execute_reply": "2021-05-26T06:38:24.982094Z",
     "shell.execute_reply.started": "2021-05-26T06:38:24.978809Z"
    },
    "papermill": {
     "duration": 0.091442,
     "end_time": "2021-05-26T11:19:36.086953",
     "exception": false,
     "start_time": "2021-05-26T11:19:35.995511",
     "status": "completed"
    },
    "tags": []
   },
   "source": [
    "# Handling Missing Values"
   ]
  },
  {
   "cell_type": "code",
   "execution_count": 16,
   "id": "helpful-anderson",
   "metadata": {
    "execution": {
     "iopub.execute_input": "2021-05-26T11:19:36.281981Z",
     "iopub.status.busy": "2021-05-26T11:19:36.281020Z",
     "iopub.status.idle": "2021-05-26T11:19:36.292905Z",
     "shell.execute_reply": "2021-05-26T11:19:36.292273Z",
     "shell.execute_reply.started": "2021-05-26T06:38:35.784147Z"
    },
    "papermill": {
     "duration": 0.113296,
     "end_time": "2021-05-26T11:19:36.293042",
     "exception": false,
     "start_time": "2021-05-26T11:19:36.179746",
     "status": "completed"
    },
    "tags": []
   },
   "outputs": [
    {
     "data": {
      "text/html": [
       "<div>\n",
       "<style scoped>\n",
       "    .dataframe tbody tr th:only-of-type {\n",
       "        vertical-align: middle;\n",
       "    }\n",
       "\n",
       "    .dataframe tbody tr th {\n",
       "        vertical-align: top;\n",
       "    }\n",
       "\n",
       "    .dataframe thead th {\n",
       "        text-align: right;\n",
       "    }\n",
       "</style>\n",
       "<table border=\"1\" class=\"dataframe\">\n",
       "  <thead>\n",
       "    <tr style=\"text-align: right;\">\n",
       "      <th></th>\n",
       "      <th>missing %</th>\n",
       "    </tr>\n",
       "  </thead>\n",
       "  <tbody>\n",
       "    <tr>\n",
       "      <th>Ever_Married</th>\n",
       "      <td>1.735250</td>\n",
       "    </tr>\n",
       "    <tr>\n",
       "      <th>Graduated</th>\n",
       "      <td>0.966782</td>\n",
       "    </tr>\n",
       "    <tr>\n",
       "      <th>Profession</th>\n",
       "      <td>1.536936</td>\n",
       "    </tr>\n",
       "    <tr>\n",
       "      <th>Work_Experience</th>\n",
       "      <td>10.275161</td>\n",
       "    </tr>\n",
       "    <tr>\n",
       "      <th>Family_Size</th>\n",
       "      <td>4.152206</td>\n",
       "    </tr>\n",
       "    <tr>\n",
       "      <th>Var_1</th>\n",
       "      <td>0.941993</td>\n",
       "    </tr>\n",
       "  </tbody>\n",
       "</table>\n",
       "</div>"
      ],
      "text/plain": [
       "                 missing %\n",
       "Ever_Married      1.735250\n",
       "Graduated         0.966782\n",
       "Profession        1.536936\n",
       "Work_Experience  10.275161\n",
       "Family_Size       4.152206\n",
       "Var_1             0.941993"
      ]
     },
     "execution_count": 16,
     "metadata": {},
     "output_type": "execute_result"
    }
   ],
   "source": [
    "missingValueFeatures = pd.DataFrame({'missing %': data.isnull().sum()*100/len(data)})\n",
    "missingValueFeatures[missingValueFeatures['missing %']>0]"
   ]
  },
  {
   "cell_type": "markdown",
   "id": "expanded-agent",
   "metadata": {
    "papermill": {
     "duration": 0.091559,
     "end_time": "2021-05-26T11:19:36.476354",
     "exception": false,
     "start_time": "2021-05-26T11:19:36.384795",
     "status": "completed"
    },
    "tags": []
   },
   "source": [
    "As most of the features are uncorrelated, it is difficult to fill the NA values. Hence for the time being let's drop all NA."
   ]
  },
  {
   "cell_type": "code",
   "execution_count": 17,
   "id": "competent-russian",
   "metadata": {
    "execution": {
     "iopub.execute_input": "2021-05-26T11:19:36.672655Z",
     "iopub.status.busy": "2021-05-26T11:19:36.671991Z",
     "iopub.status.idle": "2021-05-26T11:19:36.677597Z",
     "shell.execute_reply": "2021-05-26T11:19:36.677074Z",
     "shell.execute_reply.started": "2021-05-26T11:10:23.580974Z"
    },
    "papermill": {
     "duration": 0.108454,
     "end_time": "2021-05-26T11:19:36.677743",
     "exception": false,
     "start_time": "2021-05-26T11:19:36.569289",
     "status": "completed"
    },
    "tags": []
   },
   "outputs": [],
   "source": [
    "data_missing = data.dropna().reset_index(drop=True)"
   ]
  },
  {
   "cell_type": "markdown",
   "id": "transsexual-adobe",
   "metadata": {
    "papermill": {
     "duration": 0.091576,
     "end_time": "2021-05-26T11:19:36.860920",
     "exception": false,
     "start_time": "2021-05-26T11:19:36.769344",
     "status": "completed"
    },
    "tags": []
   },
   "source": [
    "# Looking at Outliers"
   ]
  },
  {
   "cell_type": "code",
   "execution_count": 18,
   "id": "digital-newspaper",
   "metadata": {
    "execution": {
     "iopub.execute_input": "2021-05-26T11:19:37.052493Z",
     "iopub.status.busy": "2021-05-26T11:19:37.051759Z",
     "iopub.status.idle": "2021-05-26T11:19:37.249895Z",
     "shell.execute_reply": "2021-05-26T11:19:37.249357Z",
     "shell.execute_reply.started": "2021-05-26T07:18:37.935888Z"
    },
    "papermill": {
     "duration": 0.297176,
     "end_time": "2021-05-26T11:19:37.250029",
     "exception": false,
     "start_time": "2021-05-26T11:19:36.952853",
     "status": "completed"
    },
    "tags": []
   },
   "outputs": [
    {
     "data": {
      "image/png": "[encoded data removed]",
      "text/plain": [
       "<Figure size 1080x720 with 1 Axes>"
      ]
     },
     "metadata": {
      "needs_background": "light"
     },
     "output_type": "display_data"
    }
   ],
   "source": [
    "NumericData = data_missing[[feature for feature in numerical_features if feature not in []]]\n",
    "NumericMelt = NumericData.melt()\n",
    "plt.figure(figsize=(15,10))\n",
    "plt.title(\"Boxplots for Numerical variables\")\n",
    "bp = sns.boxplot(x='variable', y='value', data=NumericMelt)\n",
    "bp.set_xticklabels(bp.get_xticklabels(), rotation=90)\n",
    "plt.show()"
   ]
  },
  {
   "cell_type": "code",
   "execution_count": 19,
   "id": "elementary-cream",
   "metadata": {
    "execution": {
     "iopub.execute_input": "2021-05-26T11:19:37.441998Z",
     "iopub.status.busy": "2021-05-26T11:19:37.441175Z",
     "iopub.status.idle": "2021-05-26T11:19:37.457533Z",
     "shell.execute_reply": "2021-05-26T11:19:37.456989Z",
     "shell.execute_reply.started": "2021-05-26T07:18:38.52777Z"
    },
    "papermill": {
     "duration": 0.115934,
     "end_time": "2021-05-26T11:19:37.457682",
     "exception": false,
     "start_time": "2021-05-26T11:19:37.341748",
     "status": "completed"
    },
    "tags": []
   },
   "outputs": [
    {
     "data": {
      "text/plain": [
       "{'Age': 1.14, 'Work_Experience': 2.64, 'Family_Size': 1.2}"
      ]
     },
     "execution_count": 19,
     "metadata": {},
     "output_type": "execute_result"
    }
   ],
   "source": [
    "# Percentage of outliers present in each variable\n",
    "outlier_percentage = {}\n",
    "for feature in numerical_features:\n",
    "    tempData = data_missing.sort_values(by=feature)[feature]\n",
    "    Q1, Q3 = tempData.quantile([0.25, 0.75])\n",
    "    IQR = Q3 - Q1\n",
    "    Lower_range = Q1 - (1.5 * IQR)\n",
    "    Upper_range = Q3 + (1.5 * IQR)\n",
    "    outlier_percentage[feature] = round((((tempData<(Q1 - 1.5 * IQR)) | (tempData>(Q3 + 1.5 * IQR))).sum()/tempData.shape[0])*100,2)\n",
    "outlier_percentage"
   ]
  },
  {
   "cell_type": "markdown",
   "id": "solar-reasoning",
   "metadata": {
    "papermill": {
     "duration": 0.092173,
     "end_time": "2021-05-26T11:19:37.644859",
     "exception": false,
     "start_time": "2021-05-26T11:19:37.552686",
     "status": "completed"
    },
    "tags": []
   },
   "source": [
    "# Handling Categorical Features (Label and One Hot Encoding)"
   ]
  },
  {
   "cell_type": "code",
   "execution_count": 20,
   "id": "structured-edwards",
   "metadata": {
    "execution": {
     "iopub.execute_input": "2021-05-26T11:19:37.842822Z",
     "iopub.status.busy": "2021-05-26T11:19:37.841670Z",
     "iopub.status.idle": "2021-05-26T11:19:37.887242Z",
     "shell.execute_reply": "2021-05-26T11:19:37.887812Z",
     "shell.execute_reply.started": "2021-05-26T11:10:27.420313Z"
    },
    "papermill": {
     "duration": 0.150098,
     "end_time": "2021-05-26T11:19:37.887991",
     "exception": false,
     "start_time": "2021-05-26T11:19:37.737893",
     "status": "completed"
    },
    "tags": []
   },
   "outputs": [],
   "source": [
    "df = data_missing.copy()\n",
    "path = '/kaggle/working'\n",
    "for i, feature in enumerate(categorical_features):\n",
    "    \n",
    "    le = LabelEncoder()\n",
    "    ohe = OneHotEncoder(sparse=False)\n",
    "\n",
    "    # create directory to save label encoding models\n",
    "    if not os.path.exists(os.path.join(path, \"TextEncoding\")):\n",
    "        os.makedirs(os.path.join(path, \"TextEncoding\"))\n",
    "\n",
    "    # perform label encoding\n",
    "    le.fit(df[feature])\n",
    "    # save the encoder\n",
    "    joblib.dump(le, open(os.path.join(path, \"TextEncoding/le_{}.sav\".format(feature)), 'wb'))\n",
    "    \n",
    "    # transfrom training data\n",
    "    df[feature] = le.transform(df[feature])\n",
    "\n",
    "    # get classes & remove first column to elude from dummy variable trap\n",
    "    columns = list(map(lambda x: feature+' '+str(x), list(le.classes_)))[1:]\n",
    "    \n",
    "    # save classes\n",
    "    joblib.dump(columns, \n",
    "                open(os.path.join(path, \"TextEncoding/le_{}_classes.sav\".format(feature)), 'wb'))\n",
    "    # load classes\n",
    "    columns = joblib.load(\n",
    "        open(os.path.join(path, \"TextEncoding/le_{}_classes.sav\".format(feature)), 'rb'))\n",
    "\n",
    "    if len(le.classes_)>2:\n",
    "        # perform one hot encoding\n",
    "        ohe.fit(df[[feature]])\n",
    "        # save the encoder\n",
    "        joblib.dump(ohe, open(os.path.join(path, \"TextEncoding/ohe_{}.sav\".format(feature)), 'wb'))\n",
    "\n",
    "        # transfrom training data\n",
    "        # removing first column of encoded data to elude from dummy variable trap\n",
    "        tempData = ohe.transform(df[[feature]])[:, 1:]\n",
    "\n",
    "        # create Dataframe with columns as classes\n",
    "        tempData = pd.DataFrame(tempData, columns=columns)\n",
    "    else:\n",
    "        tempData = df[[feature]]\n",
    "    \n",
    "    # create dataframe with all the label encoded categorical features along with hot encoding\n",
    "    if i==0:\n",
    "        encodedData = pd.DataFrame(data=tempData, columns=tempData.columns.values.tolist())\n",
    "    else:\n",
    "        encodedData = pd.concat([encodedData, tempData], axis=1)"
   ]
  },
  {
   "cell_type": "code",
   "execution_count": 21,
   "id": "indoor-climate",
   "metadata": {
    "execution": {
     "iopub.execute_input": "2021-05-26T11:19:38.078257Z",
     "iopub.status.busy": "2021-05-26T11:19:38.077014Z",
     "iopub.status.idle": "2021-05-26T11:19:38.096382Z",
     "shell.execute_reply": "2021-05-26T11:19:38.096884Z",
     "shell.execute_reply.started": "2021-05-26T11:10:29.148736Z"
    },
    "papermill": {
     "duration": 0.115906,
     "end_time": "2021-05-26T11:19:38.097055",
     "exception": false,
     "start_time": "2021-05-26T11:19:37.981149",
     "status": "completed"
    },
    "tags": []
   },
   "outputs": [
    {
     "name": "stdout",
     "output_type": "stream",
     "text": [
      "<class 'pandas.core.frame.DataFrame'>\n",
      "RangeIndex: 6665 entries, 0 to 6664\n",
      "Data columns (total 23 columns):\n",
      " #   Column                    Non-Null Count  Dtype  \n",
      "---  ------                    --------------  -----  \n",
      " 0   Age                       6665 non-null   int64  \n",
      " 1   Work_Experience           6665 non-null   float64\n",
      " 2   Family_Size               6665 non-null   float64\n",
      " 3   Segmentation              6665 non-null   object \n",
      " 4   Gender                    6665 non-null   int64  \n",
      " 5   Ever_Married              6665 non-null   int64  \n",
      " 6   Graduated                 6665 non-null   int64  \n",
      " 7   Profession Doctor         6665 non-null   float64\n",
      " 8   Profession Engineer       6665 non-null   float64\n",
      " 9   Profession Entertainment  6665 non-null   float64\n",
      " 10  Profession Executive      6665 non-null   float64\n",
      " 11  Profession Healthcare     6665 non-null   float64\n",
      " 12  Profession Homemaker      6665 non-null   float64\n",
      " 13  Profession Lawyer         6665 non-null   float64\n",
      " 14  Profession Marketing      6665 non-null   float64\n",
      " 15  Spending_Score High       6665 non-null   float64\n",
      " 16  Spending_Score Low        6665 non-null   float64\n",
      " 17  Var_1 Cat_2               6665 non-null   float64\n",
      " 18  Var_1 Cat_3               6665 non-null   float64\n",
      " 19  Var_1 Cat_4               6665 non-null   float64\n",
      " 20  Var_1 Cat_5               6665 non-null   float64\n",
      " 21  Var_1 Cat_6               6665 non-null   float64\n",
      " 22  Var_1 Cat_7               6665 non-null   float64\n",
      "dtypes: float64(18), int64(4), object(1)\n",
      "memory usage: 1.2+ MB\n"
     ]
    }
   ],
   "source": [
    "# merge numerical features and categorical encoded features\n",
    "df = df[numerical_features+['Segmentation']]\n",
    "df = pd.concat([df, encodedData], axis=1)\n",
    "df.info()"
   ]
  },
  {
   "cell_type": "markdown",
   "id": "direct-charge",
   "metadata": {
    "papermill": {
     "duration": 0.093129,
     "end_time": "2021-05-26T11:19:38.284934",
     "exception": false,
     "start_time": "2021-05-26T11:19:38.191805",
     "status": "completed"
    },
    "tags": []
   },
   "source": [
    "# Training Model"
   ]
  },
  {
   "cell_type": "code",
   "execution_count": 22,
   "id": "downtown-timber",
   "metadata": {
    "execution": {
     "iopub.execute_input": "2021-05-26T11:19:38.475718Z",
     "iopub.status.busy": "2021-05-26T11:19:38.474641Z",
     "iopub.status.idle": "2021-05-26T11:19:38.705876Z",
     "shell.execute_reply": "2021-05-26T11:19:38.705247Z",
     "shell.execute_reply.started": "2021-05-26T11:10:31.954467Z"
    },
    "papermill": {
     "duration": 0.327585,
     "end_time": "2021-05-26T11:19:38.706031",
     "exception": false,
     "start_time": "2021-05-26T11:19:38.378446",
     "status": "completed"
    },
    "tags": []
   },
   "outputs": [],
   "source": [
    "from sklearn.model_selection import train_test_split, cross_val_score\n",
    "from sklearn.linear_model import LogisticRegression\n",
    "from sklearn import metrics, preprocessing\n",
    "from sklearn.metrics import classification_report\n",
    "from sklearn.metrics import confusion_matrix\n",
    "from sklearn.metrics import accuracy_score\n",
    "from sklearn.preprocessing import MinMaxScaler, StandardScaler\n",
    "from xgboost import XGBClassifier"
   ]
  },
  {
   "cell_type": "code",
   "execution_count": 23,
   "id": "beginning-peninsula",
   "metadata": {
    "execution": {
     "iopub.execute_input": "2021-05-26T11:19:38.898875Z",
     "iopub.status.busy": "2021-05-26T11:19:38.898150Z",
     "iopub.status.idle": "2021-05-26T11:19:38.958484Z",
     "shell.execute_reply": "2021-05-26T11:19:38.957870Z",
     "shell.execute_reply.started": "2021-05-26T11:10:37.732622Z"
    },
    "papermill": {
     "duration": 0.159326,
     "end_time": "2021-05-26T11:19:38.958666",
     "exception": false,
     "start_time": "2021-05-26T11:19:38.799340",
     "status": "completed"
    },
    "tags": []
   },
   "outputs": [
    {
     "name": "stdout",
     "output_type": "stream",
     "text": [
      "features used-  ['Age', 'Work_Experience', 'Family_Size', 'Gender', 'Ever_Married', 'Graduated', 'Profession Doctor', 'Profession Engineer', 'Profession Entertainment', 'Profession Executive', 'Profession Healthcare', 'Profession Homemaker', 'Profession Lawyer', 'Profession Marketing', 'Spending_Score High', 'Spending_Score Low', 'Var_1 Cat_2', 'Var_1 Cat_3', 'Var_1 Cat_4', 'Var_1 Cat_5', 'Var_1 Cat_6', 'Var_1 Cat_7']\n"
     ]
    }
   ],
   "source": [
    "train_data = df.copy()\n",
    "feature_cols = [feature for feature in train_data.columns if feature not in(['Segmentation'])]\n",
    "print('features used- ', feature_cols)\n",
    "\n",
    "''' Rescaling to [0,1] '''\n",
    "scaler = StandardScaler()\n",
    "scaler.fit(train_data[feature_cols])\n",
    "train_data[feature_cols] = scaler.transform(train_data[feature_cols])"
   ]
  },
  {
   "cell_type": "code",
   "execution_count": 24,
   "id": "usual-intensity",
   "metadata": {
    "execution": {
     "iopub.execute_input": "2021-05-26T11:19:39.157522Z",
     "iopub.status.busy": "2021-05-26T11:19:39.156483Z",
     "iopub.status.idle": "2021-05-26T11:19:39.168493Z",
     "shell.execute_reply": "2021-05-26T11:19:39.167848Z",
     "shell.execute_reply.started": "2021-05-26T11:10:40.879431Z"
    },
    "papermill": {
     "duration": 0.115055,
     "end_time": "2021-05-26T11:19:39.168628",
     "exception": false,
     "start_time": "2021-05-26T11:19:39.053573",
     "status": "completed"
    },
    "tags": []
   },
   "outputs": [],
   "source": [
    "train_data['Segmentation'] = train_data['Segmentation'].map({'A':0, 'B':1, 'C':2, 'D':3})\n",
    "X = train_data[feature_cols]\n",
    "y = train_data['Segmentation']\n",
    "\n",
    "validation_size = 0.25\n",
    "X_train, X_test, y_train, y_test = train_test_split(X, y, test_size=validation_size, \n",
    "                                                    random_state=0, stratify=y)"
   ]
  },
  {
   "cell_type": "markdown",
   "id": "removed-crisis",
   "metadata": {
    "papermill": {
     "duration": 0.09415,
     "end_time": "2021-05-26T11:19:39.357061",
     "exception": false,
     "start_time": "2021-05-26T11:19:39.262911",
     "status": "completed"
    },
    "tags": []
   },
   "source": [
    "# Model 1: Logistic Regression"
   ]
  },
  {
   "cell_type": "code",
   "execution_count": 25,
   "id": "armed-jaguar",
   "metadata": {
    "execution": {
     "iopub.execute_input": "2021-05-26T11:19:39.596060Z",
     "iopub.status.busy": "2021-05-26T11:19:39.595089Z",
     "iopub.status.idle": "2021-05-26T11:19:39.751212Z",
     "shell.execute_reply": "2021-05-26T11:19:39.752123Z",
     "shell.execute_reply.started": "2021-05-26T11:10:43.204815Z"
    },
    "papermill": {
     "duration": 0.301381,
     "end_time": "2021-05-26T11:19:39.752412",
     "exception": false,
     "start_time": "2021-05-26T11:19:39.451031",
     "status": "completed"
    },
    "tags": []
   },
   "outputs": [
    {
     "data": {
      "text/plain": [
       "LogisticRegression()"
      ]
     },
     "execution_count": 25,
     "metadata": {},
     "output_type": "execute_result"
    }
   ],
   "source": [
    "model = LogisticRegression()\n",
    "model.fit(X_train, y_train)"
   ]
  },
  {
   "cell_type": "code",
   "execution_count": 26,
   "id": "bizarre-fortune",
   "metadata": {
    "execution": {
     "iopub.execute_input": "2021-05-26T11:19:39.999304Z",
     "iopub.status.busy": "2021-05-26T11:19:39.998284Z",
     "iopub.status.idle": "2021-05-26T11:19:40.058306Z",
     "shell.execute_reply": "2021-05-26T11:19:40.059289Z",
     "shell.execute_reply.started": "2021-05-26T11:10:43.981290Z"
    },
    "papermill": {
     "duration": 0.163274,
     "end_time": "2021-05-26T11:19:40.059603",
     "exception": false,
     "start_time": "2021-05-26T11:19:39.896329",
     "status": "completed"
    },
    "tags": []
   },
   "outputs": [
    {
     "name": "stdout",
     "output_type": "stream",
     "text": [
      "Train metrics...\n",
      "[[609 150 235 218]\n",
      " [339 267 453 120]\n",
      " [168 157 810 155]\n",
      " [270  69  64 914]]\n",
      "              precision    recall  f1-score   support\n",
      "\n",
      "           0       0.44      0.50      0.47      1212\n",
      "           1       0.42      0.23      0.29      1179\n",
      "           2       0.52      0.63      0.57      1290\n",
      "           3       0.65      0.69      0.67      1317\n",
      "\n",
      "    accuracy                           0.52      4998\n",
      "   macro avg       0.51      0.51      0.50      4998\n",
      "weighted avg       0.51      0.52      0.51      4998\n",
      "\n",
      "Validation metrics...\n",
      "[[211  54  70  69]\n",
      " [120  90 135  48]\n",
      " [ 54  40 285  51]\n",
      " [ 96  22  19 303]]\n",
      "              precision    recall  f1-score   support\n",
      "\n",
      "           0       0.44      0.52      0.48       404\n",
      "           1       0.44      0.23      0.30       393\n",
      "           2       0.56      0.66      0.61       430\n",
      "           3       0.64      0.69      0.67       440\n",
      "\n",
      "    accuracy                           0.53      1667\n",
      "   macro avg       0.52      0.53      0.51      1667\n",
      "weighted avg       0.52      0.53      0.52      1667\n",
      "\n"
     ]
    }
   ],
   "source": [
    "y_pred = model.predict(X_train)\n",
    "\n",
    "print('Train metrics...')\n",
    "print(confusion_matrix(y_train, y_pred))\n",
    "print(classification_report(y_train, y_pred))\n",
    "\n",
    "y_pred = model.predict(X_test)\n",
    "\n",
    "print('Validation metrics...')\n",
    "print(confusion_matrix(y_test, y_pred))\n",
    "print(classification_report(y_test, y_pred))"
   ]
  },
  {
   "cell_type": "code",
   "execution_count": 27,
   "id": "copyrighted-spare",
   "metadata": {
    "execution": {
     "iopub.execute_input": "2021-05-26T11:19:40.288596Z",
     "iopub.status.busy": "2021-05-26T11:19:40.287577Z",
     "iopub.status.idle": "2021-05-26T11:19:40.347512Z",
     "shell.execute_reply": "2021-05-26T11:19:40.348557Z",
     "shell.execute_reply.started": "2021-05-26T11:10:50.606696Z"
    },
    "papermill": {
     "duration": 0.165871,
     "end_time": "2021-05-26T11:19:40.348870",
     "exception": false,
     "start_time": "2021-05-26T11:19:40.182999",
     "status": "completed"
    },
    "tags": []
   },
   "outputs": [
    {
     "data": {
      "text/html": [
       "<div>\n",
       "<style scoped>\n",
       "    .dataframe tbody tr th:only-of-type {\n",
       "        vertical-align: middle;\n",
       "    }\n",
       "\n",
       "    .dataframe tbody tr th {\n",
       "        vertical-align: top;\n",
       "    }\n",
       "\n",
       "    .dataframe thead tr th {\n",
       "        text-align: left;\n",
       "    }\n",
       "</style>\n",
       "<table border=\"1\" class=\"dataframe\">\n",
       "  <thead>\n",
       "    <tr>\n",
       "      <th></th>\n",
       "      <th></th>\n",
       "      <th colspan=\"4\" halign=\"left\">predicted Segmentation</th>\n",
       "    </tr>\n",
       "    <tr>\n",
       "      <th></th>\n",
       "      <th></th>\n",
       "      <th>A</th>\n",
       "      <th>B</th>\n",
       "      <th>C</th>\n",
       "      <th>D</th>\n",
       "    </tr>\n",
       "  </thead>\n",
       "  <tbody>\n",
       "    <tr>\n",
       "      <th rowspan=\"4\" valign=\"top\">actual Segmentation</th>\n",
       "      <th>A</th>\n",
       "      <td>820</td>\n",
       "      <td>204</td>\n",
       "      <td>305</td>\n",
       "      <td>287</td>\n",
       "    </tr>\n",
       "    <tr>\n",
       "      <th>B</th>\n",
       "      <td>459</td>\n",
       "      <td>357</td>\n",
       "      <td>588</td>\n",
       "      <td>168</td>\n",
       "    </tr>\n",
       "    <tr>\n",
       "      <th>C</th>\n",
       "      <td>222</td>\n",
       "      <td>197</td>\n",
       "      <td>1095</td>\n",
       "      <td>206</td>\n",
       "    </tr>\n",
       "    <tr>\n",
       "      <th>D</th>\n",
       "      <td>366</td>\n",
       "      <td>91</td>\n",
       "      <td>83</td>\n",
       "      <td>1217</td>\n",
       "    </tr>\n",
       "  </tbody>\n",
       "</table>\n",
       "</div>"
      ],
      "text/plain": [
       "                      predicted Segmentation                 \n",
       "                                           A    B     C     D\n",
       "actual Segmentation A                    820  204   305   287\n",
       "                    B                    459  357   588   168\n",
       "                    C                    222  197  1095   206\n",
       "                    D                    366   91    83  1217"
      ]
     },
     "metadata": {},
     "output_type": "display_data"
    },
    {
     "name": "stdout",
     "output_type": "stream",
     "text": [
      "              precision    recall  f1-score   support\n",
      "\n",
      "           0       0.44      0.51      0.47      1616\n",
      "           1       0.42      0.23      0.29      1572\n",
      "           2       0.53      0.64      0.58      1720\n",
      "           3       0.65      0.69      0.67      1757\n",
      "\n",
      "    accuracy                           0.52      6665\n",
      "   macro avg       0.51      0.52      0.50      6665\n",
      "weighted avg       0.51      0.52      0.51      6665\n",
      "\n"
     ]
    }
   ],
   "source": [
    "''' metrics on original data '''\n",
    "y_pred = model.predict(train_data[feature_cols])\n",
    "\n",
    "def make_cm(matrix, columns):\n",
    "    n = len(columns)\n",
    "    act = ['actual Segmentation'] * n\n",
    "    pred = ['predicted Segmentation'] * n\n",
    "\n",
    "    cm = pd.DataFrame(matrix, \n",
    "        columns=[pred, columns], index=[act, columns])\n",
    "    return cm\n",
    "\n",
    "df_matrix=make_cm(\n",
    "    confusion_matrix(train_data['Segmentation'], y_pred),['A', 'B', 'C', 'D'])\n",
    "\n",
    "display(df_matrix)\n",
    "print(classification_report(train_data['Segmentation'], y_pred))"
   ]
  },
  {
   "cell_type": "markdown",
   "id": "capital-sauce",
   "metadata": {
    "papermill": {
     "duration": 0.094689,
     "end_time": "2021-05-26T11:19:40.565510",
     "exception": false,
     "start_time": "2021-05-26T11:19:40.470821",
     "status": "completed"
    },
    "tags": []
   },
   "source": [
    "# Model 2: XGB"
   ]
  },
  {
   "cell_type": "code",
   "execution_count": 28,
   "id": "auburn-portrait",
   "metadata": {
    "execution": {
     "iopub.execute_input": "2021-05-26T11:19:40.762158Z",
     "iopub.status.busy": "2021-05-26T11:19:40.761509Z",
     "iopub.status.idle": "2021-05-26T11:19:45.954108Z",
     "shell.execute_reply": "2021-05-26T11:19:45.953536Z",
     "shell.execute_reply.started": "2021-05-26T11:10:54.498198Z"
    },
    "papermill": {
     "duration": 5.292704,
     "end_time": "2021-05-26T11:19:45.954249",
     "exception": false,
     "start_time": "2021-05-26T11:19:40.661545",
     "status": "completed"
    },
    "tags": []
   },
   "outputs": [
    {
     "data": {
      "text/plain": [
       "XGBClassifier(base_score=0.5, booster='gbtree', colsample_bylevel=1,\n",
       "              colsample_bynode=1, colsample_bytree=1, gamma=0, gpu_id=-1,\n",
       "              importance_type='gain', interaction_constraints='',\n",
       "              learning_rate=0.05, max_delta_step=0, max_depth=3,\n",
       "              min_child_weight=5, missing=nan, monotone_constraints='()',\n",
       "              n_estimators=1000, n_jobs=4, num_parallel_tree=1,\n",
       "              objective='multi:softprob', random_state=7, reg_alpha=0.5,\n",
       "              reg_lambda=1.5, scale_pos_weight=None, subsample=1,\n",
       "              tree_method='exact', use_label_encoder=False,\n",
       "              validate_parameters=1, verbosity=None)"
      ]
     },
     "execution_count": 28,
     "metadata": {},
     "output_type": "execute_result"
    }
   ],
   "source": [
    "model = XGBClassifier(\n",
    "    learning_rate=0.05, \n",
    "    max_depth=3,\n",
    "    min_child_weight=5, \n",
    "    n_estimators=1000, \n",
    "    random_state=7, \n",
    "    reg_lambda=1.5,\n",
    "    reg_alpha=0.5,\n",
    "    use_label_encoder=False\n",
    ")\n",
    "\n",
    "model.fit(X_train, y_train,\n",
    "          eval_metric='mlogloss',\n",
    "          verbose=False)"
   ]
  },
  {
   "cell_type": "code",
   "execution_count": 29,
   "id": "stone-archives",
   "metadata": {
    "execution": {
     "iopub.execute_input": "2021-05-26T11:19:46.153164Z",
     "iopub.status.busy": "2021-05-26T11:19:46.152109Z",
     "iopub.status.idle": "2021-05-26T11:19:46.307251Z",
     "shell.execute_reply": "2021-05-26T11:19:46.307866Z",
     "shell.execute_reply.started": "2021-05-26T11:11:00.675900Z"
    },
    "papermill": {
     "duration": 0.258171,
     "end_time": "2021-05-26T11:19:46.308045",
     "exception": false,
     "start_time": "2021-05-26T11:19:46.049874",
     "status": "completed"
    },
    "tags": []
   },
   "outputs": [
    {
     "name": "stdout",
     "output_type": "stream",
     "text": [
      "Train metrics...\n",
      "[[ 736  173  135  168]\n",
      " [ 234  513  313  119]\n",
      " [ 112  171  859  148]\n",
      " [ 204   64   27 1022]]\n",
      "              precision    recall  f1-score   support\n",
      "\n",
      "           0       0.57      0.61      0.59      1212\n",
      "           1       0.56      0.44      0.49      1179\n",
      "           2       0.64      0.67      0.65      1290\n",
      "           3       0.70      0.78      0.74      1317\n",
      "\n",
      "    accuracy                           0.63      4998\n",
      "   macro avg       0.62      0.62      0.62      4998\n",
      "weighted avg       0.62      0.63      0.62      4998\n",
      "\n",
      "Test metrics...\n",
      "[[191  89  45  79]\n",
      " [106 126 114  47]\n",
      " [ 42  73 265  50]\n",
      " [ 89  27  24 300]]\n",
      "              precision    recall  f1-score   support\n",
      "\n",
      "           0       0.45      0.47      0.46       404\n",
      "           1       0.40      0.32      0.36       393\n",
      "           2       0.59      0.62      0.60       430\n",
      "           3       0.63      0.68      0.66       440\n",
      "\n",
      "    accuracy                           0.53      1667\n",
      "   macro avg       0.52      0.52      0.52      1667\n",
      "weighted avg       0.52      0.53      0.52      1667\n",
      "\n"
     ]
    },
    {
     "name": "stderr",
     "output_type": "stream",
     "text": [
      "/opt/conda/lib/python3.7/site-packages/xgboost/data.py:114: UserWarning:\n",
      "\n",
      "Use subset (sliced data) of np.ndarray is not recommended because it will generate extra copies and increase memory consumption\n",
      "\n",
      "/opt/conda/lib/python3.7/site-packages/xgboost/data.py:114: UserWarning:\n",
      "\n",
      "Use subset (sliced data) of np.ndarray is not recommended because it will generate extra copies and increase memory consumption\n",
      "\n"
     ]
    }
   ],
   "source": [
    "y_pred = model.predict(X_train)\n",
    "\n",
    "print('Train metrics...')\n",
    "print(confusion_matrix(y_train, y_pred))\n",
    "print(classification_report(y_train, y_pred))\n",
    "\n",
    "y_pred = model.predict(X_test)\n",
    "\n",
    "print('Test metrics...')\n",
    "print(confusion_matrix(y_test, y_pred))\n",
    "print(classification_report(y_test, y_pred))"
   ]
  },
  {
   "cell_type": "code",
   "execution_count": 30,
   "id": "demographic-philosophy",
   "metadata": {
    "execution": {
     "iopub.execute_input": "2021-05-26T11:19:46.506383Z",
     "iopub.status.busy": "2021-05-26T11:19:46.505757Z",
     "iopub.status.idle": "2021-05-26T11:19:46.664880Z",
     "shell.execute_reply": "2021-05-26T11:19:46.664331Z",
     "shell.execute_reply.started": "2021-05-26T11:11:06.968120Z"
    },
    "papermill": {
     "duration": 0.259465,
     "end_time": "2021-05-26T11:19:46.665023",
     "exception": false,
     "start_time": "2021-05-26T11:19:46.405558",
     "status": "completed"
    },
    "tags": []
   },
   "outputs": [
    {
     "name": "stderr",
     "output_type": "stream",
     "text": [
      "/opt/conda/lib/python3.7/site-packages/xgboost/data.py:114: UserWarning:\n",
      "\n",
      "Use subset (sliced data) of np.ndarray is not recommended because it will generate extra copies and increase memory consumption\n",
      "\n"
     ]
    },
    {
     "data": {
      "text/html": [
       "<div>\n",
       "<style scoped>\n",
       "    .dataframe tbody tr th:only-of-type {\n",
       "        vertical-align: middle;\n",
       "    }\n",
       "\n",
       "    .dataframe tbody tr th {\n",
       "        vertical-align: top;\n",
       "    }\n",
       "\n",
       "    .dataframe thead tr th {\n",
       "        text-align: left;\n",
       "    }\n",
       "</style>\n",
       "<table border=\"1\" class=\"dataframe\">\n",
       "  <thead>\n",
       "    <tr>\n",
       "      <th></th>\n",
       "      <th></th>\n",
       "      <th colspan=\"4\" halign=\"left\">predicted Segmentation</th>\n",
       "    </tr>\n",
       "    <tr>\n",
       "      <th></th>\n",
       "      <th></th>\n",
       "      <th>A</th>\n",
       "      <th>B</th>\n",
       "      <th>C</th>\n",
       "      <th>D</th>\n",
       "    </tr>\n",
       "  </thead>\n",
       "  <tbody>\n",
       "    <tr>\n",
       "      <th rowspan=\"4\" valign=\"top\">actual Segmentation</th>\n",
       "      <th>A</th>\n",
       "      <td>927</td>\n",
       "      <td>262</td>\n",
       "      <td>180</td>\n",
       "      <td>247</td>\n",
       "    </tr>\n",
       "    <tr>\n",
       "      <th>B</th>\n",
       "      <td>340</td>\n",
       "      <td>639</td>\n",
       "      <td>427</td>\n",
       "      <td>166</td>\n",
       "    </tr>\n",
       "    <tr>\n",
       "      <th>C</th>\n",
       "      <td>154</td>\n",
       "      <td>244</td>\n",
       "      <td>1124</td>\n",
       "      <td>198</td>\n",
       "    </tr>\n",
       "    <tr>\n",
       "      <th>D</th>\n",
       "      <td>293</td>\n",
       "      <td>91</td>\n",
       "      <td>51</td>\n",
       "      <td>1322</td>\n",
       "    </tr>\n",
       "  </tbody>\n",
       "</table>\n",
       "</div>"
      ],
      "text/plain": [
       "                      predicted Segmentation                 \n",
       "                                           A    B     C     D\n",
       "actual Segmentation A                    927  262   180   247\n",
       "                    B                    340  639   427   166\n",
       "                    C                    154  244  1124   198\n",
       "                    D                    293   91    51  1322"
      ]
     },
     "metadata": {},
     "output_type": "display_data"
    },
    {
     "name": "stdout",
     "output_type": "stream",
     "text": [
      "              precision    recall  f1-score   support\n",
      "\n",
      "           0       0.54      0.57      0.56      1616\n",
      "           1       0.52      0.41      0.46      1572\n",
      "           2       0.63      0.65      0.64      1720\n",
      "           3       0.68      0.75      0.72      1757\n",
      "\n",
      "    accuracy                           0.60      6665\n",
      "   macro avg       0.59      0.60      0.59      6665\n",
      "weighted avg       0.60      0.60      0.60      6665\n",
      "\n"
     ]
    }
   ],
   "source": [
    "''' metrics on original data '''\n",
    "y_pred = model.predict(train_data[feature_cols])\n",
    "\n",
    "def make_cm(matrix, columns):\n",
    "    n = len(columns)\n",
    "    act = ['actual Segmentation'] * n\n",
    "    pred = ['predicted Segmentation'] * n\n",
    "\n",
    "    cm = pd.DataFrame(matrix, \n",
    "        columns=[pred, columns], index=[act, columns])\n",
    "    return cm\n",
    "\n",
    "df_matrix=make_cm(\n",
    "    confusion_matrix(train_data['Segmentation'], y_pred),['A', 'B', 'C', 'D'])\n",
    "\n",
    "display(df_matrix)\n",
    "print(classification_report(train_data['Segmentation'], y_pred))"
   ]
  },
  {
   "cell_type": "markdown",
   "id": "interim-science",
   "metadata": {
    "papermill": {
     "duration": 0.098443,
     "end_time": "2021-05-26T11:19:46.862129",
     "exception": false,
     "start_time": "2021-05-26T11:19:46.763686",
     "status": "completed"
    },
    "tags": []
   },
   "source": [
    "# Model 3: Deep Learning"
   ]
  },
  {
   "cell_type": "code",
   "execution_count": 31,
   "id": "qualified-knowing",
   "metadata": {
    "execution": {
     "iopub.execute_input": "2021-05-26T11:19:47.063449Z",
     "iopub.status.busy": "2021-05-26T11:19:47.062793Z",
     "iopub.status.idle": "2021-05-26T11:19:52.381094Z",
     "shell.execute_reply": "2021-05-26T11:19:52.381599Z",
     "shell.execute_reply.started": "2021-05-26T11:11:13.211048Z"
    },
    "papermill": {
     "duration": 5.421659,
     "end_time": "2021-05-26T11:19:52.381776",
     "exception": false,
     "start_time": "2021-05-26T11:19:46.960117",
     "status": "completed"
    },
    "tags": []
   },
   "outputs": [],
   "source": [
    "\n",
    "np.random.seed(123)  # for reproducibility\n",
    "\n",
    "import keras\n",
    "from keras.models import Sequential, Input, Model\n",
    "from keras.layers import Dense, Dropout"
   ]
  },
  {
   "cell_type": "code",
   "execution_count": 32,
   "id": "impaired-discrimination",
   "metadata": {
    "execution": {
     "iopub.execute_input": "2021-05-26T11:19:52.584415Z",
     "iopub.status.busy": "2021-05-26T11:19:52.583793Z",
     "iopub.status.idle": "2021-05-26T11:19:52.713025Z",
     "shell.execute_reply": "2021-05-26T11:19:52.713526Z",
     "shell.execute_reply.started": "2021-05-26T11:18:30.320275Z"
    },
    "papermill": {
     "duration": 0.234743,
     "end_time": "2021-05-26T11:19:52.713706",
     "exception": false,
     "start_time": "2021-05-26T11:19:52.478963",
     "status": "completed"
    },
    "tags": []
   },
   "outputs": [
    {
     "name": "stdout",
     "output_type": "stream",
     "text": [
      "Model: \"sequential\"\n",
      "_________________________________________________________________\n",
      "Layer (type)                 Output Shape              Param #   \n",
      "=================================================================\n",
      "dense (Dense)                (None, 64)                1472      \n",
      "_________________________________________________________________\n",
      "dropout (Dropout)            (None, 64)                0         \n",
      "_________________________________________________________________\n",
      "dense_1 (Dense)              (None, 32)                2080      \n",
      "_________________________________________________________________\n",
      "dropout_1 (Dropout)          (None, 32)                0         \n",
      "_________________________________________________________________\n",
      "dense_2 (Dense)              (None, 16)                528       \n",
      "_________________________________________________________________\n",
      "dropout_2 (Dropout)          (None, 16)                0         \n",
      "_________________________________________________________________\n",
      "dense_3 (Dense)              (None, 8)                 136       \n",
      "_________________________________________________________________\n",
      "dense_4 (Dense)              (None, 4)                 36        \n",
      "=================================================================\n",
      "Total params: 4,252\n",
      "Trainable params: 4,252\n",
      "Non-trainable params: 0\n",
      "_________________________________________________________________\n",
      "None\n"
     ]
    }
   ],
   "source": [
    "# Initialize the constructor\n",
    "model = Sequential()\n",
    "# Add an input layer \n",
    "# arguemtns of dense: output shape, activation, input shape\n",
    "# activation(define the output function) = [relu', 'tanh']\n",
    "model.add(Dense(64, activation='relu', input_shape=(len(feature_cols),)))\n",
    "model.add(Dropout(0.3))\n",
    "# Add one hidden layer \n",
    "# after first layer no need to give input shape\n",
    "model.add(Dense(32, activation='relu'))\n",
    "model.add(Dropout(0.3))\n",
    "model.add(Dense(16, activation='relu'))\n",
    "model.add(Dropout(0.3))\n",
    "model.add(Dense(8, activation='relu'))\n",
    "# Add an output layer \n",
    "# activation = [regression: 'linear', binary classification: 'sigmoid', multiclass: 'softmax']\n",
    "# threshold: >0 or <0\n",
    "# sigmoid: 1/(1+e^-x), usually applied in output layer\n",
    "# rectifier: max(x,0), usually applied in hidden layer: relu\n",
    "# hyperbolic tangent tanh: (1-e^-2x)/(1+e^-2x)\n",
    "model.add(Dense(4, activation='softmax'))\n",
    "\n",
    "# optimizer = ['SGD', 'RMSprop', 'Adagrad', 'Adadelta', 'Adam', 'Adamax', 'Nadam']\n",
    "# loss = [regression: 'mse', binary: 'binary_crossentropy', multi: 'categorical_crossentropy']\n",
    "model.compile(loss='categorical_crossentropy',\n",
    "              optimizer='RMSprop',\n",
    "              metrics=['accuracy']\n",
    "         )\n",
    "\n",
    "print(model.summary())"
   ]
  },
  {
   "cell_type": "code",
   "execution_count": 33,
   "id": "logical-heading",
   "metadata": {
    "execution": {
     "iopub.execute_input": "2021-05-26T11:19:52.918071Z",
     "iopub.status.busy": "2021-05-26T11:19:52.917244Z",
     "iopub.status.idle": "2021-05-26T11:20:07.982835Z",
     "shell.execute_reply": "2021-05-26T11:20:07.983364Z",
     "shell.execute_reply.started": "2021-05-26T11:18:31.313072Z"
    },
    "papermill": {
     "duration": 15.17143,
     "end_time": "2021-05-26T11:20:07.983541",
     "exception": false,
     "start_time": "2021-05-26T11:19:52.812111",
     "status": "completed"
    },
    "tags": []
   },
   "outputs": [
    {
     "name": "stdout",
     "output_type": "stream",
     "text": [
      "Epoch 1/150\n",
      "8/8 [==============================] - 2s 111ms/step - loss: 1.4294 - accuracy: 0.2535 - val_loss: 1.3601 - val_accuracy: 0.3250\n",
      "Epoch 2/150\n",
      "8/8 [==============================] - 0s 12ms/step - loss: 1.3782 - accuracy: 0.2919 - val_loss: 1.3356 - val_accuracy: 0.3550\n",
      "Epoch 3/150\n",
      "8/8 [==============================] - 0s 12ms/step - loss: 1.3669 - accuracy: 0.2921 - val_loss: 1.3160 - val_accuracy: 0.3670\n",
      "Epoch 4/150\n",
      "8/8 [==============================] - 0s 12ms/step - loss: 1.3455 - accuracy: 0.3148 - val_loss: 1.2984 - val_accuracy: 0.3700\n",
      "Epoch 5/150\n",
      "8/8 [==============================] - 0s 12ms/step - loss: 1.3171 - accuracy: 0.3304 - val_loss: 1.2825 - val_accuracy: 0.3760\n",
      "Epoch 6/150\n",
      "8/8 [==============================] - 0s 12ms/step - loss: 1.2983 - accuracy: 0.3594 - val_loss: 1.2667 - val_accuracy: 0.3800\n",
      "Epoch 7/150\n",
      "8/8 [==============================] - 0s 12ms/step - loss: 1.3002 - accuracy: 0.3616 - val_loss: 1.2539 - val_accuracy: 0.3930\n",
      "Epoch 8/150\n",
      "8/8 [==============================] - 0s 12ms/step - loss: 1.2829 - accuracy: 0.3636 - val_loss: 1.2410 - val_accuracy: 0.4220\n",
      "Epoch 9/150\n",
      "8/8 [==============================] - 0s 11ms/step - loss: 1.2656 - accuracy: 0.3854 - val_loss: 1.2274 - val_accuracy: 0.4540\n",
      "Epoch 10/150\n",
      "8/8 [==============================] - 0s 12ms/step - loss: 1.2573 - accuracy: 0.4069 - val_loss: 1.2159 - val_accuracy: 0.4580\n",
      "Epoch 11/150\n",
      "8/8 [==============================] - 0s 12ms/step - loss: 1.2452 - accuracy: 0.4231 - val_loss: 1.2061 - val_accuracy: 0.4500\n",
      "Epoch 12/150\n",
      "8/8 [==============================] - 0s 12ms/step - loss: 1.2318 - accuracy: 0.4386 - val_loss: 1.1971 - val_accuracy: 0.4520\n",
      "Epoch 13/150\n",
      "8/8 [==============================] - 0s 12ms/step - loss: 1.2239 - accuracy: 0.4335 - val_loss: 1.1913 - val_accuracy: 0.4600\n",
      "Epoch 14/150\n",
      "8/8 [==============================] - 0s 12ms/step - loss: 1.2345 - accuracy: 0.4370 - val_loss: 1.1847 - val_accuracy: 0.4630\n",
      "Epoch 15/150\n",
      "8/8 [==============================] - 0s 12ms/step - loss: 1.2259 - accuracy: 0.4334 - val_loss: 1.1810 - val_accuracy: 0.4710\n",
      "Epoch 16/150\n",
      "8/8 [==============================] - 0s 12ms/step - loss: 1.2016 - accuracy: 0.4553 - val_loss: 1.1739 - val_accuracy: 0.4800\n",
      "Epoch 17/150\n",
      "8/8 [==============================] - 0s 12ms/step - loss: 1.2091 - accuracy: 0.4467 - val_loss: 1.1700 - val_accuracy: 0.4750\n",
      "Epoch 18/150\n",
      "8/8 [==============================] - 0s 12ms/step - loss: 1.1882 - accuracy: 0.4515 - val_loss: 1.1654 - val_accuracy: 0.4810\n",
      "Epoch 19/150\n",
      "8/8 [==============================] - 0s 11ms/step - loss: 1.1831 - accuracy: 0.4605 - val_loss: 1.1630 - val_accuracy: 0.4890\n",
      "Epoch 20/150\n",
      "8/8 [==============================] - 0s 12ms/step - loss: 1.1790 - accuracy: 0.4656 - val_loss: 1.1575 - val_accuracy: 0.4990\n",
      "Epoch 21/150\n",
      "8/8 [==============================] - 0s 12ms/step - loss: 1.1982 - accuracy: 0.4586 - val_loss: 1.1536 - val_accuracy: 0.5020\n",
      "Epoch 22/150\n",
      "8/8 [==============================] - 0s 12ms/step - loss: 1.1832 - accuracy: 0.4563 - val_loss: 1.1508 - val_accuracy: 0.5010\n",
      "Epoch 23/150\n",
      "8/8 [==============================] - 0s 12ms/step - loss: 1.1773 - accuracy: 0.4722 - val_loss: 1.1468 - val_accuracy: 0.4990\n",
      "Epoch 24/150\n",
      "8/8 [==============================] - 0s 12ms/step - loss: 1.1837 - accuracy: 0.4617 - val_loss: 1.1443 - val_accuracy: 0.4950\n",
      "Epoch 25/150\n",
      "8/8 [==============================] - 0s 12ms/step - loss: 1.1559 - accuracy: 0.4875 - val_loss: 1.1407 - val_accuracy: 0.5030\n",
      "Epoch 26/150\n",
      "8/8 [==============================] - 0s 11ms/step - loss: 1.1608 - accuracy: 0.4767 - val_loss: 1.1373 - val_accuracy: 0.4980\n",
      "Epoch 27/150\n",
      "8/8 [==============================] - 0s 12ms/step - loss: 1.1597 - accuracy: 0.4923 - val_loss: 1.1351 - val_accuracy: 0.5060\n",
      "Epoch 28/150\n",
      "8/8 [==============================] - 0s 12ms/step - loss: 1.1373 - accuracy: 0.4866 - val_loss: 1.1325 - val_accuracy: 0.5030\n",
      "Epoch 29/150\n",
      "8/8 [==============================] - 0s 12ms/step - loss: 1.1514 - accuracy: 0.4812 - val_loss: 1.1310 - val_accuracy: 0.5070\n",
      "Epoch 30/150\n",
      "8/8 [==============================] - 0s 12ms/step - loss: 1.1458 - accuracy: 0.4820 - val_loss: 1.1293 - val_accuracy: 0.5050\n",
      "Epoch 31/150\n",
      "8/8 [==============================] - 0s 12ms/step - loss: 1.1479 - accuracy: 0.4869 - val_loss: 1.1269 - val_accuracy: 0.5070\n",
      "Epoch 32/150\n",
      "8/8 [==============================] - 0s 11ms/step - loss: 1.1442 - accuracy: 0.4805 - val_loss: 1.1250 - val_accuracy: 0.5030\n",
      "Epoch 33/150\n",
      "8/8 [==============================] - 0s 12ms/step - loss: 1.1401 - accuracy: 0.4766 - val_loss: 1.1244 - val_accuracy: 0.5000\n",
      "Epoch 34/150\n",
      "8/8 [==============================] - 0s 12ms/step - loss: 1.1304 - accuracy: 0.4884 - val_loss: 1.1233 - val_accuracy: 0.5000\n",
      "Epoch 35/150\n",
      "8/8 [==============================] - 0s 12ms/step - loss: 1.1312 - accuracy: 0.4896 - val_loss: 1.1216 - val_accuracy: 0.4980\n",
      "Epoch 36/150\n",
      "8/8 [==============================] - 0s 12ms/step - loss: 1.1483 - accuracy: 0.4806 - val_loss: 1.1198 - val_accuracy: 0.4970\n",
      "Epoch 37/150\n",
      "8/8 [==============================] - 0s 12ms/step - loss: 1.1364 - accuracy: 0.4898 - val_loss: 1.1180 - val_accuracy: 0.5000\n",
      "Epoch 38/150\n",
      "8/8 [==============================] - 0s 12ms/step - loss: 1.1435 - accuracy: 0.4924 - val_loss: 1.1177 - val_accuracy: 0.5000\n",
      "Epoch 39/150\n",
      "8/8 [==============================] - 0s 12ms/step - loss: 1.1353 - accuracy: 0.4886 - val_loss: 1.1160 - val_accuracy: 0.5060\n",
      "Epoch 40/150\n",
      "8/8 [==============================] - 0s 12ms/step - loss: 1.1235 - accuracy: 0.4985 - val_loss: 1.1159 - val_accuracy: 0.5030\n",
      "Epoch 41/150\n",
      "8/8 [==============================] - 0s 12ms/step - loss: 1.1130 - accuracy: 0.5093 - val_loss: 1.1144 - val_accuracy: 0.4950\n",
      "Epoch 42/150\n",
      "8/8 [==============================] - 0s 12ms/step - loss: 1.1361 - accuracy: 0.4966 - val_loss: 1.1131 - val_accuracy: 0.4950\n",
      "Epoch 43/150\n",
      "8/8 [==============================] - 0s 11ms/step - loss: 1.1162 - accuracy: 0.4914 - val_loss: 1.1134 - val_accuracy: 0.5040\n",
      "Epoch 44/150\n",
      "8/8 [==============================] - 0s 12ms/step - loss: 1.1175 - accuracy: 0.4947 - val_loss: 1.1117 - val_accuracy: 0.5000\n",
      "Epoch 45/150\n",
      "8/8 [==============================] - 0s 12ms/step - loss: 1.1011 - accuracy: 0.5161 - val_loss: 1.1102 - val_accuracy: 0.5040\n",
      "Epoch 46/150\n",
      "8/8 [==============================] - 0s 12ms/step - loss: 1.1157 - accuracy: 0.5059 - val_loss: 1.1087 - val_accuracy: 0.5040\n",
      "Epoch 47/150\n",
      "8/8 [==============================] - 0s 14ms/step - loss: 1.1046 - accuracy: 0.5185 - val_loss: 1.1077 - val_accuracy: 0.5000\n",
      "Epoch 48/150\n",
      "8/8 [==============================] - 0s 13ms/step - loss: 1.1110 - accuracy: 0.5109 - val_loss: 1.1071 - val_accuracy: 0.4990\n",
      "Epoch 49/150\n",
      "8/8 [==============================] - 0s 14ms/step - loss: 1.1009 - accuracy: 0.5035 - val_loss: 1.1056 - val_accuracy: 0.5010\n",
      "Epoch 50/150\n",
      "8/8 [==============================] - 0s 14ms/step - loss: 1.1055 - accuracy: 0.5090 - val_loss: 1.1049 - val_accuracy: 0.5020\n",
      "Epoch 51/150\n",
      "8/8 [==============================] - 0s 13ms/step - loss: 1.1197 - accuracy: 0.5074 - val_loss: 1.1042 - val_accuracy: 0.5060\n",
      "Epoch 52/150\n",
      "8/8 [==============================] - 0s 14ms/step - loss: 1.1077 - accuracy: 0.5138 - val_loss: 1.1035 - val_accuracy: 0.5040\n",
      "Epoch 53/150\n",
      "8/8 [==============================] - 0s 13ms/step - loss: 1.0938 - accuracy: 0.5034 - val_loss: 1.1038 - val_accuracy: 0.5110\n",
      "Epoch 54/150\n",
      "8/8 [==============================] - 0s 13ms/step - loss: 1.1035 - accuracy: 0.5110 - val_loss: 1.1048 - val_accuracy: 0.5120\n",
      "Epoch 55/150\n",
      "8/8 [==============================] - 0s 12ms/step - loss: 1.0980 - accuracy: 0.5073 - val_loss: 1.1038 - val_accuracy: 0.5050\n",
      "Epoch 56/150\n",
      "8/8 [==============================] - 0s 12ms/step - loss: 1.1206 - accuracy: 0.5084 - val_loss: 1.1036 - val_accuracy: 0.5090\n",
      "Epoch 57/150\n",
      "8/8 [==============================] - 0s 12ms/step - loss: 1.0965 - accuracy: 0.5165 - val_loss: 1.1027 - val_accuracy: 0.5120\n",
      "Epoch 58/150\n",
      "8/8 [==============================] - 0s 12ms/step - loss: 1.0986 - accuracy: 0.4991 - val_loss: 1.1014 - val_accuracy: 0.5060\n",
      "Epoch 59/150\n",
      "8/8 [==============================] - 0s 12ms/step - loss: 1.1006 - accuracy: 0.5138 - val_loss: 1.1007 - val_accuracy: 0.5090\n",
      "Epoch 60/150\n",
      "8/8 [==============================] - 0s 12ms/step - loss: 1.1009 - accuracy: 0.5254 - val_loss: 1.1007 - val_accuracy: 0.5180\n",
      "Epoch 61/150\n",
      "8/8 [==============================] - 0s 12ms/step - loss: 1.0999 - accuracy: 0.5179 - val_loss: 1.0996 - val_accuracy: 0.5050\n",
      "Epoch 62/150\n",
      "8/8 [==============================] - 0s 12ms/step - loss: 1.0904 - accuracy: 0.5195 - val_loss: 1.0992 - val_accuracy: 0.5060\n",
      "Epoch 63/150\n",
      "8/8 [==============================] - 0s 12ms/step - loss: 1.0986 - accuracy: 0.5250 - val_loss: 1.0973 - val_accuracy: 0.5050\n",
      "Epoch 64/150\n",
      "8/8 [==============================] - 0s 12ms/step - loss: 1.1013 - accuracy: 0.5104 - val_loss: 1.0969 - val_accuracy: 0.5140\n",
      "Epoch 65/150\n",
      "8/8 [==============================] - 0s 12ms/step - loss: 1.0860 - accuracy: 0.5196 - val_loss: 1.0968 - val_accuracy: 0.5190\n",
      "Epoch 66/150\n",
      "8/8 [==============================] - 0s 14ms/step - loss: 1.0815 - accuracy: 0.5190 - val_loss: 1.0976 - val_accuracy: 0.5170\n",
      "Epoch 67/150\n",
      "8/8 [==============================] - 0s 13ms/step - loss: 1.0987 - accuracy: 0.5052 - val_loss: 1.0971 - val_accuracy: 0.5170\n",
      "Epoch 68/150\n",
      "8/8 [==============================] - 0s 12ms/step - loss: 1.0603 - accuracy: 0.5283 - val_loss: 1.0974 - val_accuracy: 0.5160\n",
      "Epoch 69/150\n",
      "8/8 [==============================] - 0s 12ms/step - loss: 1.1037 - accuracy: 0.5226 - val_loss: 1.0965 - val_accuracy: 0.5150\n",
      "Epoch 70/150\n",
      "8/8 [==============================] - 0s 12ms/step - loss: 1.0895 - accuracy: 0.5182 - val_loss: 1.0971 - val_accuracy: 0.5140\n",
      "Epoch 71/150\n",
      "8/8 [==============================] - 0s 12ms/step - loss: 1.0858 - accuracy: 0.5154 - val_loss: 1.0969 - val_accuracy: 0.5170\n",
      "Epoch 72/150\n",
      "8/8 [==============================] - 0s 12ms/step - loss: 1.0880 - accuracy: 0.5241 - val_loss: 1.0965 - val_accuracy: 0.5200\n",
      "Epoch 73/150\n",
      "8/8 [==============================] - 0s 11ms/step - loss: 1.0796 - accuracy: 0.5210 - val_loss: 1.0972 - val_accuracy: 0.5230\n",
      "Epoch 74/150\n",
      "8/8 [==============================] - 0s 12ms/step - loss: 1.0817 - accuracy: 0.5201 - val_loss: 1.0965 - val_accuracy: 0.5240\n",
      "Epoch 75/150\n",
      "8/8 [==============================] - 0s 11ms/step - loss: 1.0643 - accuracy: 0.5319 - val_loss: 1.0966 - val_accuracy: 0.5210\n",
      "Epoch 76/150\n",
      "8/8 [==============================] - 0s 12ms/step - loss: 1.0700 - accuracy: 0.5415 - val_loss: 1.0963 - val_accuracy: 0.5200\n",
      "Epoch 77/150\n",
      "8/8 [==============================] - 0s 12ms/step - loss: 1.0916 - accuracy: 0.5189 - val_loss: 1.0958 - val_accuracy: 0.5230\n",
      "Epoch 78/150\n",
      "8/8 [==============================] - 0s 12ms/step - loss: 1.0644 - accuracy: 0.5322 - val_loss: 1.0957 - val_accuracy: 0.5210\n",
      "Epoch 79/150\n",
      "8/8 [==============================] - 0s 12ms/step - loss: 1.0930 - accuracy: 0.5318 - val_loss: 1.0955 - val_accuracy: 0.5220\n",
      "Epoch 80/150\n",
      "8/8 [==============================] - 0s 12ms/step - loss: 1.0805 - accuracy: 0.5193 - val_loss: 1.0962 - val_accuracy: 0.5250\n",
      "Epoch 81/150\n",
      "8/8 [==============================] - 0s 12ms/step - loss: 1.0808 - accuracy: 0.5143 - val_loss: 1.0961 - val_accuracy: 0.5220\n",
      "Epoch 82/150\n",
      "8/8 [==============================] - 0s 12ms/step - loss: 1.0831 - accuracy: 0.5269 - val_loss: 1.0963 - val_accuracy: 0.5180\n",
      "Epoch 83/150\n",
      "8/8 [==============================] - 0s 12ms/step - loss: 1.0641 - accuracy: 0.5365 - val_loss: 1.0966 - val_accuracy: 0.5220\n",
      "Epoch 84/150\n",
      "8/8 [==============================] - 0s 12ms/step - loss: 1.0811 - accuracy: 0.5188 - val_loss: 1.0961 - val_accuracy: 0.5200\n",
      "Epoch 85/150\n",
      "8/8 [==============================] - 0s 12ms/step - loss: 1.0624 - accuracy: 0.5361 - val_loss: 1.0949 - val_accuracy: 0.5230\n",
      "Epoch 86/150\n",
      "8/8 [==============================] - 0s 12ms/step - loss: 1.0860 - accuracy: 0.5140 - val_loss: 1.0944 - val_accuracy: 0.5260\n",
      "Epoch 87/150\n",
      "8/8 [==============================] - 0s 12ms/step - loss: 1.0711 - accuracy: 0.5194 - val_loss: 1.0948 - val_accuracy: 0.5330\n",
      "Epoch 88/150\n",
      "8/8 [==============================] - 0s 12ms/step - loss: 1.0731 - accuracy: 0.5344 - val_loss: 1.0950 - val_accuracy: 0.5280\n",
      "Epoch 89/150\n",
      "8/8 [==============================] - 0s 12ms/step - loss: 1.0691 - accuracy: 0.5358 - val_loss: 1.0941 - val_accuracy: 0.5300\n",
      "Epoch 90/150\n",
      "8/8 [==============================] - 0s 11ms/step - loss: 1.0710 - accuracy: 0.5262 - val_loss: 1.0943 - val_accuracy: 0.5270\n",
      "Epoch 91/150\n",
      "8/8 [==============================] - 0s 12ms/step - loss: 1.0667 - accuracy: 0.5349 - val_loss: 1.0929 - val_accuracy: 0.5290\n",
      "Epoch 92/150\n",
      "8/8 [==============================] - 0s 12ms/step - loss: 1.0665 - accuracy: 0.5273 - val_loss: 1.0937 - val_accuracy: 0.5230\n",
      "Epoch 93/150\n",
      "8/8 [==============================] - 0s 12ms/step - loss: 1.0730 - accuracy: 0.5221 - val_loss: 1.0944 - val_accuracy: 0.5220\n",
      "Epoch 94/150\n",
      "8/8 [==============================] - 0s 12ms/step - loss: 1.0760 - accuracy: 0.5287 - val_loss: 1.0941 - val_accuracy: 0.5230\n",
      "Epoch 95/150\n",
      "8/8 [==============================] - 0s 12ms/step - loss: 1.0627 - accuracy: 0.5258 - val_loss: 1.0944 - val_accuracy: 0.5270\n",
      "Epoch 96/150\n",
      "8/8 [==============================] - 0s 12ms/step - loss: 1.0697 - accuracy: 0.5401 - val_loss: 1.0939 - val_accuracy: 0.5350\n",
      "Epoch 97/150\n",
      "8/8 [==============================] - 0s 11ms/step - loss: 1.0716 - accuracy: 0.5260 - val_loss: 1.0956 - val_accuracy: 0.5260\n",
      "Epoch 98/150\n",
      "8/8 [==============================] - 0s 12ms/step - loss: 1.0690 - accuracy: 0.5197 - val_loss: 1.0939 - val_accuracy: 0.5280\n",
      "Epoch 99/150\n",
      "8/8 [==============================] - 0s 12ms/step - loss: 1.0618 - accuracy: 0.5334 - val_loss: 1.0943 - val_accuracy: 0.5330\n",
      "Epoch 100/150\n",
      "8/8 [==============================] - 0s 11ms/step - loss: 1.0658 - accuracy: 0.5192 - val_loss: 1.0955 - val_accuracy: 0.5310\n",
      "Epoch 101/150\n",
      "8/8 [==============================] - 0s 11ms/step - loss: 1.0683 - accuracy: 0.5209 - val_loss: 1.0956 - val_accuracy: 0.5300\n",
      "Epoch 102/150\n",
      "8/8 [==============================] - 0s 12ms/step - loss: 1.0595 - accuracy: 0.5326 - val_loss: 1.0934 - val_accuracy: 0.5270\n",
      "Epoch 103/150\n",
      "8/8 [==============================] - 0s 12ms/step - loss: 1.0339 - accuracy: 0.5421 - val_loss: 1.0922 - val_accuracy: 0.5290\n",
      "Epoch 104/150\n",
      "8/8 [==============================] - 0s 11ms/step - loss: 1.0782 - accuracy: 0.5249 - val_loss: 1.0933 - val_accuracy: 0.5310\n",
      "Epoch 105/150\n",
      "8/8 [==============================] - 0s 12ms/step - loss: 1.0639 - accuracy: 0.5354 - val_loss: 1.0938 - val_accuracy: 0.5340\n",
      "Epoch 106/150\n",
      "8/8 [==============================] - 0s 12ms/step - loss: 1.0553 - accuracy: 0.5356 - val_loss: 1.0930 - val_accuracy: 0.5320\n",
      "Epoch 107/150\n",
      "8/8 [==============================] - 0s 11ms/step - loss: 1.0619 - accuracy: 0.5373 - val_loss: 1.0930 - val_accuracy: 0.5300\n",
      "Epoch 108/150\n",
      "8/8 [==============================] - 0s 12ms/step - loss: 1.0495 - accuracy: 0.5411 - val_loss: 1.0938 - val_accuracy: 0.5320\n",
      "Epoch 109/150\n",
      "8/8 [==============================] - 0s 12ms/step - loss: 1.0575 - accuracy: 0.5292 - val_loss: 1.0954 - val_accuracy: 0.5270\n",
      "Epoch 110/150\n",
      "8/8 [==============================] - 0s 12ms/step - loss: 1.0518 - accuracy: 0.5572 - val_loss: 1.0942 - val_accuracy: 0.5320\n",
      "Epoch 111/150\n",
      "8/8 [==============================] - 0s 12ms/step - loss: 1.0623 - accuracy: 0.5423 - val_loss: 1.0930 - val_accuracy: 0.5300\n",
      "Epoch 112/150\n",
      "8/8 [==============================] - 0s 12ms/step - loss: 1.0494 - accuracy: 0.5433 - val_loss: 1.0930 - val_accuracy: 0.5340\n",
      "Epoch 113/150\n",
      "8/8 [==============================] - 0s 12ms/step - loss: 1.0657 - accuracy: 0.5319 - val_loss: 1.0929 - val_accuracy: 0.5340\n",
      "Epoch 114/150\n",
      "8/8 [==============================] - 0s 11ms/step - loss: 1.0528 - accuracy: 0.5295 - val_loss: 1.0929 - val_accuracy: 0.5330\n",
      "Epoch 115/150\n",
      "8/8 [==============================] - 0s 12ms/step - loss: 1.0746 - accuracy: 0.5284 - val_loss: 1.0931 - val_accuracy: 0.5330\n",
      "Epoch 116/150\n",
      "8/8 [==============================] - 0s 12ms/step - loss: 1.0619 - accuracy: 0.5334 - val_loss: 1.0930 - val_accuracy: 0.5320\n",
      "Epoch 117/150\n",
      "8/8 [==============================] - 0s 12ms/step - loss: 1.0422 - accuracy: 0.5491 - val_loss: 1.0931 - val_accuracy: 0.5330\n",
      "Epoch 118/150\n",
      "8/8 [==============================] - 0s 12ms/step - loss: 1.0569 - accuracy: 0.5297 - val_loss: 1.0929 - val_accuracy: 0.5380\n",
      "Epoch 119/150\n",
      "8/8 [==============================] - 0s 11ms/step - loss: 1.0481 - accuracy: 0.5355 - val_loss: 1.0933 - val_accuracy: 0.5320\n",
      "Epoch 120/150\n",
      "8/8 [==============================] - 0s 12ms/step - loss: 1.0502 - accuracy: 0.5493 - val_loss: 1.0945 - val_accuracy: 0.5330\n",
      "Epoch 121/150\n",
      "8/8 [==============================] - 0s 12ms/step - loss: 1.0530 - accuracy: 0.5478 - val_loss: 1.0937 - val_accuracy: 0.5290\n",
      "Epoch 122/150\n",
      "8/8 [==============================] - 0s 13ms/step - loss: 1.0514 - accuracy: 0.5410 - val_loss: 1.0916 - val_accuracy: 0.5330\n",
      "Epoch 123/150\n",
      "8/8 [==============================] - 0s 12ms/step - loss: 1.0512 - accuracy: 0.5317 - val_loss: 1.0931 - val_accuracy: 0.5340\n",
      "Epoch 124/150\n",
      "8/8 [==============================] - 0s 12ms/step - loss: 1.0466 - accuracy: 0.5292 - val_loss: 1.0929 - val_accuracy: 0.5330\n",
      "Epoch 125/150\n",
      "8/8 [==============================] - 0s 12ms/step - loss: 1.0602 - accuracy: 0.5234 - val_loss: 1.0925 - val_accuracy: 0.5320\n",
      "Epoch 126/150\n",
      "8/8 [==============================] - 0s 12ms/step - loss: 1.0512 - accuracy: 0.5438 - val_loss: 1.0943 - val_accuracy: 0.5300\n",
      "Epoch 127/150\n",
      "8/8 [==============================] - 0s 12ms/step - loss: 1.0560 - accuracy: 0.5333 - val_loss: 1.0931 - val_accuracy: 0.5320\n",
      "Epoch 128/150\n",
      "8/8 [==============================] - 0s 12ms/step - loss: 1.0504 - accuracy: 0.5299 - val_loss: 1.0933 - val_accuracy: 0.5330\n",
      "Epoch 129/150\n",
      "8/8 [==============================] - 0s 12ms/step - loss: 1.0501 - accuracy: 0.5446 - val_loss: 1.0932 - val_accuracy: 0.5310\n",
      "Epoch 130/150\n",
      "8/8 [==============================] - 0s 12ms/step - loss: 1.0564 - accuracy: 0.5332 - val_loss: 1.0930 - val_accuracy: 0.5340\n",
      "Epoch 131/150\n",
      "8/8 [==============================] - 0s 12ms/step - loss: 1.0548 - accuracy: 0.5321 - val_loss: 1.0929 - val_accuracy: 0.5380\n",
      "Epoch 132/150\n",
      "8/8 [==============================] - 0s 12ms/step - loss: 1.0605 - accuracy: 0.5299 - val_loss: 1.0925 - val_accuracy: 0.5320\n",
      "Epoch 133/150\n",
      "8/8 [==============================] - 0s 12ms/step - loss: 1.0439 - accuracy: 0.5390 - val_loss: 1.0947 - val_accuracy: 0.5340\n",
      "Epoch 134/150\n",
      "8/8 [==============================] - 0s 12ms/step - loss: 1.0489 - accuracy: 0.5372 - val_loss: 1.0931 - val_accuracy: 0.5320\n",
      "Epoch 135/150\n",
      "8/8 [==============================] - 0s 12ms/step - loss: 1.0277 - accuracy: 0.5415 - val_loss: 1.0939 - val_accuracy: 0.5330\n",
      "Epoch 136/150\n",
      "8/8 [==============================] - 0s 12ms/step - loss: 1.0455 - accuracy: 0.5350 - val_loss: 1.0921 - val_accuracy: 0.5320\n",
      "Epoch 137/150\n",
      "8/8 [==============================] - 0s 12ms/step - loss: 1.0431 - accuracy: 0.5409 - val_loss: 1.0913 - val_accuracy: 0.5280\n",
      "Epoch 138/150\n",
      "8/8 [==============================] - 0s 12ms/step - loss: 1.0453 - accuracy: 0.5339 - val_loss: 1.0922 - val_accuracy: 0.5290\n",
      "Epoch 139/150\n",
      "8/8 [==============================] - 0s 12ms/step - loss: 1.0376 - accuracy: 0.5554 - val_loss: 1.0937 - val_accuracy: 0.5310\n",
      "Epoch 140/150\n",
      "8/8 [==============================] - 0s 12ms/step - loss: 1.0347 - accuracy: 0.5417 - val_loss: 1.0936 - val_accuracy: 0.5280\n",
      "Epoch 141/150\n",
      "8/8 [==============================] - 0s 12ms/step - loss: 1.0463 - accuracy: 0.5440 - val_loss: 1.0930 - val_accuracy: 0.5330\n",
      "Epoch 142/150\n",
      "8/8 [==============================] - 0s 12ms/step - loss: 1.0432 - accuracy: 0.5350 - val_loss: 1.0937 - val_accuracy: 0.5330\n",
      "Epoch 143/150\n",
      "8/8 [==============================] - 0s 12ms/step - loss: 1.0350 - accuracy: 0.5413 - val_loss: 1.0938 - val_accuracy: 0.5250\n",
      "Epoch 144/150\n",
      "8/8 [==============================] - 0s 12ms/step - loss: 1.0396 - accuracy: 0.5446 - val_loss: 1.0938 - val_accuracy: 0.5210\n",
      "Epoch 145/150\n",
      "8/8 [==============================] - 0s 12ms/step - loss: 1.0496 - accuracy: 0.5441 - val_loss: 1.0935 - val_accuracy: 0.5230\n",
      "Epoch 146/150\n",
      "8/8 [==============================] - 0s 12ms/step - loss: 1.0399 - accuracy: 0.5455 - val_loss: 1.0940 - val_accuracy: 0.5280\n",
      "Epoch 147/150\n",
      "8/8 [==============================] - 0s 12ms/step - loss: 1.0517 - accuracy: 0.5363 - val_loss: 1.0929 - val_accuracy: 0.5270\n",
      "Epoch 148/150\n",
      "8/8 [==============================] - 0s 12ms/step - loss: 1.0423 - accuracy: 0.5384 - val_loss: 1.0936 - val_accuracy: 0.5260\n",
      "Epoch 149/150\n",
      "8/8 [==============================] - 0s 12ms/step - loss: 1.0350 - accuracy: 0.5442 - val_loss: 1.0944 - val_accuracy: 0.5300\n",
      "Epoch 150/150\n",
      "8/8 [==============================] - 0s 11ms/step - loss: 1.0494 - accuracy: 0.5357 - val_loss: 1.0933 - val_accuracy: 0.5300\n"
     ]
    }
   ],
   "source": [
    "fit = model.fit(X_train, pd.get_dummies(y_train), epochs=150, batch_size=500, verbose=1, validation_split=0.2)"
   ]
  },
  {
   "cell_type": "code",
   "execution_count": 34,
   "id": "conceptual-association",
   "metadata": {
    "execution": {
     "iopub.execute_input": "2021-05-26T11:20:08.370973Z",
     "iopub.status.busy": "2021-05-26T11:20:08.369996Z",
     "iopub.status.idle": "2021-05-26T11:20:08.806265Z",
     "shell.execute_reply": "2021-05-26T11:20:08.805684Z",
     "shell.execute_reply.started": "2021-05-26T11:18:47.933252Z"
    },
    "papermill": {
     "duration": 0.63182,
     "end_time": "2021-05-26T11:20:08.806437",
     "exception": false,
     "start_time": "2021-05-26T11:20:08.174617",
     "status": "completed"
    },
    "tags": []
   },
   "outputs": [
    {
     "name": "stdout",
     "output_type": "stream",
     "text": [
      "53/53 [==============================] - 0s 1ms/step - loss: 1.0584 - accuracy: 0.5279\n"
     ]
    },
    {
     "data": {
      "image/png": "[encoded data removed]",
      "text/plain": [
       "<Figure size 432x288 with 1 Axes>"
      ]
     },
     "metadata": {
      "needs_background": "light"
     },
     "output_type": "display_data"
    }
   ],
   "source": [
    "# Final evaluation of the model\n",
    "loss, accuracy = model.evaluate(X_test, pd.get_dummies(y_test), verbose=1)\n",
    "#print(\"Accuracy: \", accuracy*100, \"%\")\n",
    "\n",
    "# plot training vs validation for overfiiting\n",
    "plt.plot(fit.history['accuracy'], label='train accuracy')\n",
    "plt.plot(fit.history['val_accuracy'], label='validation accuracy')\n",
    "plt.plot(fit.history['loss'], label='train loss')\n",
    "plt.plot(fit.history['val_loss'], label='validation loss')\n",
    "plt.title('model_accuracy')\n",
    "plt.ylabel('accuracy')\n",
    "plt.xlabel('epoch')\n",
    "plt.legend(loc=0, bbox_to_anchor=[1,1])\n",
    "plt.show()"
   ]
  },
  {
   "cell_type": "code",
   "execution_count": null,
   "id": "statutory-nursing",
   "metadata": {
    "papermill": {
     "duration": 0.192116,
     "end_time": "2021-05-26T11:20:09.191567",
     "exception": false,
     "start_time": "2021-05-26T11:20:08.999451",
     "status": "completed"
    },
    "tags": []
   },
   "outputs": [],
   "source": []
  }
 ],
 "metadata": {
  "kernelspec": {
   "display_name": "Python 3",
   "language": "python",
   "name": "python3"
  },
  "language_info": {
   "codemirror_mode": {
    "name": "ipython",
    "version": 3
   },
   "file_extension": ".py",
   "mimetype": "text/x-python",
   "name": "python",
   "nbconvert_exporter": "python",
   "pygments_lexer": "ipython3",
   "version": "3.7.10"
  },
  "papermill": {
   "default_parameters": {},
   "duration": 52.869926,
   "end_time": "2021-05-26T11:20:11.206190",
   "environment_variables": {},
   "exception": null,
   "input_path": "__notebook__.ipynb",
   "output_path": "__notebook__.ipynb",
   "parameters": {},
   "start_time": "2021-05-26T11:19:18.336264",
   "version": "2.3.3"
  }
 },
 "nbformat": 4,
 "nbformat_minor": 5
}
